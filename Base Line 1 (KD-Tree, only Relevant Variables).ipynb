{
 "cells": [
  {
   "cell_type": "markdown",
   "metadata": {},
   "source": [
    "This Note-book considers KD-tree. It has recursive binary splits based on median values. Here, we consider 2 dimensions values."
   ]
  },
  {
   "cell_type": "code",
   "execution_count": 1,
   "metadata": {},
   "outputs": [],
   "source": [
    "import warnings\n",
    "warnings.filterwarnings('ignore')"
   ]
  },
  {
   "cell_type": "code",
   "execution_count": 2,
   "metadata": {},
   "outputs": [],
   "source": [
    "# 2 relevant variables + 2 irrelevant variables\n",
    "from RPTree import *\n",
    "from estimators import *\n",
    "from os import listdir\n",
    "from os.path import isfile, join\n",
    "import pandas as pd\n",
    "mypath = 'data/sampledNonLinData/2/2/2-2-0.45832/50RandomDatasetsFromNetworkWithNumSamples_0000000040/'\n",
    "def read_file(mypath):\n",
    "    onlyfiles = [f for f in listdir(mypath) if isfile(join(mypath, f))]\n",
    "    sublist = []\n",
    "    for each in onlyfiles:\n",
    "        sub = pd.read_csv(mypath + each)\n",
    "        sub.columns=['X1', 'X2', 'X3', 'X4', 'Y'] \n",
    "        sublist.append(sub)\n",
    "\n",
    "    df = pd.concat(sublist)\n",
    "    df = df[['X1', 'X2', 'Y']]\n",
    "    return df\n",
    "\n",
    "# df=read_file(mypath)\n",
    "# df"
   ]
  },
  {
   "cell_type": "code",
   "execution_count": 3,
   "metadata": {},
   "outputs": [
    {
     "data": {
      "text/html": [
       "<div>\n",
       "<style scoped>\n",
       "    .dataframe tbody tr th:only-of-type {\n",
       "        vertical-align: middle;\n",
       "    }\n",
       "\n",
       "    .dataframe tbody tr th {\n",
       "        vertical-align: top;\n",
       "    }\n",
       "\n",
       "    .dataframe thead th {\n",
       "        text-align: right;\n",
       "    }\n",
       "</style>\n",
       "<table border=\"1\" class=\"dataframe\">\n",
       "  <thead>\n",
       "    <tr style=\"text-align: right;\">\n",
       "      <th></th>\n",
       "      <th>X1</th>\n",
       "      <th>X2</th>\n",
       "      <th>Y</th>\n",
       "    </tr>\n",
       "  </thead>\n",
       "  <tbody>\n",
       "    <tr>\n",
       "      <th>0</th>\n",
       "      <td>0.526920</td>\n",
       "      <td>-0.576410</td>\n",
       "      <td>1</td>\n",
       "    </tr>\n",
       "    <tr>\n",
       "      <th>1</th>\n",
       "      <td>0.691890</td>\n",
       "      <td>0.529460</td>\n",
       "      <td>1</td>\n",
       "    </tr>\n",
       "    <tr>\n",
       "      <th>2</th>\n",
       "      <td>-0.297850</td>\n",
       "      <td>-0.788320</td>\n",
       "      <td>1</td>\n",
       "    </tr>\n",
       "    <tr>\n",
       "      <th>3</th>\n",
       "      <td>-0.811390</td>\n",
       "      <td>0.894460</td>\n",
       "      <td>1</td>\n",
       "    </tr>\n",
       "    <tr>\n",
       "      <th>4</th>\n",
       "      <td>-0.329650</td>\n",
       "      <td>-0.193340</td>\n",
       "      <td>1</td>\n",
       "    </tr>\n",
       "    <tr>\n",
       "      <th>...</th>\n",
       "      <td>...</td>\n",
       "      <td>...</td>\n",
       "      <td>...</td>\n",
       "    </tr>\n",
       "    <tr>\n",
       "      <th>14</th>\n",
       "      <td>-0.313280</td>\n",
       "      <td>-0.529750</td>\n",
       "      <td>1</td>\n",
       "    </tr>\n",
       "    <tr>\n",
       "      <th>15</th>\n",
       "      <td>-0.009191</td>\n",
       "      <td>0.768060</td>\n",
       "      <td>1</td>\n",
       "    </tr>\n",
       "    <tr>\n",
       "      <th>16</th>\n",
       "      <td>0.934310</td>\n",
       "      <td>-0.010608</td>\n",
       "      <td>1</td>\n",
       "    </tr>\n",
       "    <tr>\n",
       "      <th>17</th>\n",
       "      <td>0.507850</td>\n",
       "      <td>-0.896690</td>\n",
       "      <td>0</td>\n",
       "    </tr>\n",
       "    <tr>\n",
       "      <th>18</th>\n",
       "      <td>0.971310</td>\n",
       "      <td>0.777850</td>\n",
       "      <td>1</td>\n",
       "    </tr>\n",
       "  </tbody>\n",
       "</table>\n",
       "<p>950 rows × 3 columns</p>\n",
       "</div>"
      ],
      "text/plain": [
       "          X1        X2  Y\n",
       "0   0.526920 -0.576410  1\n",
       "1   0.691890  0.529460  1\n",
       "2  -0.297850 -0.788320  1\n",
       "3  -0.811390  0.894460  1\n",
       "4  -0.329650 -0.193340  1\n",
       "..       ...       ... ..\n",
       "14 -0.313280 -0.529750  1\n",
       "15 -0.009191  0.768060  1\n",
       "16  0.934310 -0.010608  1\n",
       "17  0.507850 -0.896690  0\n",
       "18  0.971310  0.777850  1\n",
       "\n",
       "[950 rows x 3 columns]"
      ]
     },
     "execution_count": 3,
     "metadata": {},
     "output_type": "execute_result"
    }
   ],
   "source": [
    "mypath = listdir('data/sampledNonLinData/2/2/2-2-0.45832/')\n",
    "all_files = [read_file('data/sampledNonLinData/2/2/2-2-0.45832/' + each + '/') for each in mypath]\n",
    "all_files = [(each.shape, each) for each in all_files]\n",
    "all_files.sort()\n",
    "all_files = [each[1] for each in all_files]\n",
    "\n",
    "\n",
    "df = all_files[0]\n",
    "df"
   ]
  },
  {
   "cell_type": "code",
   "execution_count": 4,
   "metadata": {},
   "outputs": [],
   "source": [
    "from RPTree import *\n",
    "from estimators import *\n",
    "from copy import deepcopy\n",
    "\n",
    "def run(X, y, MinSize, y_dic, estimator='naive_estimate', set_bins=None, types='median'):\n",
    "    \"\"\"n represents how many dimensions, can't do repeatation\n",
    "    \"\"\"\n",
    "    tree = RPTree(X)\n",
    "    tree_made = tree.MakeTree(MinSize, types=types)\n",
    "    if set_bins and tree_made.counts() != set_bins:\n",
    "        return [None] * 4\n",
    "    all_entropy, bins, depth = get_entropy(tree_made, y_dic, MinSize, estimator=estimator)\n",
    "    res, L = all_entropy[X]['entropy'], all_entropy[X]['loglikelihood'] # main entropy\n",
    "    est = eval(estimator)\n",
    "    y_entropy = est(y)\n",
    "    aic = L + bins\n",
    "    return 1-res/y_entropy, L, bins, depth, aic, MinSize, all_entropy"
   ]
  },
  {
   "cell_type": "code",
   "execution_count": 5,
   "metadata": {
    "scrolled": true
   },
   "outputs": [
    {
     "name": "stdout",
     "output_type": "stream",
     "text": [
      "Start:  950\n",
      "Finished\n",
      "Start:  1950\n",
      "Finished\n",
      "Start:  3950\n",
      "Finished\n",
      "Start:  7950\n"
     ]
    },
    {
     "ename": "ValueError",
     "evalue": "The truth value of an array with more than one element is ambiguous. Use a.any() or a.all()",
     "output_type": "error",
     "traceback": [
      "\u001b[0;31m---------------------------------------------------------------------------\u001b[0m",
      "\u001b[0;31mValueError\u001b[0m                                Traceback (most recent call last)",
      "\u001b[0;32m<ipython-input-5-31fb61b41e13>\u001b[0m in \u001b[0;36m<module>\u001b[0;34m\u001b[0m\n\u001b[1;32m     17\u001b[0m     \u001b[0;32mfor\u001b[0m \u001b[0mrep\u001b[0m \u001b[0;32min\u001b[0m \u001b[0mrange\u001b[0m\u001b[0;34m(\u001b[0m\u001b[0;36m3\u001b[0m\u001b[0;34m)\u001b[0m\u001b[0;34m:\u001b[0m\u001b[0;34m\u001b[0m\u001b[0;34m\u001b[0m\u001b[0m\n\u001b[1;32m     18\u001b[0m         \u001b[0;32mfor\u001b[0m \u001b[0msize\u001b[0m \u001b[0;32min\u001b[0m \u001b[0msizes\u001b[0m\u001b[0;34m:\u001b[0m\u001b[0;34m\u001b[0m\u001b[0;34m\u001b[0m\u001b[0m\n\u001b[0;32m---> 19\u001b[0;31m             \u001b[0mfmi\u001b[0m\u001b[0;34m,\u001b[0m \u001b[0mL\u001b[0m\u001b[0;34m,\u001b[0m \u001b[0mbins\u001b[0m\u001b[0;34m,\u001b[0m \u001b[0mdepth\u001b[0m\u001b[0;34m,\u001b[0m \u001b[0maic\u001b[0m\u001b[0;34m,\u001b[0m \u001b[0mMinSize\u001b[0m\u001b[0;34m,\u001b[0m \u001b[0mentropy_dic\u001b[0m \u001b[0;34m=\u001b[0m \u001b[0mrun\u001b[0m\u001b[0;34m(\u001b[0m\u001b[0mX\u001b[0m\u001b[0;34m,\u001b[0m \u001b[0mY\u001b[0m\u001b[0;34m,\u001b[0m \u001b[0msize\u001b[0m\u001b[0;34m,\u001b[0m \u001b[0my_dic\u001b[0m\u001b[0;34m,\u001b[0m \u001b[0mestimator\u001b[0m\u001b[0;34m=\u001b[0m\u001b[0;34m'naive_estimate'\u001b[0m\u001b[0;34m,\u001b[0m \u001b[0mtypes\u001b[0m\u001b[0;34m=\u001b[0m\u001b[0;34m'kd'\u001b[0m\u001b[0;34m)\u001b[0m\u001b[0;34m\u001b[0m\u001b[0;34m\u001b[0m\u001b[0m\n\u001b[0m\u001b[1;32m     20\u001b[0m             \u001b[0;32mif\u001b[0m \u001b[0mbins\u001b[0m \u001b[0;32mnot\u001b[0m \u001b[0;32min\u001b[0m \u001b[0mall_result\u001b[0m\u001b[0;34m:\u001b[0m\u001b[0;34m\u001b[0m\u001b[0;34m\u001b[0m\u001b[0m\n\u001b[1;32m     21\u001b[0m                 \u001b[0mall_result\u001b[0m\u001b[0;34m[\u001b[0m\u001b[0mbins\u001b[0m\u001b[0;34m]\u001b[0m \u001b[0;34m=\u001b[0m \u001b[0;34m[\u001b[0m\u001b[0mfmi\u001b[0m\u001b[0;34m]\u001b[0m\u001b[0;34m\u001b[0m\u001b[0;34m\u001b[0m\u001b[0m\n",
      "\u001b[0;32m<ipython-input-4-bb656312e755>\u001b[0m in \u001b[0;36mrun\u001b[0;34m(X, y, MinSize, y_dic, estimator, set_bins, types)\u001b[0m\n\u001b[1;32m      7\u001b[0m     \"\"\"\n\u001b[1;32m      8\u001b[0m     \u001b[0mtree\u001b[0m \u001b[0;34m=\u001b[0m \u001b[0mRPTree\u001b[0m\u001b[0;34m(\u001b[0m\u001b[0mX\u001b[0m\u001b[0;34m)\u001b[0m\u001b[0;34m\u001b[0m\u001b[0;34m\u001b[0m\u001b[0m\n\u001b[0;32m----> 9\u001b[0;31m     \u001b[0mtree_made\u001b[0m \u001b[0;34m=\u001b[0m \u001b[0mtree\u001b[0m\u001b[0;34m.\u001b[0m\u001b[0mMakeTree\u001b[0m\u001b[0;34m(\u001b[0m\u001b[0mMinSize\u001b[0m\u001b[0;34m,\u001b[0m \u001b[0mtypes\u001b[0m\u001b[0;34m=\u001b[0m\u001b[0mtypes\u001b[0m\u001b[0;34m)\u001b[0m\u001b[0;34m\u001b[0m\u001b[0;34m\u001b[0m\u001b[0m\n\u001b[0m\u001b[1;32m     10\u001b[0m     \u001b[0;32mif\u001b[0m \u001b[0mset_bins\u001b[0m \u001b[0;32mand\u001b[0m \u001b[0mtree_made\u001b[0m\u001b[0;34m.\u001b[0m\u001b[0mcounts\u001b[0m\u001b[0;34m(\u001b[0m\u001b[0;34m)\u001b[0m \u001b[0;34m!=\u001b[0m \u001b[0mset_bins\u001b[0m\u001b[0;34m:\u001b[0m\u001b[0;34m\u001b[0m\u001b[0;34m\u001b[0m\u001b[0m\n\u001b[1;32m     11\u001b[0m         \u001b[0;32mreturn\u001b[0m \u001b[0;34m[\u001b[0m\u001b[0;32mNone\u001b[0m\u001b[0;34m]\u001b[0m \u001b[0;34m*\u001b[0m \u001b[0;36m4\u001b[0m\u001b[0;34m\u001b[0m\u001b[0;34m\u001b[0m\u001b[0m\n",
      "\u001b[0;32m~/Documents/Yiwen PhD/Confirmation/Year_2/RPTree.py\u001b[0m in \u001b[0;36mMakeTree\u001b[0;34m(self, MinSize, existing, data, orginal_tree, types)\u001b[0m\n\u001b[1;32m    237\u001b[0m             \u001b[0mRightTree\u001b[0m \u001b[0;34m=\u001b[0m \u001b[0mrightree\u001b[0m\u001b[0;34m.\u001b[0m\u001b[0mMakeTree\u001b[0m\u001b[0;34m(\u001b[0m\u001b[0mMinSize\u001b[0m\u001b[0;34m,\u001b[0m \u001b[0mexisting\u001b[0m\u001b[0;34m=\u001b[0m\u001b[0mexisting\u001b[0m\u001b[0;34m,\u001b[0m \u001b[0mdata\u001b[0m\u001b[0;34m=\u001b[0m\u001b[0mrightree\u001b[0m\u001b[0;34m.\u001b[0m\u001b[0mval\u001b[0m\u001b[0;34m,\u001b[0m \u001b[0morginal_tree\u001b[0m\u001b[0;34m=\u001b[0m\u001b[0morginal_tree\u001b[0m\u001b[0;34m.\u001b[0m\u001b[0mrightChild\u001b[0m\u001b[0;34m)\u001b[0m\u001b[0;34m\u001b[0m\u001b[0;34m\u001b[0m\u001b[0m\n\u001b[1;32m    238\u001b[0m         \u001b[0;32melse\u001b[0m\u001b[0;34m:\u001b[0m\u001b[0;34m\u001b[0m\u001b[0;34m\u001b[0m\u001b[0m\n\u001b[0;32m--> 239\u001b[0;31m             \u001b[0mLeftTree\u001b[0m \u001b[0;34m=\u001b[0m \u001b[0mleftree\u001b[0m\u001b[0;34m.\u001b[0m\u001b[0mMakeTree\u001b[0m\u001b[0;34m(\u001b[0m\u001b[0mMinSize\u001b[0m\u001b[0;34m,\u001b[0m \u001b[0mdata\u001b[0m\u001b[0;34m=\u001b[0m\u001b[0mleftree\u001b[0m\u001b[0;34m.\u001b[0m\u001b[0mval\u001b[0m\u001b[0;34m,\u001b[0m \u001b[0morginal_tree\u001b[0m\u001b[0;34m=\u001b[0m\u001b[0;32mNone\u001b[0m\u001b[0;34m)\u001b[0m\u001b[0;34m\u001b[0m\u001b[0;34m\u001b[0m\u001b[0m\n\u001b[0m\u001b[1;32m    240\u001b[0m             \u001b[0mRightTree\u001b[0m \u001b[0;34m=\u001b[0m \u001b[0mrightree\u001b[0m\u001b[0;34m.\u001b[0m\u001b[0mMakeTree\u001b[0m\u001b[0;34m(\u001b[0m\u001b[0mMinSize\u001b[0m\u001b[0;34m,\u001b[0m \u001b[0mdata\u001b[0m\u001b[0;34m=\u001b[0m\u001b[0mrightree\u001b[0m\u001b[0;34m.\u001b[0m\u001b[0mval\u001b[0m\u001b[0;34m,\u001b[0m \u001b[0morginal_tree\u001b[0m\u001b[0;34m=\u001b[0m\u001b[0;32mNone\u001b[0m\u001b[0;34m)\u001b[0m \u001b[0;31m# existing=existing,\u001b[0m\u001b[0;34m\u001b[0m\u001b[0;34m\u001b[0m\u001b[0m\n\u001b[1;32m    241\u001b[0m         \u001b[0mself\u001b[0m\u001b[0;34m.\u001b[0m\u001b[0mleftChild\u001b[0m \u001b[0;34m=\u001b[0m \u001b[0mLeftTree\u001b[0m\u001b[0;34m\u001b[0m\u001b[0;34m\u001b[0m\u001b[0m\n",
      "\u001b[0;32m~/Documents/Yiwen PhD/Confirmation/Year_2/RPTree.py\u001b[0m in \u001b[0;36mMakeTree\u001b[0;34m(self, MinSize, existing, data, orginal_tree, types)\u001b[0m\n\u001b[1;32m    237\u001b[0m             \u001b[0mRightTree\u001b[0m \u001b[0;34m=\u001b[0m \u001b[0mrightree\u001b[0m\u001b[0;34m.\u001b[0m\u001b[0mMakeTree\u001b[0m\u001b[0;34m(\u001b[0m\u001b[0mMinSize\u001b[0m\u001b[0;34m,\u001b[0m \u001b[0mexisting\u001b[0m\u001b[0;34m=\u001b[0m\u001b[0mexisting\u001b[0m\u001b[0;34m,\u001b[0m \u001b[0mdata\u001b[0m\u001b[0;34m=\u001b[0m\u001b[0mrightree\u001b[0m\u001b[0;34m.\u001b[0m\u001b[0mval\u001b[0m\u001b[0;34m,\u001b[0m \u001b[0morginal_tree\u001b[0m\u001b[0;34m=\u001b[0m\u001b[0morginal_tree\u001b[0m\u001b[0;34m.\u001b[0m\u001b[0mrightChild\u001b[0m\u001b[0;34m)\u001b[0m\u001b[0;34m\u001b[0m\u001b[0;34m\u001b[0m\u001b[0m\n\u001b[1;32m    238\u001b[0m         \u001b[0;32melse\u001b[0m\u001b[0;34m:\u001b[0m\u001b[0;34m\u001b[0m\u001b[0;34m\u001b[0m\u001b[0m\n\u001b[0;32m--> 239\u001b[0;31m             \u001b[0mLeftTree\u001b[0m \u001b[0;34m=\u001b[0m \u001b[0mleftree\u001b[0m\u001b[0;34m.\u001b[0m\u001b[0mMakeTree\u001b[0m\u001b[0;34m(\u001b[0m\u001b[0mMinSize\u001b[0m\u001b[0;34m,\u001b[0m \u001b[0mdata\u001b[0m\u001b[0;34m=\u001b[0m\u001b[0mleftree\u001b[0m\u001b[0;34m.\u001b[0m\u001b[0mval\u001b[0m\u001b[0;34m,\u001b[0m \u001b[0morginal_tree\u001b[0m\u001b[0;34m=\u001b[0m\u001b[0;32mNone\u001b[0m\u001b[0;34m)\u001b[0m\u001b[0;34m\u001b[0m\u001b[0;34m\u001b[0m\u001b[0m\n\u001b[0m\u001b[1;32m    240\u001b[0m             \u001b[0mRightTree\u001b[0m \u001b[0;34m=\u001b[0m \u001b[0mrightree\u001b[0m\u001b[0;34m.\u001b[0m\u001b[0mMakeTree\u001b[0m\u001b[0;34m(\u001b[0m\u001b[0mMinSize\u001b[0m\u001b[0;34m,\u001b[0m \u001b[0mdata\u001b[0m\u001b[0;34m=\u001b[0m\u001b[0mrightree\u001b[0m\u001b[0;34m.\u001b[0m\u001b[0mval\u001b[0m\u001b[0;34m,\u001b[0m \u001b[0morginal_tree\u001b[0m\u001b[0;34m=\u001b[0m\u001b[0;32mNone\u001b[0m\u001b[0;34m)\u001b[0m \u001b[0;31m# existing=existing,\u001b[0m\u001b[0;34m\u001b[0m\u001b[0;34m\u001b[0m\u001b[0m\n\u001b[1;32m    241\u001b[0m         \u001b[0mself\u001b[0m\u001b[0;34m.\u001b[0m\u001b[0mleftChild\u001b[0m \u001b[0;34m=\u001b[0m \u001b[0mLeftTree\u001b[0m\u001b[0;34m\u001b[0m\u001b[0;34m\u001b[0m\u001b[0m\n",
      "\u001b[0;32m~/Documents/Yiwen PhD/Confirmation/Year_2/RPTree.py\u001b[0m in \u001b[0;36mMakeTree\u001b[0;34m(self, MinSize, existing, data, orginal_tree, types)\u001b[0m\n\u001b[1;32m    238\u001b[0m         \u001b[0;32melse\u001b[0m\u001b[0;34m:\u001b[0m\u001b[0;34m\u001b[0m\u001b[0;34m\u001b[0m\u001b[0m\n\u001b[1;32m    239\u001b[0m             \u001b[0mLeftTree\u001b[0m \u001b[0;34m=\u001b[0m \u001b[0mleftree\u001b[0m\u001b[0;34m.\u001b[0m\u001b[0mMakeTree\u001b[0m\u001b[0;34m(\u001b[0m\u001b[0mMinSize\u001b[0m\u001b[0;34m,\u001b[0m \u001b[0mdata\u001b[0m\u001b[0;34m=\u001b[0m\u001b[0mleftree\u001b[0m\u001b[0;34m.\u001b[0m\u001b[0mval\u001b[0m\u001b[0;34m,\u001b[0m \u001b[0morginal_tree\u001b[0m\u001b[0;34m=\u001b[0m\u001b[0;32mNone\u001b[0m\u001b[0;34m)\u001b[0m\u001b[0;34m\u001b[0m\u001b[0;34m\u001b[0m\u001b[0m\n\u001b[0;32m--> 240\u001b[0;31m             \u001b[0mRightTree\u001b[0m \u001b[0;34m=\u001b[0m \u001b[0mrightree\u001b[0m\u001b[0;34m.\u001b[0m\u001b[0mMakeTree\u001b[0m\u001b[0;34m(\u001b[0m\u001b[0mMinSize\u001b[0m\u001b[0;34m,\u001b[0m \u001b[0mdata\u001b[0m\u001b[0;34m=\u001b[0m\u001b[0mrightree\u001b[0m\u001b[0;34m.\u001b[0m\u001b[0mval\u001b[0m\u001b[0;34m,\u001b[0m \u001b[0morginal_tree\u001b[0m\u001b[0;34m=\u001b[0m\u001b[0;32mNone\u001b[0m\u001b[0;34m)\u001b[0m \u001b[0;31m# existing=existing,\u001b[0m\u001b[0;34m\u001b[0m\u001b[0;34m\u001b[0m\u001b[0m\n\u001b[0m\u001b[1;32m    241\u001b[0m         \u001b[0mself\u001b[0m\u001b[0;34m.\u001b[0m\u001b[0mleftChild\u001b[0m \u001b[0;34m=\u001b[0m \u001b[0mLeftTree\u001b[0m\u001b[0;34m\u001b[0m\u001b[0;34m\u001b[0m\u001b[0m\n\u001b[1;32m    242\u001b[0m         \u001b[0mself\u001b[0m\u001b[0;34m.\u001b[0m\u001b[0mrightChild\u001b[0m \u001b[0;34m=\u001b[0m \u001b[0mRightTree\u001b[0m\u001b[0;34m\u001b[0m\u001b[0;34m\u001b[0m\u001b[0m\n",
      "\u001b[0;32m~/Documents/Yiwen PhD/Confirmation/Year_2/RPTree.py\u001b[0m in \u001b[0;36mMakeTree\u001b[0;34m(self, MinSize, existing, data, orginal_tree, types)\u001b[0m\n\u001b[1;32m    216\u001b[0m                 \u001b[0mRule\u001b[0m\u001b[0;34m,\u001b[0m \u001b[0mv\u001b[0m\u001b[0;34m,\u001b[0m \u001b[0mres_left\u001b[0m\u001b[0;34m,\u001b[0m \u001b[0mres_right\u001b[0m \u001b[0;34m=\u001b[0m \u001b[0mself\u001b[0m\u001b[0;34m.\u001b[0m\u001b[0mChooseRule_max\u001b[0m\u001b[0;34m(\u001b[0m\u001b[0mself\u001b[0m\u001b[0;34m.\u001b[0m\u001b[0mval\u001b[0m\u001b[0;34m)\u001b[0m\u001b[0;34m\u001b[0m\u001b[0;34m\u001b[0m\u001b[0m\n\u001b[1;32m    217\u001b[0m             \u001b[0;32melif\u001b[0m \u001b[0mtypes\u001b[0m \u001b[0;34m==\u001b[0m \u001b[0;34m'median'\u001b[0m\u001b[0;34m:\u001b[0m\u001b[0;34m\u001b[0m\u001b[0;34m\u001b[0m\u001b[0m\n\u001b[0;32m--> 218\u001b[0;31m                 \u001b[0mRule\u001b[0m\u001b[0;34m,\u001b[0m \u001b[0mv\u001b[0m\u001b[0;34m,\u001b[0m \u001b[0mres_left\u001b[0m\u001b[0;34m,\u001b[0m \u001b[0mres_right\u001b[0m\u001b[0;34m,\u001b[0m \u001b[0mchoose\u001b[0m \u001b[0;34m=\u001b[0m \u001b[0mself\u001b[0m\u001b[0;34m.\u001b[0m\u001b[0mChooseRule_median\u001b[0m\u001b[0;34m(\u001b[0m\u001b[0mself\u001b[0m\u001b[0;34m.\u001b[0m\u001b[0mval\u001b[0m\u001b[0;34m)\u001b[0m\u001b[0;34m\u001b[0m\u001b[0;34m\u001b[0m\u001b[0m\n\u001b[0m\u001b[1;32m    219\u001b[0m             \u001b[0;32melif\u001b[0m \u001b[0mtypes\u001b[0m \u001b[0;34m==\u001b[0m \u001b[0;34m'kd'\u001b[0m\u001b[0;34m:\u001b[0m\u001b[0;34m\u001b[0m\u001b[0;34m\u001b[0m\u001b[0m\n\u001b[1;32m    220\u001b[0m                 \u001b[0mRule\u001b[0m\u001b[0;34m,\u001b[0m \u001b[0mv\u001b[0m\u001b[0;34m,\u001b[0m \u001b[0mres_left\u001b[0m\u001b[0;34m,\u001b[0m \u001b[0mres_right\u001b[0m\u001b[0;34m,\u001b[0m \u001b[0mchoose\u001b[0m \u001b[0;34m=\u001b[0m \u001b[0mself\u001b[0m\u001b[0;34m.\u001b[0m\u001b[0mChooseRule_kd\u001b[0m\u001b[0;34m(\u001b[0m\u001b[0mself\u001b[0m\u001b[0;34m.\u001b[0m\u001b[0mval\u001b[0m\u001b[0;34m)\u001b[0m\u001b[0;34m\u001b[0m\u001b[0;34m\u001b[0m\u001b[0m\n",
      "\u001b[0;32m~/Documents/Yiwen PhD/Confirmation/Year_2/RPTree.py\u001b[0m in \u001b[0;36mChooseRule_median\u001b[0;34m(self, data, c)\u001b[0m\n\u001b[1;32m    172\u001b[0m         \u001b[0msa\u001b[0m \u001b[0;34m=\u001b[0m \u001b[0;36m0\u001b[0m\u001b[0;34m\u001b[0m\u001b[0;34m\u001b[0m\u001b[0m\n\u001b[1;32m    173\u001b[0m         \u001b[0;32mfor\u001b[0m \u001b[0meach\u001b[0m \u001b[0;32min\u001b[0m \u001b[0mdata\u001b[0m\u001b[0;34m:\u001b[0m\u001b[0;34m\u001b[0m\u001b[0;34m\u001b[0m\u001b[0m\n\u001b[0;32m--> 174\u001b[0;31m             \u001b[0my\u001b[0m\u001b[0;34m,\u001b[0m \u001b[0mdist\u001b[0m \u001b[0;34m=\u001b[0m \u001b[0mself\u001b[0m\u001b[0;34m.\u001b[0m\u001b[0mfarest\u001b[0m\u001b[0;34m(\u001b[0m\u001b[0mdata\u001b[0m\u001b[0;34m,\u001b[0m \u001b[0meach\u001b[0m\u001b[0;34m)\u001b[0m\u001b[0;34m\u001b[0m\u001b[0;34m\u001b[0m\u001b[0m\n\u001b[0m\u001b[1;32m    175\u001b[0m             \u001b[0msa\u001b[0m \u001b[0;34m+=\u001b[0m \u001b[0mdist\u001b[0m\u001b[0;34m/\u001b[0m\u001b[0mlen\u001b[0m\u001b[0;34m(\u001b[0m\u001b[0mdata\u001b[0m\u001b[0;34m)\u001b[0m\u001b[0;34m**\u001b[0m\u001b[0;36m2\u001b[0m\u001b[0;34m\u001b[0m\u001b[0;34m\u001b[0m\u001b[0m\n\u001b[1;32m    176\u001b[0m         \u001b[0;31m# rp-median\u001b[0m\u001b[0;34m\u001b[0m\u001b[0;34m\u001b[0m\u001b[0;34m\u001b[0m\u001b[0m\n",
      "\u001b[0;32m~/Documents/Yiwen PhD/Confirmation/Year_2/RPTree.py\u001b[0m in \u001b[0;36mfarest\u001b[0;34m(self, data, x)\u001b[0m\n\u001b[1;32m     92\u001b[0m             \u001b[0;32mexcept\u001b[0m\u001b[0;34m:\u001b[0m\u001b[0;34m\u001b[0m\u001b[0;34m\u001b[0m\u001b[0m\n\u001b[1;32m     93\u001b[0m                 \u001b[0mtemp\u001b[0m \u001b[0;34m=\u001b[0m \u001b[0;34m(\u001b[0m\u001b[0mnp\u001b[0m\u001b[0;34m.\u001b[0m\u001b[0marray\u001b[0m\u001b[0;34m(\u001b[0m\u001b[0meach\u001b[0m\u001b[0;34m)\u001b[0m \u001b[0;34m-\u001b[0m \u001b[0mnp\u001b[0m\u001b[0;34m.\u001b[0m\u001b[0marray\u001b[0m\u001b[0;34m(\u001b[0m\u001b[0mx\u001b[0m\u001b[0;34m)\u001b[0m\u001b[0;34m)\u001b[0m\u001b[0;34m**\u001b[0m\u001b[0;36m2\u001b[0m\u001b[0;34m\u001b[0m\u001b[0;34m\u001b[0m\u001b[0m\n\u001b[0;32m---> 94\u001b[0;31m             \u001b[0;32mif\u001b[0m \u001b[0mtemp\u001b[0m \u001b[0;34m>\u001b[0m \u001b[0minit\u001b[0m\u001b[0;34m:\u001b[0m\u001b[0;34m\u001b[0m\u001b[0;34m\u001b[0m\u001b[0m\n\u001b[0m\u001b[1;32m     95\u001b[0m                 \u001b[0minit\u001b[0m \u001b[0;34m=\u001b[0m \u001b[0mtemp\u001b[0m\u001b[0;34m\u001b[0m\u001b[0;34m\u001b[0m\u001b[0m\n\u001b[1;32m     96\u001b[0m                 \u001b[0mpoint\u001b[0m \u001b[0;34m=\u001b[0m \u001b[0meach\u001b[0m\u001b[0;34m\u001b[0m\u001b[0;34m\u001b[0m\u001b[0m\n",
      "\u001b[0;31mValueError\u001b[0m: The truth value of an array with more than one element is ambiguous. Use a.any() or a.all()"
     ]
    }
   ],
   "source": [
    "result_dic = {}\n",
    "\n",
    "final_aic, final_fmi, final_bin = 0, 0, 0\n",
    "sizes = [i for i in range(2, 101)]\n",
    "for df in all_files:\n",
    "    all_result = {}\n",
    "    aic_result = {}\n",
    "    entro_result = {}\n",
    "    entro_dic_result = {}\n",
    "    x_lst = tuple([tuple(each) for each in df[['X1', 'X2']].values.tolist()])\n",
    "    y_dic = dict(zip(x_lst, df.Y.values.tolist()))\n",
    "    X, Y = x_lst, df.Y.values\n",
    "    print('Start: ' , df.shape[0])\n",
    "    if df.shape[0] > 10000:\n",
    "        print('Stop')\n",
    "        break\n",
    "    for rep in range(3):\n",
    "        for size in sizes:\n",
    "            fmi, L, bins, depth, aic, MinSize, entropy_dic = run(X, Y, size, y_dic, estimator='naive_estimate', types='kd')\n",
    "            if bins not in all_result:\n",
    "                all_result[bins] = [fmi]\n",
    "                aic_result[bins] = [aic]\n",
    "                entro_result[bins] = [L]\n",
    "                entro_dic_result[bins] = [entropy_dic]\n",
    "            else:\n",
    "                all_result[bins].append(fmi)\n",
    "                aic_result[bins].append(aic)\n",
    "                entro_result[bins].append(L)\n",
    "                entro_dic_result[bins].append(entropy_dic)\n",
    "\n",
    "            if not final_aic or final_aic > aic:\n",
    "                final_aic = aic\n",
    "                final_fmi = fmi\n",
    "                final_bin = bins\n",
    "    result_dic[df.shape[0]] = [all_result, aic_result, entro_result, entro_dic_result]\n",
    "    print(\"Finished\")  "
   ]
  },
  {
   "cell_type": "code",
   "execution_count": 7,
   "metadata": {},
   "outputs": [],
   "source": [
    "# import pickle\n",
    "\n",
    "# with open('Base_Line_1_KD_Tree_only_Relevant_Variables.p', 'wb') as fp:\n",
    "#     pickle.dump(result_dic, fp, protocol=pickle.HIGHEST_PROTOCOL)"
   ]
  },
  {
   "cell_type": "code",
   "execution_count": 6,
   "metadata": {},
   "outputs": [
    {
     "data": {
      "text/plain": [
       "(298.1887082802407, 0.4086173396888738)"
      ]
     },
     "execution_count": 6,
     "metadata": {},
     "output_type": "execute_result"
    }
   ],
   "source": [
    "final_aic, final_fmi"
   ]
  },
  {
   "cell_type": "code",
   "execution_count": 2,
   "metadata": {},
   "outputs": [],
   "source": [
    "# import pickle\n",
    "\n",
    "# with open('Base_Line_1_KD_Tree_only_Relevant_Variables.p', 'rb') as fp:\n",
    "#     result_dic = pickle.load(fp)"
   ]
  },
  {
   "cell_type": "code",
   "execution_count": 7,
   "metadata": {},
   "outputs": [
    {
     "data": {
      "text/plain": [
       "(298.1887082802407, 0.4086173396888738)"
      ]
     },
     "execution_count": 7,
     "metadata": {},
     "output_type": "execute_result"
    }
   ],
   "source": [
    "final_aic, final_fmi"
   ]
  },
  {
   "cell_type": "code",
   "execution_count": 8,
   "metadata": {
    "scrolled": true
   },
   "outputs": [
    {
     "data": {
      "image/png": "[encoded data removed]",
      "text/plain": [
       "<Figure size 432x288 with 1 Axes>"
      ]
     },
     "metadata": {
      "needs_background": "light"
     },
     "output_type": "display_data"
    }
   ],
   "source": [
    "import pandas as pd\n",
    "import math\n",
    "import matplotlib.pyplot as plt\n",
    "import numpy as np\n",
    "\n",
    "def bias_std(dic):\n",
    "    \"\"\"\n",
    "    dic = result_dic[key]\n",
    "    \"\"\"\n",
    "    bias_lst = [np.mean(dic[key])-0.45832 for key in dic]\n",
    "    std_lst = [np.std(dic[key]) for key in dic]\n",
    "    summ = pd.DataFrame({'Mean': bias_lst, 'std': std_lst})\n",
    "    summ.index = list(dic.keys())\n",
    "    return summ\n",
    "\n",
    "fig, ax11 = plt.subplots(sharex=True, sharey=False)\n",
    "ax11.set_xlabel('Num of bins')\n",
    "ax11.set_title('KD-tree Overall Errors with only relevant variables')\n",
    "ax11.set_ylabel('Overall Errors')\n",
    "for key in result_dic:\n",
    "    summ = bias_std(result_dic[key][0])\n",
    "    summ = summ.sort_index()\n",
    "    ind = summ.index\n",
    "    y = summ[f'Mean']\n",
    "    yerr = summ[f'std'].values\n",
    "    ax11.errorbar(ind, y, yerr=yerr, fmt='o', label=str(key))\n",
    "\n",
    "#     ax11.hist( x=james_dic1[50], bins=20, width=0.010, label='James-Stein')\n",
    "#     ax11.hist( x=reliable_dic1[50], bins=20, width=0.015, label='Reliable')\n",
    "#     ax11.hist( x=naive_dic1[50], bins=20, width=0.015, label='Naive')\n",
    "ax11.hlines(0, xmin=0, xmax=2000, color='k', linestyle='dashed', linewidth=1)\n",
    "ax11.legend()\n",
    "plt.show()"
   ]
  },
  {
   "cell_type": "code",
   "execution_count": 16,
   "metadata": {},
   "outputs": [],
   "source": [
    "# import pickle\n",
    "\n",
    "# with open('base_line1_KD_Tree_only_Relevant_Variables.p', 'wb') as fp:\n",
    "#     pickle.dump(result_dic, fp, protocol=pickle.HIGHEST_PROTOCOL)"
   ]
  },
  {
   "cell_type": "code",
   "execution_count": 17,
   "metadata": {},
   "outputs": [],
   "source": [
    "# with open('base_line1_KD_Tree_only_Relevant_Variables.p', 'rb') as fp:\n",
    "#     data = pickle.load(fp)"
   ]
  },
  {
   "cell_type": "code",
   "execution_count": 19,
   "metadata": {},
   "outputs": [],
   "source": [
    "import pandas as pd\n",
    "import math\n",
    "import matplotlib.pyplot as plt\n",
    "import numpy as np\n",
    "\n",
    "def bias_std(dic):\n",
    "    \"\"\"\n",
    "    dic = result_dic[key]\n",
    "    \"\"\"\n",
    "    bias_lst = [np.mean(dic[key])-0.45832 for key in dic]\n",
    "    std_lst = [np.std(dic[key]) for key in dic]\n",
    "    summ = pd.DataFrame({'Mean': bias_lst, 'std': std_lst})\n",
    "    summ.index = list(dic.keys())\n",
    "    return summ"
   ]
  },
  {
   "cell_type": "code",
   "execution_count": 20,
   "metadata": {},
   "outputs": [
    {
     "data": {
      "image/png": "[encoded data removed]",
      "text/plain": [
       "<Figure size 432x288 with 1 Axes>"
      ]
     },
     "metadata": {
      "needs_background": "light"
     },
     "output_type": "display_data"
    }
   ],
   "source": [
    "fig, ax11 = plt.subplots(sharex=True, sharey=False)\n",
    "ax11.set_xlabel('Num of bins')\n",
    "ax11.set_title('KD-tree Overall Errors with only relevant variables')\n",
    "ax11.set_ylabel('Overall Errors')\n",
    "for key in result_dic:\n",
    "    summ = bias_std(result_dic[key][0])\n",
    "    summ = summ.sort_index()\n",
    "    ind = summ.index\n",
    "    y = summ[f'Mean']\n",
    "    yerr = summ[f'std'].values\n",
    "    ax11.errorbar(ind, y, yerr=yerr, fmt='o', label='KD-' + str(key))\n",
    "\n",
    "#     ax11.hist( x=james_dic1[50], bins=20, width=0.010, label='James-Stein')\n",
    "#     ax11.hist( x=reliable_dic1[50], bins=20, width=0.015, label='Reliable')\n",
    "#     ax11.hist( x=naive_dic1[50], bins=20, width=0.015, label='Naive')\n",
    "ax11.hlines(0, xmin=0, xmax=2000, color='k', linestyle='dashed', linewidth=1)\n",
    "ax11.legend()\n",
    "plt.show()"
   ]
  },
  {
   "cell_type": "markdown",
   "metadata": {},
   "source": [
    "__Averaging the models__\n",
    "Suppose we have an estimator $\\theta^{(k)}$ to control the number of bins $k$. By applying this estimator in RP-trees on dataset, we have a set of RP-trees $(T_m = \\{T_0, \\dots, T_i\\})$. For a RP-tree $T_i$, we have a y distribution $p(y|T^{(i)})$. If we consider the overall y distirbution on the whole data from these RP-trees, it can be a mixture model of different weighted RP-trees. \n",
    "$$\n",
    "P(y) = \\sum_i^k w_i p(y|T_i) \\enspace.\n",
    "$$,\n",
    "where $w_i \\propto e^{-AIC(T_i)}, \\sum w_i = 1$.\n",
    "Thus, we have\n",
    "\\begin{align}\n",
    "I(X;Y) &= H(Y) - H(Y|X)\\\\\n",
    "&= -\\sum_i^k w_i p(y|T_i) \\log p(y|T_i) + \\sum_i^k w_i p((y|x)|T_i) \\log p((y|x)|T_i)\n",
    "\\end{align}"
   ]
  },
  {
   "cell_type": "code",
   "execution_count": 12,
   "metadata": {},
   "outputs": [
    {
     "name": "stdout",
     "output_type": "stream",
     "text": [
      "Averaging model fmi:  0.37092721410390095\n"
     ]
    }
   ],
   "source": [
    "# averaging models\n",
    "weights = [math.exp(-np.mean(result_dic[code][1][each])) for code in result_dic.keys() for each in result_dic[code][1]]\n",
    "para = 1/sum(weights)\n",
    "weights = [para * each for each in weights]\n",
    "\n",
    "avg_fmi = [np.mean(result_dic[code][0][each]) for code in result_dic.keys() for each in result_dic[code][0]]\n",
    "values = [avg_fmi[i] * weights[i] for i in range(len(avg_fmi))]\n",
    "print(\"Averaging model fmi: \", sum(values))"
   ]
  },
  {
   "cell_type": "code",
   "execution_count": 10,
   "metadata": {},
   "outputs": [],
   "source": [
    "# def find_y(dic):\n",
    "#     new_y_lst = []\n",
    "#     for each in dic:\n",
    "#         new_y = []\n",
    "#         for key in each.keys():        \n",
    "#             if \"main\" in each[key]:\n",
    "#                 a, b = each[key]['main']\n",
    "#                 a, b = list(a), list(b)\n",
    "#                 if len(a) == 1:\n",
    "#                     new_y += a*b[0]\n",
    "#                 else:\n",
    "#                     if b[0] == b[1]:\n",
    "#                         new_y += [a[0]] * b[0] + [a[1]] * b[1]\n",
    "#                     else:\n",
    "#                         indx = b.index(max(b))\n",
    "#                         new_y += [a[indx]]*sum(b)\n",
    "#         new_y_lst += new_y\n",
    "#     return np.array(new_y_lst)\n",
    "\n",
    "# def ave_model(result_dic, n):\n",
    "#     # get weights\n",
    "#     weights = [math.exp(-np.mean(result_dic[n][1][code])) for code in result_dic[n][1].keys()]\n",
    "#     para = 1/sum(weights)\n",
    "#     weights = np.array([para * each for each in weights])\n",
    "    \n",
    "#     # conditinoal entropy\n",
    "#     entro = [np.mean(result_dic[n][2][code])/n for code in result_dic[n][2].keys()]\n",
    "#     norm_entro = sum(np.array(entro) * weights)\n",
    "    \n",
    "#     # y entropy\n",
    "#     entro_y = []\n",
    "#     for key in result_dic[n][3].keys():\n",
    "#         entro_y += [entropy(find_y(result_dic[n][3][key]))]\n",
    "    \n",
    "    \n",
    "#     return norm_entro-sum(np.array(entro_y) * weights)\n",
    "\n",
    "# for key in result_dic.keys():\n",
    "#     print(\"n:\", key, \"Mutual Information: \", ave_model(result_dic, key))"
   ]
  },
  {
   "cell_type": "code",
   "execution_count": 43,
   "metadata": {},
   "outputs": [
    {
     "name": "stdout",
     "output_type": "stream",
     "text": [
      "n: 950 FMI:  0.8926192595650817\n",
      "n: 1950 FMI:  0.9032321847737036\n"
     ]
    },
    {
     "ename": "ZeroDivisionError",
     "evalue": "float division by zero",
     "output_type": "error",
     "traceback": [
      "\u001b[0;31m---------------------------------------------------------------------------\u001b[0m",
      "\u001b[0;31mZeroDivisionError\u001b[0m                         Traceback (most recent call last)",
      "\u001b[0;32m<ipython-input-43-5dc44e65b967>\u001b[0m in \u001b[0;36m<module>\u001b[0;34m\u001b[0m\n\u001b[1;32m     35\u001b[0m \u001b[0;34m\u001b[0m\u001b[0m\n\u001b[1;32m     36\u001b[0m \u001b[0;32mfor\u001b[0m \u001b[0mkey\u001b[0m \u001b[0;32min\u001b[0m \u001b[0mresult_dic\u001b[0m\u001b[0;34m.\u001b[0m\u001b[0mkeys\u001b[0m\u001b[0;34m(\u001b[0m\u001b[0;34m)\u001b[0m\u001b[0;34m:\u001b[0m\u001b[0;34m\u001b[0m\u001b[0;34m\u001b[0m\u001b[0m\n\u001b[0;32m---> 37\u001b[0;31m     \u001b[0mprint\u001b[0m\u001b[0;34m(\u001b[0m\u001b[0;34m\"n:\"\u001b[0m\u001b[0;34m,\u001b[0m \u001b[0mkey\u001b[0m\u001b[0;34m,\u001b[0m \u001b[0;34m\"FMI: \"\u001b[0m\u001b[0;34m,\u001b[0m \u001b[0mave_model\u001b[0m\u001b[0;34m(\u001b[0m\u001b[0mresult_dic\u001b[0m\u001b[0;34m,\u001b[0m \u001b[0mkey\u001b[0m\u001b[0;34m)\u001b[0m\u001b[0;34m)\u001b[0m\u001b[0;34m\u001b[0m\u001b[0;34m\u001b[0m\u001b[0m\n\u001b[0m",
      "\u001b[0;32m<ipython-input-43-5dc44e65b967>\u001b[0m in \u001b[0;36mave_model\u001b[0;34m(result_dic, n)\u001b[0m\n\u001b[1;32m     20\u001b[0m \u001b[0;32mdef\u001b[0m \u001b[0mave_model\u001b[0m\u001b[0;34m(\u001b[0m\u001b[0mresult_dic\u001b[0m\u001b[0;34m,\u001b[0m \u001b[0mn\u001b[0m\u001b[0;34m)\u001b[0m\u001b[0;34m:\u001b[0m\u001b[0;34m\u001b[0m\u001b[0;34m\u001b[0m\u001b[0m\n\u001b[1;32m     21\u001b[0m     \u001b[0mweights\u001b[0m \u001b[0;34m=\u001b[0m \u001b[0;34m[\u001b[0m\u001b[0mmath\u001b[0m\u001b[0;34m.\u001b[0m\u001b[0mexp\u001b[0m\u001b[0;34m(\u001b[0m\u001b[0;34m-\u001b[0m\u001b[0meach\u001b[0m\u001b[0;34m)\u001b[0m \u001b[0;32mfor\u001b[0m \u001b[0mcode\u001b[0m \u001b[0;32min\u001b[0m \u001b[0mresult_dic\u001b[0m\u001b[0;34m[\u001b[0m\u001b[0mn\u001b[0m\u001b[0;34m]\u001b[0m\u001b[0;34m[\u001b[0m\u001b[0;36m1\u001b[0m\u001b[0;34m]\u001b[0m\u001b[0;34m.\u001b[0m\u001b[0mkeys\u001b[0m\u001b[0;34m(\u001b[0m\u001b[0;34m)\u001b[0m \u001b[0;32mfor\u001b[0m \u001b[0meach\u001b[0m \u001b[0;32min\u001b[0m \u001b[0mresult_dic\u001b[0m\u001b[0;34m[\u001b[0m\u001b[0mn\u001b[0m\u001b[0;34m]\u001b[0m\u001b[0;34m[\u001b[0m\u001b[0;36m1\u001b[0m\u001b[0;34m]\u001b[0m\u001b[0;34m[\u001b[0m\u001b[0mcode\u001b[0m\u001b[0;34m]\u001b[0m\u001b[0;34m]\u001b[0m\u001b[0;34m\u001b[0m\u001b[0;34m\u001b[0m\u001b[0m\n\u001b[0;32m---> 22\u001b[0;31m     \u001b[0mpara\u001b[0m \u001b[0;34m=\u001b[0m \u001b[0;36m1\u001b[0m\u001b[0;34m/\u001b[0m\u001b[0msum\u001b[0m\u001b[0;34m(\u001b[0m\u001b[0mweights\u001b[0m\u001b[0;34m)\u001b[0m\u001b[0;34m\u001b[0m\u001b[0;34m\u001b[0m\u001b[0m\n\u001b[0m\u001b[1;32m     23\u001b[0m     \u001b[0mweights\u001b[0m \u001b[0;34m=\u001b[0m \u001b[0mnp\u001b[0m\u001b[0;34m.\u001b[0m\u001b[0marray\u001b[0m\u001b[0;34m(\u001b[0m\u001b[0;34m[\u001b[0m\u001b[0mpara\u001b[0m \u001b[0;34m*\u001b[0m \u001b[0meach\u001b[0m \u001b[0;32mfor\u001b[0m \u001b[0meach\u001b[0m \u001b[0;32min\u001b[0m \u001b[0mweights\u001b[0m\u001b[0;34m]\u001b[0m\u001b[0;34m)\u001b[0m\u001b[0;34m\u001b[0m\u001b[0;34m\u001b[0m\u001b[0m\n\u001b[1;32m     24\u001b[0m \u001b[0;34m\u001b[0m\u001b[0m\n",
      "\u001b[0;31mZeroDivisionError\u001b[0m: float division by zero"
     ]
    }
   ],
   "source": [
    "def find_y(dic):\n",
    "    new_y_lst = []\n",
    "    for each in dic:\n",
    "        new_y = []\n",
    "        for key in each.keys(): \n",
    "            if \"main\" in each[key]:\n",
    "                a, b = each[key]['main']\n",
    "                a, b = list(a), list(b)\n",
    "                if len(a) == 1:\n",
    "                    new_y += a*b[0]\n",
    "                else:\n",
    "                    new = [a[0]] * b[0] + [a[1]] * b[1]\n",
    "                    new_y += [np.mean(new)] * (b[0] + b[1])\n",
    "                        \n",
    "        entro = entropy(np.array(new_y))\n",
    "        new_y_lst.append(entro)\n",
    "    return np.array(new_y_lst)\n",
    "\n",
    "\n",
    "def ave_model(result_dic, n):\n",
    "    weights = [math.exp(-each) for code in result_dic[n][1].keys() for each in result_dic[n][1][code]]\n",
    "    para = 1/sum(weights)\n",
    "    weights = np.array([para * each for each in weights])\n",
    "\n",
    "    entro = [each/n for code in result_dic[n][2].keys() for each in result_dic[n][2][code]]\n",
    "    norm_entro = sum(np.array(entro) * weights)\n",
    "\n",
    "    entro_y = []\n",
    "    for key in result_dic[n][3].keys():\n",
    "        for code in find_y(result_dic[n][3][key]):\n",
    "            entro_y.append(code)\n",
    "            \n",
    "    entro_y = sum((np.array(entro_y) * weights))\n",
    "    return 1 - norm_entro/entro_y\n",
    "\n",
    "for key in result_dic.keys():\n",
    "    print(\"n:\", key, \"FMI: \", ave_model(result_dic, key))"
   ]
  },
  {
   "cell_type": "code",
   "execution_count": null,
   "metadata": {},
   "outputs": [],
   "source": []
  }
 ],
 "metadata": {
  "kernelspec": {
   "display_name": "Python 3",
   "language": "python",
   "name": "python3"
  }
 },
 "nbformat": 4,
 "nbformat_minor": 5
}
