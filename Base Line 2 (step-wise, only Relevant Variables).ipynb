{
 "cells": [
  {
   "cell_type": "markdown",
   "metadata": {},
   "source": [
    "__AIC__ \n",
    "Assume we have a RP-tree $(T_m)$ on quantifying continuous variables $x$ and the $T_m$ has $k$ leaves (bins). For each leaf $i \\in \\{1,2,\\dots,k\\}$, the negative loglikelihood can be defined as:\n",
    "$$\n",
    "L_i = -n_1^{(i)} \\log\\frac{n_1^{(i)}}{n^{(i)}} - n_0^{(i)} \\log\\frac{n_0^{(i)}}{n^{(i)}} \\enspace.\n",
    "$$,\n",
    "where $n^{(i)} = n_0^{(i)} + n_1^{(i)}$\n",
    "\n",
    "The AIC of $T_m$ can be computed by adding number of bins $k$:\n",
    "$$AIC(T_m) = \\sum_1^{k} L_i + k$$\n",
    "\n",
    "__Averaging the models__\n",
    "Suppose we have an estimator $\\theta^{(k)}$ to control the number of bins $k$. Given a single RP-tree $(T_m)$, we have y distribution $p(y|\\theta^{(m)})$. If we think about the overall y distirbution on whole data, it will be a mixture model of different RP-trees (eg.$\\{p(y|\\theta^{(1)}), p(y|\\theta^{(2)}), \\dots, p(y|\\theta^{(k)})\\}$).\n",
    "$$\n",
    "P(y) = \\sum_i^k w_i p(y|\\theta^{(i)}) \\enspace.\n",
    "$$,\n",
    "where $w_i \\propto e^{-AIC(T_m)}, \\sum w_i = 1$. However, we don't know how to do that efficiently. Instead, we may approximate the estimation by averaging $p(y)$ in all given RP-trees.\n",
    "$$\n",
    "P(y) = \\sum_i^k w_i p(y|T_m) \\enspace.\n",
    "$$"
   ]
  },
  {
   "cell_type": "code",
   "execution_count": 5,
   "metadata": {},
   "outputs": [],
   "source": [
    "# from greedyFunc import CutPointIndividual\n",
    "import statistics as st\n",
    "import math\n",
    "import numpy as np\n",
    "from os import listdir\n",
    "from os.path import isfile, join\n",
    "import pandas as pd\n",
    "def read_file(mypath):\n",
    "    onlyfiles = [f for f in listdir(mypath) if isfile(join(mypath, f))]\n",
    "    sublist = []\n",
    "    for each in onlyfiles:\n",
    "        sub = pd.read_csv(mypath + each)\n",
    "        sub.columns=['X1', 'X2', 'X3', 'X4', 'Y'] \n",
    "        sublist.append(sub)\n",
    "\n",
    "    df = pd.concat(sublist)\n",
    "    df = df[['X1', 'X2', 'Y']]\n",
    "    return df"
   ]
  },
  {
   "cell_type": "code",
   "execution_count": 2,
   "metadata": {},
   "outputs": [
    {
     "data": {
      "text/html": [
       "<div>\n",
       "<style scoped>\n",
       "    .dataframe tbody tr th:only-of-type {\n",
       "        vertical-align: middle;\n",
       "    }\n",
       "\n",
       "    .dataframe tbody tr th {\n",
       "        vertical-align: top;\n",
       "    }\n",
       "\n",
       "    .dataframe thead th {\n",
       "        text-align: right;\n",
       "    }\n",
       "</style>\n",
       "<table border=\"1\" class=\"dataframe\">\n",
       "  <thead>\n",
       "    <tr style=\"text-align: right;\">\n",
       "      <th></th>\n",
       "      <th>X1</th>\n",
       "      <th>X2</th>\n",
       "      <th>Y</th>\n",
       "    </tr>\n",
       "  </thead>\n",
       "  <tbody>\n",
       "    <tr>\n",
       "      <th>0</th>\n",
       "      <td>-0.234980</td>\n",
       "      <td>0.747260</td>\n",
       "      <td>1</td>\n",
       "    </tr>\n",
       "    <tr>\n",
       "      <th>1</th>\n",
       "      <td>-0.342830</td>\n",
       "      <td>0.060417</td>\n",
       "      <td>1</td>\n",
       "    </tr>\n",
       "    <tr>\n",
       "      <th>2</th>\n",
       "      <td>-0.146550</td>\n",
       "      <td>-0.446180</td>\n",
       "      <td>1</td>\n",
       "    </tr>\n",
       "    <tr>\n",
       "      <th>3</th>\n",
       "      <td>-0.436290</td>\n",
       "      <td>-0.374580</td>\n",
       "      <td>1</td>\n",
       "    </tr>\n",
       "    <tr>\n",
       "      <th>4</th>\n",
       "      <td>-0.656060</td>\n",
       "      <td>0.920020</td>\n",
       "      <td>1</td>\n",
       "    </tr>\n",
       "    <tr>\n",
       "      <th>...</th>\n",
       "      <td>...</td>\n",
       "      <td>...</td>\n",
       "      <td>...</td>\n",
       "    </tr>\n",
       "    <tr>\n",
       "      <th>34</th>\n",
       "      <td>0.000044</td>\n",
       "      <td>-0.103630</td>\n",
       "      <td>1</td>\n",
       "    </tr>\n",
       "    <tr>\n",
       "      <th>35</th>\n",
       "      <td>0.750270</td>\n",
       "      <td>-0.664030</td>\n",
       "      <td>1</td>\n",
       "    </tr>\n",
       "    <tr>\n",
       "      <th>36</th>\n",
       "      <td>0.233680</td>\n",
       "      <td>-0.643700</td>\n",
       "      <td>1</td>\n",
       "    </tr>\n",
       "    <tr>\n",
       "      <th>37</th>\n",
       "      <td>-0.848080</td>\n",
       "      <td>0.681250</td>\n",
       "      <td>1</td>\n",
       "    </tr>\n",
       "    <tr>\n",
       "      <th>38</th>\n",
       "      <td>-0.549140</td>\n",
       "      <td>-0.179850</td>\n",
       "      <td>1</td>\n",
       "    </tr>\n",
       "  </tbody>\n",
       "</table>\n",
       "<p>1950 rows × 3 columns</p>\n",
       "</div>"
      ],
      "text/plain": [
       "          X1        X2  Y\n",
       "0  -0.234980  0.747260  1\n",
       "1  -0.342830  0.060417  1\n",
       "2  -0.146550 -0.446180  1\n",
       "3  -0.436290 -0.374580  1\n",
       "4  -0.656060  0.920020  1\n",
       "..       ...       ... ..\n",
       "34  0.000044 -0.103630  1\n",
       "35  0.750270 -0.664030  1\n",
       "36  0.233680 -0.643700  1\n",
       "37 -0.848080  0.681250  1\n",
       "38 -0.549140 -0.179850  1\n",
       "\n",
       "[1950 rows x 3 columns]"
      ]
     },
     "execution_count": 2,
     "metadata": {},
     "output_type": "execute_result"
    }
   ],
   "source": [
    "mypath = listdir('data/sampledNonLinData/2/2/2-2-0.45832/')\n",
    "all_files = [read_file('data/sampledNonLinData/2/2/2-2-0.45832/' + each + '/') for each in mypath]\n",
    "all_files = [(each.shape, each) for each in all_files]\n",
    "all_files.sort()\n",
    "all_files = [each[1] for each in all_files]\n",
    "\n",
    "\n",
    "df = all_files[1]\n",
    "df"
   ]
  },
  {
   "cell_type": "code",
   "execution_count": 3,
   "metadata": {
    "scrolled": true
   },
   "outputs": [],
   "source": [
    "# For new individual terms\n",
    "from Stepwise import *"
   ]
  },
  {
   "cell_type": "code",
   "execution_count": 4,
   "metadata": {
    "scrolled": true
   },
   "outputs": [
    {
     "name": "stdout",
     "output_type": "stream",
     "text": [
      "Start:  950\n",
      "Finished\n",
      "Start:  1950\n",
      "Finished\n",
      "Start:  3950\n",
      "Finished\n",
      "Start:  7950\n",
      "Finished\n",
      "Start:  15950\n",
      "Finished\n",
      "Start:  31950\n"
     ]
    },
    {
     "ename": "KeyboardInterrupt",
     "evalue": "",
     "output_type": "error",
     "traceback": [
      "\u001b[0;31m---------------------------------------------------------------------------\u001b[0m",
      "\u001b[0;31mKeyboardInterrupt\u001b[0m                         Traceback (most recent call last)",
      "\u001b[0;32m<ipython-input-4-0d425ea1ee26>\u001b[0m in \u001b[0;36m<module>\u001b[0;34m\u001b[0m\n\u001b[1;32m      4\u001b[0m         \u001b[0mprint\u001b[0m\u001b[0;34m(\u001b[0m\u001b[0;34m'Stop'\u001b[0m\u001b[0;34m)\u001b[0m\u001b[0;34m\u001b[0m\u001b[0;34m\u001b[0m\u001b[0m\n\u001b[1;32m      5\u001b[0m     \u001b[0mprint\u001b[0m\u001b[0;34m(\u001b[0m\u001b[0;34m'Start: '\u001b[0m \u001b[0;34m,\u001b[0m \u001b[0mdf\u001b[0m\u001b[0;34m.\u001b[0m\u001b[0mshape\u001b[0m\u001b[0;34m[\u001b[0m\u001b[0;36m0\u001b[0m\u001b[0;34m]\u001b[0m\u001b[0;34m)\u001b[0m\u001b[0;34m\u001b[0m\u001b[0;34m\u001b[0m\u001b[0m\n\u001b[0;32m----> 6\u001b[0;31m     \u001b[0mfinal_fmi\u001b[0m\u001b[0;34m,\u001b[0m \u001b[0mbins_num\u001b[0m \u001b[0;34m=\u001b[0m \u001b[0mStepwise\u001b[0m\u001b[0;34m(\u001b[0m\u001b[0mdf\u001b[0m\u001b[0;34m.\u001b[0m\u001b[0mvalues\u001b[0m\u001b[0;34m,\u001b[0m \u001b[0mm\u001b[0m\u001b[0;34m=\u001b[0m\u001b[0;36m0\u001b[0m\u001b[0;34m,\u001b[0m \u001b[0mcurrent\u001b[0m\u001b[0;34m=\u001b[0m\u001b[0;32mNone\u001b[0m\u001b[0;34m,\u001b[0m \u001b[0mcandi_fmi\u001b[0m\u001b[0;34m=\u001b[0m\u001b[0;36m0\u001b[0m\u001b[0;34m,\u001b[0m \u001b[0mstop_indx\u001b[0m\u001b[0;34m=\u001b[0m\u001b[0mdf\u001b[0m\u001b[0;34m.\u001b[0m\u001b[0mshape\u001b[0m\u001b[0;34m[\u001b[0m\u001b[0;36m1\u001b[0m\u001b[0;34m]\u001b[0m \u001b[0;34m-\u001b[0m\u001b[0;36m1\u001b[0m\u001b[0;34m)\u001b[0m\u001b[0;34m\u001b[0m\u001b[0;34m\u001b[0m\u001b[0m\n\u001b[0m\u001b[1;32m      7\u001b[0m     \u001b[0;32mif\u001b[0m \u001b[0mbins_num\u001b[0m \u001b[0;32mnot\u001b[0m \u001b[0;32min\u001b[0m \u001b[0mall_result\u001b[0m\u001b[0;34m:\u001b[0m\u001b[0;34m\u001b[0m\u001b[0;34m\u001b[0m\u001b[0m\n\u001b[1;32m      8\u001b[0m         \u001b[0mall_result\u001b[0m\u001b[0;34m[\u001b[0m\u001b[0mbins_num\u001b[0m\u001b[0;34m]\u001b[0m \u001b[0;34m=\u001b[0m \u001b[0;34m[\u001b[0m\u001b[0mfinal_fmi\u001b[0m\u001b[0;34m]\u001b[0m\u001b[0;34m\u001b[0m\u001b[0;34m\u001b[0m\u001b[0m\n",
      "\u001b[0;32m~/Documents/Yiwen PhD/Confirmation/Year_2/Stepwise.py\u001b[0m in \u001b[0;36mStepwise\u001b[0;34m(df, m, current, candi_fmi, stop_indx)\u001b[0m\n\u001b[1;32m     46\u001b[0m                 \u001b[0mprint\u001b[0m\u001b[0;34m(\u001b[0m\u001b[0;34m'may need more points'\u001b[0m\u001b[0;34m)\u001b[0m\u001b[0;34m\u001b[0m\u001b[0;34m\u001b[0m\u001b[0m\n\u001b[1;32m     47\u001b[0m                 \u001b[0;32mbreak\u001b[0m\u001b[0;34m\u001b[0m\u001b[0;34m\u001b[0m\u001b[0m\n\u001b[0;32m---> 48\u001b[0;31m             \u001b[0mcurr_bins\u001b[0m \u001b[0;34m=\u001b[0m \u001b[0mcutPointBin\u001b[0m\u001b[0;34m(\u001b[0m\u001b[0mdata\u001b[0m\u001b[0;34m,\u001b[0m \u001b[0mknown_cut_lst\u001b[0m\u001b[0;34m,\u001b[0m \u001b[0mk\u001b[0m\u001b[0;34m)\u001b[0m\u001b[0;34m\u001b[0m\u001b[0;34m\u001b[0m\u001b[0m\n\u001b[0m\u001b[1;32m     49\u001b[0m             \u001b[0;32mif\u001b[0m \u001b[0mcurrent\u001b[0m\u001b[0;34m:\u001b[0m\u001b[0;34m\u001b[0m\u001b[0;34m\u001b[0m\u001b[0m\n\u001b[1;32m     50\u001b[0m                 \u001b[0mcombine_bins\u001b[0m \u001b[0;34m=\u001b[0m \u001b[0;34m[\u001b[0m\u001b[0mtuple\u001b[0m\u001b[0;34m(\u001b[0m\u001b[0;34m[\u001b[0m\u001b[0mcurrent\u001b[0m\u001b[0;34m[\u001b[0m\u001b[0mi\u001b[0m\u001b[0;34m]\u001b[0m\u001b[0;34m,\u001b[0m \u001b[0mcurr_bins\u001b[0m\u001b[0;34m[\u001b[0m\u001b[0mi\u001b[0m\u001b[0;34m]\u001b[0m\u001b[0;34m]\u001b[0m\u001b[0;34m)\u001b[0m \u001b[0;32mfor\u001b[0m \u001b[0mi\u001b[0m \u001b[0;32min\u001b[0m \u001b[0mrange\u001b[0m\u001b[0;34m(\u001b[0m\u001b[0mlen\u001b[0m\u001b[0;34m(\u001b[0m\u001b[0mcurr_bins\u001b[0m\u001b[0;34m)\u001b[0m\u001b[0;34m)\u001b[0m\u001b[0;34m]\u001b[0m\u001b[0;34m\u001b[0m\u001b[0;34m\u001b[0m\u001b[0m\n",
      "\u001b[0;32m~/Documents/Yiwen PhD/Confirmation/Year_2/binning.py\u001b[0m in \u001b[0;36mcutPointBin\u001b[0;34m(x, known_cut_lst, k)\u001b[0m\n\u001b[1;32m    219\u001b[0m     \u001b[0;32mfor\u001b[0m \u001b[0mi\u001b[0m \u001b[0;32min\u001b[0m \u001b[0mrange\u001b[0m\u001b[0;34m(\u001b[0m\u001b[0mlen\u001b[0m\u001b[0;34m(\u001b[0m\u001b[0muniqx\u001b[0m\u001b[0;34m)\u001b[0m\u001b[0;34m)\u001b[0m\u001b[0;34m:\u001b[0m\u001b[0;34m\u001b[0m\u001b[0;34m\u001b[0m\u001b[0m\n\u001b[1;32m    220\u001b[0m         \u001b[0;32mfor\u001b[0m \u001b[0mj\u001b[0m \u001b[0;32min\u001b[0m \u001b[0mrange\u001b[0m\u001b[0;34m(\u001b[0m\u001b[0mlen\u001b[0m\u001b[0;34m(\u001b[0m\u001b[0mx\u001b[0m\u001b[0;34m)\u001b[0m\u001b[0;34m)\u001b[0m\u001b[0;34m:\u001b[0m\u001b[0;34m\u001b[0m\u001b[0;34m\u001b[0m\u001b[0m\n\u001b[0;32m--> 221\u001b[0;31m             \u001b[0;32mif\u001b[0m \u001b[0muniqx\u001b[0m\u001b[0;34m[\u001b[0m\u001b[0mi\u001b[0m\u001b[0;34m]\u001b[0m \u001b[0;34m==\u001b[0m \u001b[0mx\u001b[0m\u001b[0;34m[\u001b[0m\u001b[0mj\u001b[0m\u001b[0;34m]\u001b[0m\u001b[0;34m:\u001b[0m\u001b[0;34m\u001b[0m\u001b[0;34m\u001b[0m\u001b[0m\n\u001b[0m\u001b[1;32m    222\u001b[0m                 \u001b[0mresult_list\u001b[0m\u001b[0;34m[\u001b[0m\u001b[0mj\u001b[0m\u001b[0;34m]\u001b[0m \u001b[0;34m=\u001b[0m \u001b[0mcurrent_list\u001b[0m\u001b[0;34m[\u001b[0m\u001b[0mi\u001b[0m\u001b[0;34m]\u001b[0m\u001b[0;34m\u001b[0m\u001b[0;34m\u001b[0m\u001b[0m\n\u001b[1;32m    223\u001b[0m     \u001b[0;32mreturn\u001b[0m \u001b[0mresult_list\u001b[0m\u001b[0;34m\u001b[0m\u001b[0;34m\u001b[0m\u001b[0m\n",
      "\u001b[0;31mKeyboardInterrupt\u001b[0m: "
     ]
    }
   ],
   "source": [
    "all_result = {}\n",
    "for df in all_files:\n",
    "    if df.shape[0] > 100000:\n",
    "        print('Stop')\n",
    "    print('Start: ' , df.shape[0])\n",
    "    final_fmi, bins_num = Stepwise(df.values, m=0, current=None, candi_fmi=0, stop_indx=df.shape[1] -1)\n",
    "    if bins_num not in all_result:\n",
    "        all_result[bins_num] = [final_fmi]\n",
    "    else:\n",
    "        all_result[bins_num] += [final_fmi]\n",
    "    print('Finished')\n",
    "    "
   ]
  },
  {
   "cell_type": "code",
   "execution_count": null,
   "metadata": {},
   "outputs": [],
   "source": [
    "950, 1950, 3950, 7950, 15950, 31950"
   ]
  },
  {
   "cell_type": "code",
   "execution_count": 5,
   "metadata": {},
   "outputs": [],
   "source": [
    "# import pickle\n",
    "\n",
    "# with open('Base_Line_2_step_wise_only_Relevant_Variables_.p', 'wb') as fp:\n",
    "#     pickle.dump(all_result, fp, protocol=pickle.HIGHEST_PROTOCOL)"
   ]
  },
  {
   "cell_type": "code",
   "execution_count": 9,
   "metadata": {},
   "outputs": [],
   "source": [
    "import pickle\n",
    "\n",
    "with open('Base_Line_2_step_wise_only_Relevant_Variables_.p', 'rb') as fp:\n",
    "    all_result = pickle.load(fp)"
   ]
  },
  {
   "cell_type": "code",
   "execution_count": 10,
   "metadata": {},
   "outputs": [
    {
     "data": {
      "text/plain": [
       "{109: [0.23831350969405118],\n",
       " 154: [0.18619479075120982],\n",
       " 204: [0.17519501298058504],\n",
       " 196: [0.1567210809957471],\n",
       " 256: [0.16670286601608542]}"
      ]
     },
     "execution_count": 10,
     "metadata": {},
     "output_type": "execute_result"
    }
   ],
   "source": [
    "all_result"
   ]
  },
  {
   "cell_type": "code",
   "execution_count": 7,
   "metadata": {},
   "outputs": [
    {
     "data": {
      "image/png": "[encoded data removed]",
      "text/plain": [
       "<Figure size 432x288 with 1 Axes>"
      ]
     },
     "metadata": {
      "needs_background": "light"
     },
     "output_type": "display_data"
    }
   ],
   "source": [
    "import pandas as pd\n",
    "bias_lst = [np.mean(all_result[key])-0.45832 for key in all_result]\n",
    "std_lst = [np.std(all_result[key]) for key in all_result]\n",
    "summ = pd.DataFrame({'Mean': bias_lst, 'std': std_lst})\n",
    "summ.index = list(all_result.keys())\n",
    "summ\n",
    "import matplotlib.pyplot as plt\n",
    "width = 0.35\n",
    "num_reps = 1\n",
    "summ = summ.sort_index()\n",
    "ind = summ.index\n",
    "y = summ[f'Mean']\n",
    "yerr = summ[f'std'].values\n",
    "# plt.scatter(ind, summ[f'Mean'])\n",
    "for key in summ.index:\n",
    "    plt.errorbar(ind, y, yerr=yerr, fmt='o', label=str(key))\n",
    "    \n",
    "plt.legend()\n",
    "plt.title('Stepwise Overall Error vs num of bins')\n",
    "plt.xlabel('Num of bins')\n",
    "plt.ylabel('Overall Error')\n",
    "plt.show()"
   ]
  },
  {
   "cell_type": "code",
   "execution_count": 8,
   "metadata": {},
   "outputs": [
    {
     "data": {
      "text/plain": [
       "{109: [0.23831350969405118],\n",
       " 154: [0.18619479075120982],\n",
       " 204: [0.17519501298058504],\n",
       " 196: [0.1567210809957471],\n",
       " 256: [0.16670286601608542]}"
      ]
     },
     "execution_count": 8,
     "metadata": {},
     "output_type": "execute_result"
    }
   ],
   "source": [
    "all_result"
   ]
  },
  {
   "cell_type": "code",
   "execution_count": 11,
   "metadata": {},
   "outputs": [],
   "source": [
    "# combine\n",
    "\n",
    "import pickle\n",
    "\n",
    "with open('RP_tree_1_only_Relevant_Variables_.p', 'rb') as fp:\n",
    "    result_dic_rp = pickle.load(fp)"
   ]
  },
  {
   "cell_type": "code",
   "execution_count": 17,
   "metadata": {},
   "outputs": [],
   "source": [
    "with open('base_line1_KD_Tree_only_Relevant_Variables.p', 'rb') as fp:\n",
    "    result_dic_kd = pickle.load(fp)"
   ]
  },
  {
   "cell_type": "code",
   "execution_count": 46,
   "metadata": {},
   "outputs": [
    {
     "data": {
      "image/png": "[encoded data removed]",
      "text/plain": [
       "<Figure size 432x288 with 1 Axes>"
      ]
     },
     "metadata": {
      "needs_background": "light"
     },
     "output_type": "display_data"
    }
   ],
   "source": [
    "import pandas as pd\n",
    "import math\n",
    "import matplotlib.pyplot as plt\n",
    "import numpy as np\n",
    "\n",
    "def bias_std(dic):\n",
    "    \"\"\"\n",
    "    dic = result_dic[key]\n",
    "    \"\"\"\n",
    "    bias_lst = [np.mean(dic[key])-0.45832 for key in dic]\n",
    "    std_lst = [np.std(dic[key]) for key in dic]\n",
    "    summ = pd.DataFrame({'Mean': bias_lst, 'std': std_lst})\n",
    "    summ.index = list(dic.keys())\n",
    "    return summ\n",
    "\n",
    "\n",
    "fig, ax11 = plt.subplots(sharex=True, sharey=False)\n",
    "ax11.set_xlabel('Num of bins')\n",
    "ax11.set_title('Overall Errors with only relevant variables')\n",
    "ax11.set_ylabel('Overall Errors')\n",
    "for key in result_dic_rp:\n",
    "    summ = bias_std(result_dic_rp[key][0])\n",
    "    summ = summ.sort_index()\n",
    "    ind = summ.index\n",
    "    y = summ[f'Mean']\n",
    "    yerr = summ[f'std'].values\n",
    "    ax11.errorbar(ind, y, yerr=yerr, fmt='o', label='RP-' + str(key))\n",
    "\n",
    "for key in result_dic_rp:\n",
    "    summ = bias_std(result_dic_kd[key][0])\n",
    "    summ = summ.sort_index()\n",
    "    ind = summ.index\n",
    "    y = summ[f'Mean']\n",
    "    yerr = summ[f'std'].values\n",
    "    ax11.errorbar(ind, y, yerr=yerr, fmt='o', label='KD-' + str(key))\n",
    "\n",
    "    \n",
    "bias_lst = [np.mean(all_result[key])-0.45832 for key in all_result]\n",
    "std_lst = [np.std(all_result[key]) for key in all_result]\n",
    "summ = pd.DataFrame({'Mean': bias_lst, 'std': std_lst})\n",
    "summ.index = list(all_result.keys())\n",
    "summ\n",
    "\n",
    "width = 0.35\n",
    "num_reps = 1\n",
    "summ = summ.sort_index()\n",
    "ind = summ.index\n",
    "y = summ[f'Mean']\n",
    "yerr = summ[f'std'].values\n",
    "# plt.scatter(ind, summ[f'Mean'])\n",
    "val = [950, 1950]\n",
    "for i in range(len(val)):\n",
    "    plt.errorbar(ind[i], y.values[i], yerr=yerr[i], fmt='o', label='SW-'+str(val[i]))\n",
    "    \n",
    "plt.legend()\n",
    "plt.title('Overall Error vs num of bins (Only Relevant)')\n",
    "plt.xlabel('Num of bins')\n",
    "plt.ylabel('Overall Error')\n",
    "\n",
    "ax11.hlines(0, xmin=0, xmax=1050, color='k', linestyle='dashed', linewidth=1)\n",
    "ax11.legend()\n",
    "plt.show()"
   ]
  },
  {
   "cell_type": "code",
   "execution_count": 33,
   "metadata": {},
   "outputs": [
    {
     "data": {
      "text/plain": [
       "Int64Index([109, 154, 196, 204, 256], dtype='int64')"
      ]
     },
     "execution_count": 33,
     "metadata": {},
     "output_type": "execute_result"
    }
   ],
   "source": [
    "ind"
   ]
  },
  {
   "cell_type": "code",
   "execution_count": 43,
   "metadata": {},
   "outputs": [
    {
     "data": {
      "text/plain": [
       "array([-0.22000649, -0.27212521, -0.30159892, -0.28312499, -0.29161713])"
      ]
     },
     "execution_count": 43,
     "metadata": {},
     "output_type": "execute_result"
    }
   ],
   "source": [
    "y.values"
   ]
  },
  {
   "cell_type": "code",
   "execution_count": 47,
   "metadata": {},
   "outputs": [
    {
     "data": {
      "text/plain": [
       "(array([1, 2, 3, 4, 5]), array([1, 1, 1, 2, 1]))"
      ]
     },
     "execution_count": 47,
     "metadata": {},
     "output_type": "execute_result"
    }
   ],
   "source": [
    "a = [1,2,3,4,5,4]\n",
    "np.unique(a, return_counts = True)"
   ]
  },
  {
   "cell_type": "code",
   "execution_count": null,
   "metadata": {},
   "outputs": [],
   "source": []
  }
 ],
 "metadata": {
  "kernelspec": {
   "display_name": "Python 3",
   "language": "python",
   "name": "python3"
  },
  "language_info": {
   "codemirror_mode": {
    "name": "ipython",
    "version": 3
   },
   "file_extension": ".py",
   "mimetype": "text/x-python",
   "name": "python",
   "nbconvert_exporter": "python",
   "pygments_lexer": "ipython3",
   "version": "3.8.5"
  }
 },
 "nbformat": 4,
 "nbformat_minor": 4
}
