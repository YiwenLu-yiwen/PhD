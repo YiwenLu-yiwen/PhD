{
 "cells": [
  {
   "attachments": {},
   "cell_type": "markdown",
   "metadata": {},
   "source": [
    "This is the script how to use Joint/Stage-wise discretization  \n",
    "\n",
    "Note: Joint discretization is super fast than stage-wise.\n",
    "\n",
    "Assume $j$ is the best cut point set in $j$th iteration, we could find another cut point ${t_{j+1}}$ to reach maximum MI or minimum P_value.  \n",
    "We define sample size $n$, number of predictors $p$ and $k$ selected variables.\n",
    "Time complexity of joint discretization:\n",
    "* $\\argmax(I(X_{j+1};Y) - I(X_{j};Y)) \\rightarrow O(npk)$\n",
    "* $\\argmin(P(I(X_{j+1};Y) - I(X_{j};Y))) \\rightarrow O(npk)$\n",
    "\n",
    "Furthermore, we could further decrese the time complexity to $O(npl)$, where $l$ is the unique selected variable of $k$."
   ]
  },
  {
   "cell_type": "code",
   "execution_count": 39,
   "metadata": {},
   "outputs": [
    {
     "name": "stderr",
     "output_type": "stream",
     "text": [
      "/Users/panos/git/PhD/Discretization/data_generator_v2.py:161: RuntimeWarning: overflow encountered in exp\n",
      "  mu = 1/(1+ np.exp(-eta))\n"
     ]
    }
   ],
   "source": [
    "import sys,os\n",
    "import pandas as pd\n",
    "import numpy as np\n",
    "sys.path.insert(1, os.path.realpath(os.path.pardir))\n",
    "sys.path.append('../Discretization/')\n",
    "\n",
    "\n",
    "from joint_nalgorithmMI import efficientJointDiscretizationMI\n",
    "from joint_nalgorithmPvalue import efficientJointDiscretizationPvalue\n",
    "from joint_lognalgorithmPvalue import stageWiseDiscretizationPvalue\n",
    "from joint_lognalgorithmMI import stageWiseDiscretizationMI\n",
    "\n",
    "from data_generator_v2 import dataGenerator\n",
    "\n",
    "num_total_features = 30\n",
    "num_relevant_features = 20\n",
    "num_samples = 100\n",
    "df_X, y, variable_lst, btrue, formula = dataGenerator(n=num_samples,\n",
    "                                                    rho = 0.8,\n",
    "                                                    p = num_total_features,\n",
    "                                                    r = num_relevant_features,\n",
    "                                                    num_terms = 10,\n",
    "                                                    degree = 5,\n",
    "                                                    alpha = None,\n",
    "                                                    beta = 0.5,\n",
    "                                                    SNR = 10,\n",
    "                                                    random_state = 0,\n",
    "                                                    model = 'binomial').sample()\n",
    "\n"
   ]
  },
  {
   "cell_type": "code",
   "execution_count": 40,
   "metadata": {},
   "outputs": [],
   "source": [
    "# With maximum MI\n",
    "dims_list, step_fmi, best_bins, values, best_counts, best_y_counts, best_cond_entr, num_bins =\\\n",
    "      efficientJointDiscretizationMI(duplicate=True, early_stopping='chi_square_adjust', delta_correction=True, delta=0.05).fit(df_X.values, y)"
   ]
  },
  {
   "cell_type": "code",
   "execution_count": 41,
   "metadata": {},
   "outputs": [
    {
     "name": "stdout",
     "output_type": "stream",
     "text": [
      "Dimension cuts: [19, 12]\n",
      "10.0% features selected: [12 19]\n",
      "0.0% false positives\n"
     ]
    }
   ],
   "source": [
    "print(f'Dimension cuts: {dims_list}')\n",
    "\n",
    "features_selected = np.unique(dims_list)\n",
    "num_features_selected = features_selected.shape[0]\n",
    "percentage = num_features_selected/num_relevant_features\n",
    "false_positives = (features_selected > num_relevant_features).sum()/num_features_selected\n",
    "\n",
    "print(f'{percentage*100}% features selected: {features_selected}')\n",
    "print(f'{false_positives}% false positives')\n",
    "\n"
   ]
  },
  {
   "cell_type": "code",
   "execution_count": 47,
   "metadata": {},
   "outputs": [],
   "source": [
    "def discretize(data, bins):\n",
    "    split = np.array_split(np.sort(data), bins)\n",
    "    cutoffs = [x[-1] for x in split]\n",
    "    cutoffs = cutoffs[:-1]\n",
    "    discrete = np.digitize(data, cutoffs, right=True)\n",
    "    return discrete, cutoffs"
   ]
  },
  {
   "cell_type": "code",
   "execution_count": 187,
   "metadata": {},
   "outputs": [
    {
     "name": "stdout",
     "output_type": "stream",
     "text": [
      "['structure', 'number_atoms', 'delta_e', 'temperature', 'rel_coord_0', 'rel_coord_1', 'rel_coord_2', 'rel_coord_3', 'rel_coord_4', 'rel_coord_5', 'rel_coord_6', 'rel_coord_7', 'radius_gyration', 'hl_gap', 'chem_hardness', 'elec_chem_potential', 'neg_homo', 'neg_lumo', 'evdw_per_atom', 'delta_evdw', 'delta_hardness', 'delta_elec_chem_potential', 'force_per_atom']\n"
     ]
    }
   ],
   "source": [
    "## real data gold cluster\n",
    "\n",
    "data_fn = '/Users/panos/Desktop/yiwen/gold.csv'\n",
    "\n",
    "data_df = pd.read_csv(data_fn, header=0, index_col=False)\n",
    "print(data_df.columns.to_list())\n",
    "target = data_df.hl_gap.to_numpy()\n",
    "\n",
    "num_bins = 4\n",
    "target_disc = pd.qcut(data_df.hl_gap, num_bins,labels= np.arange(num_bins), retbins=False).to_numpy() \n",
    "\n",
    "X = data_df.drop(['structure','number_atoms', 'hl_gap'], axis=1)\n",
    "\n",
    "y = target_disc.copy()\n",
    "\n",
    "features = X.columns.to_numpy()\n",
    "\n",
    "dims_list, step_fmi, best_bins, values, best_counts, best_y_counts, best_cond_entr, num_bins =\\\n",
    "      efficientJointDiscretizationMI(duplicate=True, early_stopping='chi_square_adjust', delta_correction=True, delta=0.05).fit(X.values, y)\n",
    "\n",
    "print(f'Dimension cuts: {dims_list}')\n",
    "\n",
    "features_selected = np.unique(dims_list)\n",
    "\n",
    "features[features_selected-1]"
   ]
  },
  {
   "cell_type": "code",
   "execution_count": 204,
   "metadata": {},
   "outputs": [
    {
     "name": "stdout",
     "output_type": "stream",
     "text": [
      "['PSME1', 'CISD1', 'SPDEF', 'ATF1', 'RHEB', 'IGF1R', 'FOXO3', 'GSTM2', 'RHOA', 'IL1B', 'ASAH1', 'RALA', 'ARHGEF12', 'SOX2', 'SERPINE1', 'HLA.DMA', 'EGF', 'SPTLC2', 'APP', 'TSKU', 'TMEM2', 'NOS3', 'CSNK1A1', 'NFATC4', 'TBP', 'SLC2A6', 'EZH2', 'ICAM3', 'BRCA1', 'PSMD4', 'PHKG2', 'ETV1', 'KDM5B', 'COG4', 'MCM3', 'TERT', 'SNX13', 'PAK4', 'DPH2', 'SNX6', 'EED', 'WIPF2', 'NENF', 'RPN1', 'C2CD2L', 'GABPB1', 'POLR2K', 'PTK2B', 'PAF1', 'POLR1C', 'RUVBL1', 'AKT1', 'SENP6', 'HSPB1', 'EBP', 'CASK', 'RRP8', 'PIK3C3', 'BHLHE40', 'BDH1', 'SH3BP5', 'PPP2R5A', 'EML3', 'BIRC5', 'EPRS', 'PAX8', 'CBLB', 'PDS5A', 'DFFB', 'TGFB3', 'XBP1', 'NMT1', 'ARFIP2', 'STAMBP', 'PRKX', 'FAH', 'PLP2', 'SOX4', 'TESK1', 'HN1L', 'RRAGA', 'ELOVL6', 'ACBD3', 'PMAIP1', 'TWF2', 'HDAC6', 'CCND1', 'PXN', 'PHKB', 'NFKBIB', 'CASC3', 'MLEC', 'GLI2', 'USP22', 'TMED10', 'CHERP', 'PIK3CA', 'TRAPPC6A', 'ATP2C1', 'USP14', 'APPBP2', 'RPS6', 'ECH1', 'HDAC2', 'DFFA', 'MRPL19', 'SUZ12', 'CSNK2A2', 'TICAM1', 'KIAA0100', 'PAICS', 'CDK2', 'EDN1', 'KIAA0494', 'SQSTM1', 'HIF1A', 'WRB', 'ETFB', 'CAMSAP2', 'ARNT2', 'SPAG7', 'MAPK1IP1L', 'MSH6', 'UBE2C', 'HS2ST1', 'TXLNA', 'DNAJB1', 'TOPBP1', 'ABCF1', 'LGMN', 'PTGS2', 'PLA2G4A', 'MAT2A', 'MBTPS1', 'ZNF274', 'CLIC4', 'EIF4G1', 'BTK', 'MYL9', 'PSMD2', 'CLTC', 'HSD17B10', 'STX1A', 'ALDOA', 'STAT5B', 'CCNA2', 'SDHB', 'ETS1', 'FOXO4', 'TOMM34', 'KIAA0907', 'HK1', 'PAPD7', 'PLOD3', 'TRAK2', 'VAPB', 'HSPD1', 'BUB1B', 'MRPL12', 'PNP', 'CEBPA', 'PSMF1', 'USP1', 'RPA1', 'KLHDC2', 'SCARB1', 'TPM1', 'TM9SF2', 'ATF6', 'NUP88', 'FUT1', 'PRUNE', 'SYPL1', 'ZNF451', 'RALB', 'TRIM13', 'FBXO7', 'PPARD', 'ENOSF1', 'STAT3', 'LIG1', 'GNB5', 'INSIG1', 'DNMT3A', 'HIST2H2BE', 'S100A4', 'KTN1', 'ARHGAP1', 'LPAR2', 'COASY', 'RASA1', 'ATMIN', 'CASP3', 'PSME2', 'NISCH', 'CPSF4', 'COPB2', 'GADD45A', 'SMNDC1', 'NUDCD3', 'FGFR2', 'HMGCR', 'SLC35B1', 'TIMP2', 'LSM6', 'CALM3', 'SACM1L', 'TCERG1', 'KIAA0196', 'DNM1', 'DDIT4', 'ALAS1', 'PAFAH1B1', 'PSRC1', 'ERO1L', 'APOE', 'RBM15B', 'TOMM70A', 'CBR1', 'PRKCD', 'PIK3R4', 'CSNK1E', 'JUN', 'TMEM50A', 'SCCPDH', 'TSC22D3', 'TFAP2A', 'ZNF395', 'VPS72', 'CLSTN1', 'MAPK9', 'SKP1', 'POP4', 'NFE2L2', 'BLCAP', 'FAM20B', 'PROS1', 'CRKL', 'ZNF318', 'FDFT1', 'TRAP1', 'GTF2A2', 'PSMD9', 'MTFR1', 'UBE2A', 'NIT1', 'SYNGR3', 'NFKB2', 'STK25', 'ABCF3', 'FCHO1', 'OXSR1', 'SMARCC1', 'PAK6', 'GHR', 'GLOD4', 'CDK4', 'IL4R', 'PRKAG2', 'KIT', 'PTPRC', 'PSMG1', 'TMEM97', 'LRRC41', 'KIAA1279', 'TCEAL4', 'NUP133', 'NUP62', 'SPTAN1', 'MALT1', 'YKT6', 'KIF2C', 'NNT', 'COL1A1', 'CDC25A', 'TP53', 'IQGAP1', 'EGR1', 'MUC1', 'AURKB', 'HSPA4', 'TOP2A', 'NCK2', 'AURKA', 'B3GNT1', 'CDK5R1', 'SCP2', 'RAD9A', 'DRAP1', 'PCMT1', 'FYN', 'MYC', 'POLB', 'CETN3', 'SMC4', 'SMARCD2', 'MPZL1', 'NRAS', 'EBNA1BP2', 'TATDN2', 'LRPAP1', 'BNIP3L', 'TBPL1', 'RAE1', 'CDK1', 'SLC35A1', 'NIPSNAP1', 'BCL7B', 'TIMELESS', 'DHX29', 'MMP2', 'TCEA2', 'FHL2', 'FKBP4', 'KAT6A', 'CDK7', 'MAP3K4', 'ZFP36', 'INPP1', 'RAC2', 'HMOX1', 'COL4A1', 'EPB41L2', 'GNAI2', 'TSTA3', 'DNMT1', 'RAB27A', 'DDR1', 'LPGAT1', 'DUSP11', 'TP53BP2', 'CDKN1A', 'TJP1', 'ABCB6', 'MTHFD2', 'PRAF2', 'DNTTIP2', 'HTATSF1', 'NCAPD2', 'TMEM109', 'ICAM1', 'NUP93', 'PLA2G15', 'PIP4K2B', 'MYCBP2', 'PGRMC1', 'AARS', 'GPC1', 'ELAC2', 'PLSCR1', 'CTSL1', 'CTSD', 'ARHGEF2', 'ILK', 'NFIL3', 'ARL4C', 'CPNE3', 'C5', 'SCRN1', 'MAN2B1', 'NFKBIA', 'DCTD', 'MBNL1', 'MYCBP', 'PTPN1', 'BRP44', 'ECD', 'CIRBP', 'NFKBIE', 'PRSS23', 'CCNH', 'P4HA2', 'ATP6V0B', 'CAPN1', 'STXBP1', 'ITGB5', 'SLC11A2', 'PDIA5', 'RAP1GAP', 'NOLC1', 'CAT', 'DUSP14', 'HMGA2', 'IGFBP3', 'TRIB1', 'TP53BP1', 'FRS2', 'BECN1', 'KDELR2', 'ELAVL1', 'IFNAR1', 'MIF', 'DAG1', 'IGF2BP2', 'IGF2R', 'TIPARP', 'CRTAP', 'GMNN', 'CYTH1', 'PRCP', 'SMARCA4', 'PYGL', 'RPA2', 'ERBB3', 'GTF2E2', 'ANXA7', 'TXNRD1', 'FZD1', 'CRYZ', 'GAA', 'SKIV2L', 'BLMH', 'RRP1B', 'TSPAN3', 'PIK3R3', 'KEAP1', 'TFDP1', 'SMC3', 'LBR', 'PPIE', 'TERF2IP', 'BNIP3', 'BCL2', 'RBM6', 'CSK', 'ALDOC', 'UBE2L6', 'SYK', 'PCBD1', 'ICMT', 'EIF4EBP1', 'GNPDA1', 'CCND3', 'NUCB2', 'RSU1', 'PTPN6', 'DUSP4', 'PTPN12', 'PCK2', 'RB1', 'GFPT1', 'BLVRA', 'S100A13', 'MYBL2', 'STX4', 'TMCO1', 'PARP1', 'CCDC85B', 'DDB2', 'BAMBI', 'HADH', 'GLRX', 'MVP', 'STMN1', 'GALE', 'PTPRF', 'PGM1', 'LOXL1', 'MYO10', 'LIPA', 'PHGDH', 'ST7', 'IKBKB', 'PCM1', 'IER3', 'FAT1', 'RNMT', 'EGFR', 'NET1', 'DECR1', 'CDK6', 'NPC1', 'MEST', 'PAFAH1B3', 'CALU', 'LGALS8', 'LRP10', 'ATP1B1', 'OXCT1', 'SLC25A4', 'PSMB10', 'ASCC3', 'TRAM2', 'PYCR1', 'NCOA3', 'POLD4', 'FOSL1', 'PRKACA', 'LYRM1', 'VDAC1', 'SORBS3', 'SPAG4', 'E2F2', 'SLC5A6', 'RGS2', 'SCYL3', 'TBX2', 'DNAJA3', 'DCUN1D4', 'DYRK3', 'POLG2', 'TRAPPC3', 'TCFL5', 'CRK', 'RBM34', 'ITGB1BP1', 'ACLY', 'RAD51C', 'SMC1A', 'YME1L1', 'ACAA1', 'HSPA8', 'CCNB1', 'WFS1', 'UBE3B', 'NPDC1', 'ALDH7A1', 'NFATC3', 'PCNA', 'POLR2I', 'PSMB8', 'AKAP8L', 'PLEKHJ1', 'HAT1', 'G3BP1', 'TPD52L2', 'PIH1D1', 'PRKCQ', 'SHB', 'UTP14A', 'TSEN2', 'SUV39H1', 'LYPLA1', 'BIRC2', 'MAP2K5', 'PUF60', 'DHRS7', 'ARID5B', 'PAK1', 'CDC42', 'IGHMBP2', 'ADO', 'TCTN1', 'AKR7A2', 'PPP2R5E', 'LAMA3', 'CCNE2', 'FEZ2', 'IKBKAP', 'SGCB', 'ENOPH1', 'CNOT4', 'SNAP25', 'JMJD6', 'SLC35F2', 'ANO10', 'STUB1', 'PGAM1', 'BAD', 'PSMD10', 'RAB11FIP2', 'FPGS', 'RNH1', 'ATG3', 'NCK1', 'CFLAR', 'HEATR1', 'WDR7', 'AKAP8', 'SLC1A4', 'GRWD1', 'STAT1', 'FOXJ3', 'MTERFD1', 'CHIC2', 'USP7', 'NOSIP', 'DLD', 'IDE', 'CD40', 'PRPF4', 'MELK', 'DAXX', 'SMAD3', 'OXA1L', 'SNX7', 'CDCA4', 'TBC1D9B', 'CDC20', 'NARFL', 'DDX42', 'IKBKE', 'CCL2', 'WDTC1', 'PLSCR3', 'H2AFV', 'NUSAP1', 'FAM69A', 'SRC', 'BMP4', 'XPO7', 'FAIM', 'PXMP2', 'TIMM17B', 'STXBP2', 'MNAT1', 'HPRT1', 'RRS1', 'ADAT1', 'SCAND1', 'MFSD10', 'COPS7A', 'FIS1', 'NUDT9', 'CSRP1', 'METRN', 'TCTA', 'TLK2', 'KIAA1033', 'DNAJB6', 'TLR4', 'HMGCS1', 'SPRED2', 'MAP7', 'CHAC1', 'GNAS', 'TEX10', 'ZNF586', 'IKZF1', 'APBB2', 'RNF167', 'EPHA3', 'TXNDC9', 'VGLL4', 'CASP10', 'YTHDF1', 'LSM5', 'ZMYM2', 'CHMP6', 'CASP7', 'PIGB', 'CHEK2', 'ACD', 'SUPV3L1', 'GPATCH8', 'TGFBR2', 'NOTCH1', 'SHC1', 'ARPP19', 'RTN2', 'NPEPL1', 'SIRT3', 'UBQLN2', 'DMTF1', 'CLPX', 'TXNL4B', 'PRR15L', 'ST6GALNAC2', 'ADH5', 'GOLT1B', 'PPOX', 'CANT1', 'HOMER2', 'CLTB', 'PHKA1', 'CYCS', 'MAP4K4', 'PAN2', 'PPIC', 'EIF5', 'GNAI1', 'TM9SF3', 'CCDC86', 'SLC25A14', 'TBXA2R', 'FBXO11', 'HERPUD1', 'RPL39L', 'BPHL', 'MAPKAPK3', 'MBOAT7', 'PNKP', 'SLC35A3', 'LSR', 'MEF2C', 'KDM5A', 'FAM63A', 'RAB4A', 'IFRD2', 'BACE2', 'LYN', 'ISOC1', 'DUSP3', 'MOK', 'PPP1R13B', 'DNAJB2', 'CERK', 'LAP3', 'MAPKAPK5', 'HDGFRP3', 'PRKCH', 'RAB21', 'PSIP1', 'CREB1', 'MBNL2', 'PACSIN3', 'MTA1', 'MACF1', 'CCNA1', 'HIST1H2BK', 'PCCB', 'STAP2', 'PMM2', 'HSD17B11', 'FBXL12', 'WDR61', 'FAS', 'CENPE', 'CREG1', 'PRR7', 'TMEM110', 'ZNF589', 'BAX', 'CNDP2', 'TNIP1', 'P4HTM', 'REEP5', 'BZW2', 'CGRRF1', 'AMDHD2', 'PEX11A', 'GFOD1', 'PECR', 'SOCS2', 'ZDHHC6', 'ITGAE', 'TMEM5', 'ATP5S', 'NGRN', 'HOXA5', 'GRN', 'NUP85', 'GTPBP8', 'PTK2', 'EPN2', 'CCDC90A', 'KIAA0528', 'MRPS16', 'RPS5', 'NOL3', 'NR1H2', 'PLS1', 'DUSP22', 'RPS6KA1', 'DCK', 'TRIM2', 'SNCA', 'VPS28', 'LRRC16A', 'CHP', 'NR2F6', 'EXOSC4', 'PDLIM1', 'CRELD2', 'RRP12', 'ACAT2', 'THAP11', 'CEBPD', 'MAST2', 'DHDDS', 'GADD45B', 'KIAA0355', 'DYNLT3', 'CHMP4A', 'IPO13', 'ITFG1', 'SPP1', 'HYOU1', 'FOS', 'MCOLN1', 'ID2', 'KCNK1', 'AXIN1', 'RAI14', 'DNAJC15', 'HOXA10', 'CASP2', 'CTNND1', 'ZNF131', 'HOOK2', 'ERBB2', 'INTS3', 'RFNG', 'MICALL1', 'KLHL21', 'TLE1', 'FZD7', 'COG2', 'MRPS2', 'KCTD5', 'CNPY3', 'ADAM10', 'CD58', 'KIF5C', 'HMG20B', 'PIN1', 'LAGE3', 'TNFRSF21', 'KIF14', 'DUSP6', 'CYB561', 'HTRA1', 'WASF3', 'TSPAN6', 'FBXO21', 'PPP2R3C', 'ADRB2', 'GRB10', 'MMP1', 'ZW10', 'CORO1A', 'XPNPEP1', 'MAMLD1', 'DSG2', 'SLC27A3', 'CD97', 'IL13RA1', 'AGL', 'CDC25B', 'GATA3', 'RPA3', 'TES', 'SPR', 'RELB', 'EPHB2', 'RPIA', 'GPR56', 'NVL', 'CHEK1', 'ME2', 'PDGFA', 'WDR67', 'RFC2', 'TIMM9', 'ORC1', 'PARP2', 'FASTKD5', 'PTPLAD1', 'MSRA', 'SYNE2', 'UBE3C', 'CCDC92', 'CXCL2', 'TIMM22', 'ATF5', 'NSDHL', 'ADI1', 'ADCK3', 'GDPD5', 'TARBP1', 'RBKS', 'KDM3A', 'BID', 'MTF2', 'HLA.DRA', 'PIK3C2B', 'SLC25A46', 'CDK19', 'KIAA0753', 'KAT6B', 'CHN1', 'MAPK13', 'UFM1', 'GNA15', 'IARS2', 'GATA2', 'RALGDS', 'NRIP1', 'CCNB2', 'RNPS1', 'SATB1', 'ARID4B', 'GSTZ1', 'SESN1', 'SPEN', 'PFKL', 'PDHX', 'DENND2D', 'CTTN', 'UBR7', 'GRB7', 'CD44', 'VAV3', 'ABHD6', 'MAPKAPK2', 'CAB39', 'TIAM1', 'DNM1L', 'DERA', 'PTPRK', 'HERC6', 'MKNK1', 'ACOT9', 'ST3GAL5', 'CTNNAL1', 'ABHD4', 'INPP4B', 'ZMIZ1', 'PPARG', 'RPP38', 'CAST', 'BAG3', 'GNA11', 'TOR1A', 'SLC25A13', 'TSPAN4', 'NR3C1', 'TRIB3', 'PHF15', 'CXCR4', 'FKBP14', 'CIAPIN1', 'COG7', 'TUBB6', 'ABL1', 'CCNF', 'HSPA1A', 'FAM57A', 'EVL', 'GPER', 'EAPP', 'EXT1', 'POLE2', 'PLCB3', 'C2CD2', 'ANKRD10', 'DDX10', 'CEP57', 'RAB31', 'ABCC5', 'RFC5', 'HES1', 'KLHL9', 'UBE2J1', 'SLC37A4', 'PLK1', 'NPRL2', 'PWP1', 'PLEKHM1', 'VAT1', 'KIF20A', 'CDH3', 'SSBP2', 'SNX11', 'SFN', 'RFX5', 'PKIG', 'FSD1', 'ATP6V1D', 'CDC45', 'EDEM1', 'MYLK', 'USP6NL', 'NT5DC2', 'CCP110', 'STK10', 'UGDH', 'SQRDL', 'HEBP1', 'FGFR4', 'CDKN2A', 'ATP11B', 'CD320', 'CDKN1B', 'MLLT11', 'CEBPZ', 'GAPDH', 'CBR3', 'Output2']\n",
      "{'n stage: 0': 0, 'n stage: 1': 1, 'n stage: 2': 2, 'n stage: 3': 3}\n",
      "Dimension cuts: [847, 502]\n"
     ]
    },
    {
     "data": {
      "text/plain": [
       "array(['TRAPPC3', 'FASTKD5'], dtype=object)"
      ]
     },
     "execution_count": 204,
     "metadata": {},
     "output_type": "execute_result"
    }
   ],
   "source": [
    "## real data GSE102484\n",
    "\n",
    "from sklearn.preprocessing import LabelEncoder\n",
    "\n",
    "\n",
    "data_fn = '/Users/panos/Desktop/yiwen/GSE102484_gene_profile.csv'\n",
    "\n",
    "data_df = pd.read_csv(data_fn, header=0, index_col=False)\n",
    "data_df.drop('Output1', axis=1, inplace=True)\n",
    "print(data_df.columns.to_list())\n",
    "target = data_df.Output2.to_numpy()\n",
    "data_df.drop('Output2', axis=1, inplace=True)\n",
    "X = data_df.copy()\n",
    "\n",
    "# num_bins = 4\n",
    "# target_disc = pd.qcut(data_df.hl_gap, num_bins,labels= np.arange(num_bins), retbins=False).to_numpy() \n",
    "\n",
    "# X = data_df.drop(['structure','number_atoms', 'hl_gap'], axis=1)\n",
    "\n",
    "le = LabelEncoder()\n",
    "y = target.copy()\n",
    "y_le = le.fit_transform(y)\n",
    "le_name_mapping = dict(zip(le.classes_, le.transform(le.classes_)))\n",
    "print(le_name_mapping)\n",
    "y = y_le\n",
    "y[y!=3]=0\n",
    "y[y!=0]=1\n",
    "\n",
    "\n",
    "features = X.columns.to_numpy()\n",
    "\n",
    "dims_list, step_fmi, best_bins, values, best_counts, best_y_counts, best_cond_entr, num_bins =\\\n",
    "      efficientJointDiscretizationMI(duplicate=True, early_stopping='chi_square_adjust', delta_correction=True, delta=0.05).fit(X.values, y)\n",
    "\n",
    "print(f'Dimension cuts: {dims_list}')\n",
    "\n",
    "features_selected = np.unique(dims_list)\n",
    "\n",
    "features[features_selected-1]"
   ]
  },
  {
   "cell_type": "code",
   "execution_count": 201,
   "metadata": {},
   "outputs": [
    {
     "data": {
      "text/plain": [
       "(array([214.,   0.,   0.,  87.,   0.,   0.,  82.,   0.,   0., 300.]),\n",
       " array([0. , 0.3, 0.6, 0.9, 1.2, 1.5, 1.8, 2.1, 2.4, 2.7, 3. ]),\n",
       " <BarContainer object of 10 artists>)"
      ]
     },
     "execution_count": 201,
     "metadata": {},
     "output_type": "execute_result"
    },
    {
     "data": {
      "image/png": "[encoded data removed]",
      "text/plain": [
       "<Figure size 640x480 with 1 Axes>"
      ]
     },
     "metadata": {},
     "output_type": "display_data"
    }
   ],
   "source": [
    "import matplotlib.pyplot as plt\n",
    "\n",
    "plt.hist(y)"
   ]
  },
  {
   "cell_type": "code",
   "execution_count": 183,
   "metadata": {},
   "outputs": [
    {
     "data": {
      "text/plain": [
       "'/Users/panos/Documents/MATLAB:/Applications/MATLAB_R2022b.app/toolbox/matlab/addon_enable_disable_management/matlab:/Applications/MATLAB_R2022b.app/toolbox/matlab/addon_updates/matlab:/Applications/MATLAB_R2022b.app/toolbox/matlab/addons:/Applications/MATLAB_R2022b.app/toolbox/matlab/addons/cef:/Applications/MATLAB_R2022b.app/toolbox/matlab/addons/fileexchange:/Applications/MATLAB_R2022b.app/toolbox/matlab/addons/supportpackages:/Applications/MATLAB_R2022b.app/toolbox/matlab/addons_common/matlab:/Applications/MATLAB_R2022b.app/toolbox/matlab/addons_install_location/matlab:/Applications/MATLAB_R2022b.app/toolbox/matlab/addons_product:/Applications/MATLAB_R2022b.app/toolbox/matlab/addons_registry/matlab:/Applications/MATLAB_R2022b.app/toolbox/matlab/addressbar_plugins/browse_for_folder_button/matlab:/Applications/MATLAB_R2022b.app/toolbox/matlab/addressbar_plugins/cd_up_one_dir_button/matlab:/Applications/MATLAB_R2022b.app/toolbox/matlab/appcontainer:/Applications/MATLAB_R2022b.app/toolbox/matlab/appdesigner/appdesigner:/Applications/MATLAB_R2022b.app/toolbox/matlab/appdesigner/appdesigner/interface:/Applications/MATLAB_R2022b.app/toolbox/matlab/appdesigner/appdesigner/runtime:/Applications/MATLAB_R2022b.app/toolbox/matlab/appdesigner/comparisons/mldesktop_m:/Applications/MATLAB_R2022b.app/toolbox/matlab/appdesigner/matlab_integration/cfb/cfb:/Applications/MATLAB_R2022b.app/toolbox/matlab/apps:/Applications/MATLAB_R2022b.app/toolbox/matlab/audiovideo:/Applications/MATLAB_R2022b.app/toolbox/matlab/bigdata:/Applications/MATLAB_R2022b.app/toolbox/matlab/bluetooth:/Applications/MATLAB_R2022b.app/toolbox/matlab/buildtool/core:/Applications/MATLAB_R2022b.app/toolbox/matlab/buildtool/ext:/Applications/MATLAB_R2022b.app/toolbox/matlab/capabilities:/Applications/MATLAB_R2022b.app/toolbox/matlab/cefclient:/Applications/MATLAB_R2022b.app/toolbox/matlab/codeanalysis/analyzerrpt/backend:/Applications/MATLAB_R2022b.app/toolbox/matlab/codeanalysis/reports/analysis:/Applications/MATLAB_R2022b.app/toolbox/matlab/codeanalysis/tools:/Applications/MATLAB_R2022b.app/toolbox/matlab/codetools:/Applications/MATLAB_R2022b.app/toolbox/matlab/codetools/embeddedoutputs:/Applications/MATLAB_R2022b.app/toolbox/matlab/codetools/embeddedoutputs/DataToolsRegistration:/Applications/MATLAB_R2022b.app/toolbox/matlab/codetools/liveapps:/Applications/MATLAB_R2022b.app/toolbox/matlab/configtools:/Applications/MATLAB_R2022b.app/toolbox/matlab/connector2/binary:/Applications/MATLAB_R2022b.app/toolbox/matlab/connector2/common:/Applications/MATLAB_R2022b.app/toolbox/matlab/connector2/configuration:/Applications/MATLAB_R2022b.app/toolbox/matlab/connector2/connector:/Applications/MATLAB_R2022b.app/toolbox/matlab/connector2/editor:/Applications/MATLAB_R2022b.app/toolbox/matlab/connector2/figures:/Applications/MATLAB_R2022b.app/toolbox/matlab/connector2/http:/Applications/MATLAB_R2022b.app/toolbox/matlab/connector2/interpreter:/Applications/MATLAB_R2022b.app/toolbox/matlab/connector2/logger:/Applications/MATLAB_R2022b.app/toolbox/matlab/connector2/messageservice:/Applications/MATLAB_R2022b.app/toolbox/matlab/connector2/mgg:/Applications/MATLAB_R2022b.app/toolbox/matlab/connector2/nativebridge:/Applications/MATLAB_R2022b.app/toolbox/matlab/connector2/restmatlab:/Applications/MATLAB_R2022b.app/toolbox/matlab/connector2/session:/Applications/MATLAB_R2022b.app/toolbox/matlab/connector2/shadowfiles:/Applications/MATLAB_R2022b.app/toolbox/matlab/connector2/webwindow/m:/Applications/MATLAB_R2022b.app/toolbox/matlab/connector2/worker:/Applications/MATLAB_R2022b.app/toolbox/matlab/datafun:/Applications/MATLAB_R2022b.app/toolbox/matlab/datamanager:/Applications/MATLAB_R2022b.app/toolbox/matlab/datastoreio:/Applications/MATLAB_R2022b.app/toolbox/matlab/datatools/datatoolsservices/matlab:/Applications/MATLAB_R2022b.app/toolbox/matlab/datatools/desktop_importtool/matlab:/Applications/MATLAB_R2022b.app/toolbox/matlab/datatools/desktop_variableeditor/matlab:/Applications/MATLAB_R2022b.app/toolbox/matlab/datatools/desktop_workspacebrowser/matlab:/Applications/MATLAB_R2022b.app/toolbox/matlab/datatools/editorconverters/matlab:/Applications/MATLAB_R2022b.app/toolbox/matlab/datatools/importtool/matlab/peer:/Applications/MATLAB_R2022b.app/toolbox/matlab/datatools/importtool/matlab/server:/Applications/MATLAB_R2022b.app/toolbox/matlab/datatools/inspector/matlab:/Applications/MATLAB_R2022b.app/toolbox/matlab/datatools/inspector/registration:/Applications/MATLAB_R2022b.app/toolbox/matlab/datatools/matlab_integration/cfb/matlab:/Applications/MATLAB_R2022b.app/toolbox/matlab/datatools/media_widgets/matlab:/Applications/MATLAB_R2022b.app/toolbox/matlab/datatools/peermodel_mcos/matlab:/Applications/MATLAB_R2022b.app/toolbox/matlab/datatools/plotstab/matlab:/Applications/MATLAB_R2022b.app/toolbox/matlab/datatools/preprocessing:/Applications/MATLAB_R2022b.app/toolbox/matlab/datatools/variableeditor/matlab:/Applications/MATLAB_R2022b.app/toolbox/matlab/datatools/widgets/matlab:/Applications/MATLAB_R2022b.app/toolbox/matlab/datatools/workspacebrowser/matlab:/Applications/MATLAB_R2022b.app/toolbox/matlab/datatypes:/Applications/MATLAB_R2022b.app/toolbox/matlab/datatypes/applyfuns:/Applications/MATLAB_R2022b.app/toolbox/matlab/datatypes/calendarDuration:/Applications/MATLAB_R2022b.app/toolbox/matlab/datatypes/categorical:/Applications/MATLAB_R2022b.app/toolbox/matlab/datatypes/cell:/Applications/MATLAB_R2022b.app/toolbox/matlab/datatypes/cell_nonlibmatlab:/Applications/MATLAB_R2022b.app/toolbox/matlab/datatypes/codegen/categorical:/Applications/MATLAB_R2022b.app/toolbox/matlab/datatypes/codegen/datetime:/Applications/MATLAB_R2022b.app/toolbox/matlab/datatypes/codegen/duration:/Applications/MATLAB_R2022b.app/toolbox/matlab/datatypes/codegen/tabular:/Applications/MATLAB_R2022b.app/toolbox/matlab/datatypes/datetime:/Applications/MATLAB_R2022b.app/toolbox/matlab/datatypes/datetime_nonlibmatlab:/Applications/MATLAB_R2022b.app/toolbox/matlab/datatypes/dictionary:/Applications/MATLAB_R2022b.app/toolbox/matlab/datatypes/duration:/Applications/MATLAB_R2022b.app/toolbox/matlab/datatypes/shared/codegen:/Applications/MATLAB_R2022b.app/toolbox/matlab/datatypes/shared/matlab_datatypes:/Applications/MATLAB_R2022b.app/toolbox/matlab/datatypes/struct:/Applications/MATLAB_R2022b.app/toolbox/matlab/datatypes/tabular:/Applications/MATLAB_R2022b.app/toolbox/matlab/dataui:/Applications/MATLAB_R2022b.app/toolbox/matlab/ddux:/Applications/MATLAB_R2022b.app/toolbox/matlab/debugger:/Applications/MATLAB_R2022b.app/toolbox/matlab/demos:/Applications/MATLAB_R2022b.app/toolbox/matlab/dependency/analysis:/Applications/MATLAB_R2022b.app/toolbox/matlab/dependency/app:/Applications/MATLAB_R2022b.app/toolbox/matlab/dependency/attribute:/Applications/MATLAB_R2022b.app/toolbox/matlab/dependency/comparisons/mldesktop/matlab:/Applications/MATLAB_R2022b.app/toolbox/matlab/dependency/matlab:/Applications/MATLAB_R2022b.app/toolbox/matlab/dependency/refactoring:/Applications/MATLAB_R2022b.app/toolbox/matlab/dependency/report:/Applications/MATLAB_R2022b.app/toolbox/matlab/dependency/widget/progress:/Applications/MATLAB_R2022b.app/toolbox/matlab/dependency/widget/progress_web:/Applications/MATLAB_R2022b.app/toolbox/matlab/dependency/widget/window:/Applications/MATLAB_R2022b.app/toolbox/matlab/depfun:/Applications/MATLAB_R2022b.app/toolbox/matlab/editor/cfb_integration/editor_actions/matlab:/Applications/MATLAB_R2022b.app/toolbox/matlab/editor/cfb_integration/editor_filetype_icons/matlab:/Applications/MATLAB_R2022b.app/toolbox/matlab/editor/cfb_integration/editor_filetype_labels/matlab:/Applications/MATLAB_R2022b.app/toolbox/matlab/editor_addons/matlab_unit/matlab:/Applications/MATLAB_R2022b.app/toolbox/matlab/editor_addons/system_object/matlab:/Applications/MATLAB_R2022b.app/toolbox/matlab/elfun:/Applications/MATLAB_R2022b.app/toolbox/matlab/elmat:/Applications/MATLAB_R2022b.app/toolbox/matlab/embeddedoutputs/figureoutputs:/Applications/MATLAB_R2022b.app/toolbox/matlab/embeddedoutputs/outputs:/Applications/MATLAB_R2022b.app/toolbox/matlab/embeddedoutputs/outpututilities:/Applications/MATLAB_R2022b.app/toolbox/matlab/embeddedoutputs/variableoutputs:/Applications/MATLAB_R2022b.app/toolbox/matlab/external/engines/codegen:/Applications/MATLAB_R2022b.app/toolbox/matlab/external/engines/engine_api:/Applications/MATLAB_R2022b.app/toolbox/matlab/external/interfaces/cpp:/Applications/MATLAB_R2022b.app/toolbox/matlab/external/interfaces/java/jmi:/Applications/MATLAB_R2022b.app/toolbox/matlab/external/interfaces/json:/Applications/MATLAB_R2022b.app/toolbox/matlab/external/interfaces/python:/Applications/MATLAB_R2022b.app/toolbox/matlab/external/interfaces/webservices:/Applications/MATLAB_R2022b.app/toolbox/matlab/external/interfaces/webservices/http:/Applications/MATLAB_R2022b.app/toolbox/matlab/external/interfaces/webservices/restful:/Applications/MATLAB_R2022b.app/toolbox/matlab/external/interfaces/webservices/wsdl:/Applications/MATLAB_R2022b.app/toolbox/matlab/external/mex:/Applications/MATLAB_R2022b.app/toolbox/matlab/file_chooser/service/matlab:/Applications/MATLAB_R2022b.app/toolbox/matlab/filebrowser:/Applications/MATLAB_R2022b.app/toolbox/matlab/filesystem/default_filetype_plugins/file_plugin:/Applications/MATLAB_R2022b.app/toolbox/matlab/filesystem/default_filetype_plugins/folder_plugin:/Applications/MATLAB_R2022b.app/toolbox/matlab/filesystem/matlab_filetype_filters/filetypefilters:/Applications/MATLAB_R2022b.app/toolbox/matlab/filesystem/services/matlab:/Applications/MATLAB_R2022b.app/toolbox/matlab/findfiles/m:/Applications/MATLAB_R2022b.app/toolbox/matlab/funfun:/Applications/MATLAB_R2022b.app/toolbox/matlab/general:/Applications/MATLAB_R2022b.app/toolbox/matlab/graph2d:/Applications/MATLAB_R2022b.app/toolbox/matlab/graph3d:/Applications/MATLAB_R2022b.app/toolbox/matlab/graphfun:/Applications/MATLAB_R2022b.app/toolbox/matlab/graphfun/codegen:/Applications/MATLAB_R2022b.app/toolbox/matlab/graphics:/Applications/MATLAB_R2022b.app/toolbox/matlab/graphics/annotation:/Applications/MATLAB_R2022b.app/toolbox/matlab/graphics/axis:/Applications/MATLAB_R2022b.app/toolbox/matlab/graphics/chart:/Applications/MATLAB_R2022b.app/toolbox/matlab/graphics/color:/Applications/MATLAB_R2022b.app/toolbox/matlab/graphics/function:/Applications/MATLAB_R2022b.app/toolbox/matlab/graphics/hg:/Applications/MATLAB_R2022b.app/toolbox/matlab/graphics/illustration:/Applications/MATLAB_R2022b.app/toolbox/matlab/graphics/legacy:/Applications/MATLAB_R2022b.app/toolbox/matlab/graphics/maps:/Applications/MATLAB_R2022b.app/toolbox/matlab/graphics/math:/Applications/MATLAB_R2022b.app/toolbox/matlab/graphics/objectsystem:/Applications/MATLAB_R2022b.app/toolbox/matlab/graphics/obsolete:/Applications/MATLAB_R2022b.app/toolbox/matlab/graphics/primitive:/Applications/MATLAB_R2022b.app/toolbox/matlab/graphics/printing:/Applications/MATLAB_R2022b.app/toolbox/matlab/guide:/Applications/MATLAB_R2022b.app/toolbox/matlab/hardware/stubs:/Applications/MATLAB_R2022b.app/toolbox/matlab/helptools:/Applications/MATLAB_R2022b.app/toolbox/matlab/helptools/reference:/Applications/MATLAB_R2022b.app/toolbox/matlab/helptools_js/link_click_handling_docservice/m:/Applications/MATLAB_R2022b.app/toolbox/matlab/helptools_js/matlab_colon_docservice/m:/Applications/MATLAB_R2022b.app/toolbox/matlab/htmlviewer:/Applications/MATLAB_R2022b.app/toolbox/matlab/icons:/Applications/MATLAB_R2022b.app/toolbox/matlab/images:/Applications/MATLAB_R2022b.app/toolbox/matlab/imagesci:/Applications/MATLAB_R2022b.app/toolbox/matlab/indentcode/m:/Applications/MATLAB_R2022b.app/toolbox/matlab/indexing:/Applications/MATLAB_R2022b.app/toolbox/matlab/io/archive:/Applications/MATLAB_R2022b.app/toolbox/matlab/io/arrow:/Applications/MATLAB_R2022b.app/toolbox/matlab/io/common:/Applications/MATLAB_R2022b.app/toolbox/matlab/io/datastore/array:/Applications/MATLAB_R2022b.app/toolbox/matlab/io/datastore/common:/Applications/MATLAB_R2022b.app/toolbox/matlab/io/datastore/file:/Applications/MATLAB_R2022b.app/toolbox/matlab/io/datastore/fileset:/Applications/MATLAB_R2022b.app/toolbox/matlab/io/datastore/image:/Applications/MATLAB_R2022b.app/toolbox/matlab/io/datastore/keyvalue:/Applications/MATLAB_R2022b.app/toolbox/matlab/io/datastore/legacy:/Applications/MATLAB_R2022b.app/toolbox/matlab/io/datastore/parquet:/Applications/MATLAB_R2022b.app/toolbox/matlab/io/datastore/range:/Applications/MATLAB_R2022b.app/toolbox/matlab/io/datastore/spreadsheet:/Applications/MATLAB_R2022b.app/toolbox/matlab/io/datastore/tall:/Applications/MATLAB_R2022b.app/toolbox/matlab/io/datastore/text:/Applications/MATLAB_R2022b.app/toolbox/matlab/io/filesystem:/Applications/MATLAB_R2022b.app/toolbox/matlab/io/filter:/Applications/MATLAB_R2022b.app/toolbox/matlab/io/ftp:/Applications/MATLAB_R2022b.app/toolbox/matlab/io/functions:/Applications/MATLAB_R2022b.app/toolbox/matlab/io/html:/Applications/MATLAB_R2022b.app/toolbox/matlab/io/interface:/Applications/MATLAB_R2022b.app/toolbox/matlab/io/parquet:/Applications/MATLAB_R2022b.app/toolbox/matlab/io/spreadsheet:/Applications/MATLAB_R2022b.app/toolbox/matlab/io/text:/Applications/MATLAB_R2022b.app/toolbox/matlab/io/word:/Applications/MATLAB_R2022b.app/toolbox/matlab/io/xml:/Applications/MATLAB_R2022b.app/toolbox/matlab/iofun:/Applications/MATLAB_R2022b.app/toolbox/matlab/iot:/Applications/MATLAB_R2022b.app/toolbox/matlab/iot/connectivity:/Applications/MATLAB_R2022b.app/toolbox/matlab/lang:/Applications/MATLAB_R2022b.app/toolbox/matlab/licensing:/Applications/MATLAB_R2022b.app/toolbox/matlab/login:/Applications/MATLAB_R2022b.app/toolbox/matlab/mapreduceio:/Applications/MATLAB_R2022b.app/toolbox/matlab/maps:/Applications/MATLAB_R2022b.app/toolbox/matlab/matfun:/Applications/MATLAB_R2022b.app/toolbox/matlab/matlab_preferences/matlab:/Applications/MATLAB_R2022b.app/toolbox/matlab/mex:/Applications/MATLAB_R2022b.app/toolbox/matlab/mpm:/Applications/MATLAB_R2022b.app/toolbox/matlab/mvm:/Applications/MATLAB_R2022b.app/toolbox/matlab/network:/Applications/MATLAB_R2022b.app/toolbox/matlab/networklib:/Applications/MATLAB_R2022b.app/toolbox/matlab/networklib/apps/tcpclientapp:/Applications/MATLAB_R2022b.app/toolbox/matlab/notifications/notifications_center_ui/matlab:/Applications/MATLAB_R2022b.app/toolbox/matlab/object_serialization_customization:/Applications/MATLAB_R2022b.app/toolbox/matlab/ops:/Applications/MATLAB_R2022b.app/toolbox/matlab/optimfun:/Applications/MATLAB_R2022b.app/toolbox/matlab/optimfun/gui:/Applications/MATLAB_R2022b.app/toolbox/matlab/oss:/Applications/MATLAB_R2022b.app/toolbox/matlab/parallel:/Applications/MATLAB_R2022b.app/toolbox/matlab/pathtool:/Applications/MATLAB_R2022b.app/toolbox/matlab/plottools:/Applications/MATLAB_R2022b.app/toolbox/matlab/plottools/inspector:/Applications/MATLAB_R2022b.app/toolbox/matlab/polyfun:/Applications/MATLAB_R2022b.app/toolbox/matlab/preferences/addonspanel:/Applications/MATLAB_R2022b.app/toolbox/matlab/preferences/fonts:/Applications/MATLAB_R2022b.app/toolbox/matlab/preferences/variablesprefpanel/variablesprefpanel-ui:/Applications/MATLAB_R2022b.app/toolbox/matlab/preferences/workspaceprefpanel/workspaceprefpanel-ui:/Applications/MATLAB_R2022b.app/toolbox/matlab/profileviewer:/Applications/MATLAB_R2022b.app/toolbox/matlab/project:/Applications/MATLAB_R2022b.app/toolbox/matlab/project/api:/Applications/MATLAB_R2022b.app/toolbox/matlab/project/cfbfileinfoplugin/matlab:/Applications/MATLAB_R2022b.app/toolbox/matlab/project/comparison:/Applications/MATLAB_R2022b.app/toolbox/matlab/project/creation/fromarchive:/Applications/MATLAB_R2022b.app/toolbox/matlab/project/creation/fromfile:/Applications/MATLAB_R2022b.app/toolbox/matlab/project/dependency:/Applications/MATLAB_R2022b.app/toolbox/matlab/project/example:/Applications/MATLAB_R2022b.app/toolbox/matlab/project/preferences:/Applications/MATLAB_R2022b.app/toolbox/matlab/project/refactoring:/Applications/MATLAB_R2022b.app/toolbox/matlab/project/toolstrip:/Applications/MATLAB_R2022b.app/toolbox/matlab/project/unsavedchanges:/Applications/MATLAB_R2022b.app/toolbox/matlab/project/views/action_web/project-action-ui/matlab:/Applications/MATLAB_R2022b.app/toolbox/matlab/project/views/core:/Applications/MATLAB_R2022b.app/toolbox/matlab/project/views/labels:/Applications/MATLAB_R2022b.app/toolbox/matlab/project/views/references:/Applications/MATLAB_R2022b.app/toolbox/matlab/project/views/unsavedchanges:/Applications/MATLAB_R2022b.app/toolbox/matlab/project/views/util:/Applications/MATLAB_R2022b.app/toolbox/matlab/randfun:/Applications/MATLAB_R2022b.app/toolbox/matlab/registration_framework/matlab:/Applications/MATLAB_R2022b.app/toolbox/matlab/reports:/Applications/MATLAB_R2022b.app/toolbox/matlab/resources_folder:/Applications/MATLAB_R2022b.app/toolbox/matlab/richcontent_preview/matlab:/Applications/MATLAB_R2022b.app/toolbox/matlab/rtc_addons/rtclanguagesupport/rtc_clike_language_support/matlab:/Applications/MATLAB_R2022b.app/toolbox/matlab/rtc_addons/rtclanguagesupport/rtc_java_language_support/matlab:/Applications/MATLAB_R2022b.app/toolbox/matlab/rtc_addons/rtclanguagesupport/rtc_js_language_support/matlab:/Applications/MATLAB_R2022b.app/toolbox/matlab/rtc_addons/rtclanguagesupport/rtc_mlike_language_support/matlab:/Applications/MATLAB_R2022b.app/toolbox/matlab/rtc_addons/rtclanguagesupport/rtc_python_language_support/matlab:/Applications/MATLAB_R2022b.app/toolbox/matlab/rtc_addons/rtclanguagesupport/rtc_tlc_language_support/matlab:/Applications/MATLAB_R2022b.app/toolbox/matlab/rtc_addons/rtclanguagesupport/rtc_verilog_language_support/matlab:/Applications/MATLAB_R2022b.app/toolbox/matlab/rtc_addons/rtclanguagesupport/rtc_vhdl_language_support/matlab:/Applications/MATLAB_R2022b.app/toolbox/matlab/rtc_addons/rtclanguagesupport/rtc_xml_language_support/matlab:/Applications/MATLAB_R2022b.app/toolbox/matlab/scribe:/Applications/MATLAB_R2022b.app/toolbox/matlab/scribe/obsolete:/Applications/MATLAB_R2022b.app/toolbox/matlab/serial:/Applications/MATLAB_R2022b.app/toolbox/matlab/serialport:/Applications/MATLAB_R2022b.app/toolbox/matlab/serialport/apps/serialportapp:/Applications/MATLAB_R2022b.app/toolbox/matlab/sparfun:/Applications/MATLAB_R2022b.app/toolbox/matlab/specfun:/Applications/MATLAB_R2022b.app/toolbox/matlab/specgraph:/Applications/MATLAB_R2022b.app/toolbox/matlab/storage/matlabdrive:/Applications/MATLAB_R2022b.app/toolbox/matlab/storage/mldrivedesktop:/Applications/MATLAB_R2022b.app/toolbox/matlab/storage/mldrivejsplugins/matlabdrive_js/matlab:/Applications/MATLAB_R2022b.app/toolbox/matlab/storage/mldrivejsplugins/share_folder_preview/matlab:/Applications/MATLAB_R2022b.app/toolbox/matlab/storage/mldrivejsplugins/sharing_actions/matlab:/Applications/MATLAB_R2022b.app/toolbox/matlab/storage/mldrivejsplugins/tripwire_button/matlab:/Applications/MATLAB_R2022b.app/toolbox/matlab/strfun:/Applications/MATLAB_R2022b.app/toolbox/matlab/strfun/pattern:/Applications/MATLAB_R2022b.app/toolbox/matlab/strfun/validators:/Applications/MATLAB_R2022b.app/toolbox/matlab/supportpackagemanagement:/Applications/MATLAB_R2022b.app/toolbox/matlab/system:/Applications/MATLAB_R2022b.app/toolbox/matlab/system/editor:/Applications/MATLAB_R2022b.app/toolbox/matlab/taskpool:/Applications/MATLAB_R2022b.app/toolbox/matlab/testframework/measurement/core:/Applications/MATLAB_R2022b.app/toolbox/matlab/testframework/measurement/ext:/Applications/MATLAB_R2022b.app/toolbox/matlab/testframework/mock/core:/Applications/MATLAB_R2022b.app/toolbox/matlab/testframework/mock/core/masked:/Applications/MATLAB_R2022b.app/toolbox/matlab/testframework/obsolete:/Applications/MATLAB_R2022b.app/toolbox/matlab/testframework/performance/core:/Applications/MATLAB_R2022b.app/toolbox/matlab/testframework/performance/ext:/Applications/MATLAB_R2022b.app/toolbox/matlab/testframework/ui/toolstrip:/Applications/MATLAB_R2022b.app/toolbox/matlab/testframework/uiautomation:/Applications/MATLAB_R2022b.app/toolbox/matlab/testframework/uitest:/Applications/MATLAB_R2022b.app/toolbox/matlab/testframework/unittest/core:/Applications/MATLAB_R2022b.app/toolbox/matlab/testframework/unittest/core/masked:/Applications/MATLAB_R2022b.app/toolbox/matlab/testframework/unittest/ext:/Applications/MATLAB_R2022b.app/toolbox/matlab/timefun:/Applications/MATLAB_R2022b.app/toolbox/matlab/timeseries:/Applications/MATLAB_R2022b.app/toolbox/matlab/toolbox_packaging:/Applications/MATLAB_R2022b.app/toolbox/matlab/toolboxmanagement/matlab_api:/Applications/MATLAB_R2022b.app/toolbox/matlab/toolstrip:/Applications/MATLAB_R2022b.app/toolbox/matlab/uicomponents/uicomponents:/Applications/MATLAB_R2022b.app/toolbox/matlab/uicomponents/uicomponents/databrowser:/Applications/MATLAB_R2022b.app/toolbox/matlab/uicomponents/uicomponents/graphics:/Applications/MATLAB_R2022b.app/toolbox/matlab/uicomponents/uicomponents/plugin/appdesigner:/Applications/MATLAB_R2022b.app/toolbox/matlab/uicomponents/uicomponents/style:/Applications/MATLAB_R2022b.app/toolbox/matlab/uicomponents/uicomponents/uicontrol:/Applications/MATLAB_R2022b.app/toolbox/matlab/uitools:/Applications/MATLAB_R2022b.app/toolbox/matlab/uitools/mofigurehelperfunc:/Applications/MATLAB_R2022b.app/toolbox/matlab/uitools/obsolete:/Applications/MATLAB_R2022b.app/toolbox/matlab/uitools/uicomponents/components:/Applications/MATLAB_R2022b.app/toolbox/matlab/updateinstaller:/Applications/MATLAB_R2022b.app/toolbox/matlab/urlmanager:/Applications/MATLAB_R2022b.app/toolbox/matlab/validators:/Applications/MATLAB_R2022b.app/toolbox/matlab/verctrl:/Applications/MATLAB_R2022b.app/toolbox/matlab/webcam:/Applications/MATLAB_R2022b.app/toolbox/matlab/winfun:/Applications/MATLAB_R2022b.app/toolbox/matlab/winfun/NET:/Applications/MATLAB_R2022b.app/toolbox/local:/Applications/MATLAB_R2022b.app/toolbox/simulink/simulink/slproject:/Applications/MATLAB_R2022b.app/toolbox/stateflow/sf_file_preview_plugin/matlab:/Applications/MATLAB_R2022b.app/examples/graphics/data:/Applications/MATLAB_R2022b.app/examples/matlab/data:/Applications/MATLAB_R2022b.app/examples/matlabmobile/data:/Applications/MATLAB_R2022b.app/interprocess/asyncio/client/hostimpl:/Applications/MATLAB_R2022b.app/platform/pf_internal/m:/Applications/MATLAB_R2022b.app/toolbox/classdiagram/app/core:/Applications/MATLAB_R2022b.app/toolbox/classdiagram/app/mcos:/Applications/MATLAB_R2022b.app/toolbox/coder/coderapp/common/ml:/Applications/MATLAB_R2022b.app/toolbox/coder/coderapp/screener/ml:/Applications/MATLAB_R2022b.app/toolbox/coder/coderapp/utils/ml:/Applications/MATLAB_R2022b.app/toolbox/comparisons/binary/mldesktop/matlab:/Applications/MATLAB_R2022b.app/toolbox/comparisons/cfb/action_ui/matlab:/Applications/MATLAB_R2022b.app/toolbox/comparisons/folder/mldesktop/matlab:/Applications/MATLAB_R2022b.app/toolbox/comparisons/mat/mldesktop/matlab:/Applications/MATLAB_R2022b.app/toolbox/comparisons/mldesktop/matlab:/Applications/MATLAB_R2022b.app/toolbox/comparisons/text/mldesktop/matlab:/Applications/MATLAB_R2022b.app/toolbox/comparisons/text/view/rptgen/matlab:/Applications/MATLAB_R2022b.app/toolbox/comparisons/view/edits:/Applications/MATLAB_R2022b.app/toolbox/comparisons/view/web3/matlab:/Applications/MATLAB_R2022b.app/toolbox/comparisons/zip/mldesktop/matlab:/Applications/MATLAB_R2022b.app/toolbox/diagram/editor/web/m:/Applications/MATLAB_R2022b.app/toolbox/diagram/layout/treelayout:/Applications/MATLAB_R2022b.app/toolbox/hdlcoder/hdllib/ml_lib:/Applications/MATLAB_R2022b.app/toolbox/livecode/comparisons/mldesktop/matlab:/Applications/MATLAB_R2022b.app/toolbox/physmod/simscape/language_editor/m:/Applications/MATLAB_R2022b.app/toolbox/rptgen/xmlcomp:/Applications/MATLAB_R2022b.app/toolbox/shared/advisor:/Applications/MATLAB_R2022b.app/toolbox/shared/appdes/services:/Applications/MATLAB_R2022b.app/toolbox/shared/asynciolib:/Applications/MATLAB_R2022b.app/toolbox/shared/blelib:/Applications/MATLAB_R2022b.app/toolbox/shared/cmlink/matlab:/Applications/MATLAB_R2022b.app/toolbox/shared/cmlink/preferences:/Applications/MATLAB_R2022b.app/toolbox/shared/cmlink/view/action_web/cmlink-action-ui/matlab:/Applications/MATLAB_R2022b.app/toolbox/shared/cmlink/view/core:/Applications/MATLAB_R2022b.app/toolbox/shared/coder/coder:/Applications/MATLAB_R2022b.app/toolbox/shared/coder/coder/gpucoder:/Applications/MATLAB_R2022b.app/toolbox/shared/coder/coder/lib:/Applications/MATLAB_R2022b.app/toolbox/shared/coder/reportinfo:/Applications/MATLAB_R2022b.app/toolbox/shared/codergui/codergui:/Applications/MATLAB_R2022b.app/toolbox/shared/comparisons:/Applications/MATLAB_R2022b.app/toolbox/shared/controllib/general:/Applications/MATLAB_R2022b.app/toolbox/shared/controllib/graphics:/Applications/MATLAB_R2022b.app/toolbox/shared/controllib/graphics/plotoptions:/Applications/MATLAB_R2022b.app/toolbox/shared/controllib/graphics/utils:/Applications/MATLAB_R2022b.app/toolbox/shared/cxxfe/parser_mi/parser_mi:/Applications/MATLAB_R2022b.app/toolbox/shared/datacreation:/Applications/MATLAB_R2022b.app/toolbox/shared/datacreation/datagenerator:/Applications/MATLAB_R2022b.app/toolbox/shared/datacreation/task:/Applications/MATLAB_R2022b.app/toolbox/shared/datacreation/task/codegenerator:/Applications/MATLAB_R2022b.app/toolbox/shared/datacreation/task/interface:/Applications/MATLAB_R2022b.app/toolbox/shared/datacreation/task/ui:/Applications/MATLAB_R2022b.app/toolbox/shared/datacreation/uicomponent:/Applications/MATLAB_R2022b.app/toolbox/shared/deviceplugindetection:/Applications/MATLAB_R2022b.app/toolbox/shared/diagnostic:/Applications/MATLAB_R2022b.app/toolbox/shared/hadoopserializer:/Applications/MATLAB_R2022b.app/toolbox/shared/hotpluglib:/Applications/MATLAB_R2022b.app/toolbox/shared/hwconnectinstaller/common:/Applications/MATLAB_R2022b.app/toolbox/shared/hwmanager/hwconnection:/Applications/MATLAB_R2022b.app/toolbox/shared/hwmanager/hwmanagerapp:/Applications/MATLAB_R2022b.app/toolbox/shared/hwmanager/hwmanagerapp/clientapp:/Applications/MATLAB_R2022b.app/toolbox/shared/hwmanager/hwmanagerapp/devicedata:/Applications/MATLAB_R2022b.app/toolbox/shared/hwmanager/hwmanagerapp/devicedetection:/Applications/MATLAB_R2022b.app/toolbox/shared/hwmanager/hwmanagerapp/devices:/Applications/MATLAB_R2022b.app/toolbox/shared/hwmanager/hwmanagerapp/hwmgr:/Applications/MATLAB_R2022b.app/toolbox/shared/hwmanager/hwmanagerapp/hwsetup:/Applications/MATLAB_R2022b.app/toolbox/shared/hwmanager/hwmanagerapp/plugins:/Applications/MATLAB_R2022b.app/toolbox/shared/hwmanager/hwmanagerapp/providers:/Applications/MATLAB_R2022b.app/toolbox/shared/hwmanager/hwmanagerapp/scopes:/Applications/MATLAB_R2022b.app/toolbox/shared/hwmanager/hwmanagerapp/shared:/Applications/MATLAB_R2022b.app/toolbox/shared/hwmanager/hwservices/hwinfo:/Applications/MATLAB_R2022b.app/toolbox/shared/hwmanager/hwsetup:/Applications/MATLAB_R2022b.app/toolbox/shared/hwmanager/hwsetup/hwtemplates:/Applications/MATLAB_R2022b.app/toolbox/shared/hwmanager/hwsetup/hwwidgets:/Applications/MATLAB_R2022b.app/toolbox/shared/hwmanager/hwsetup/launch:/Applications/MATLAB_R2022b.app/toolbox/shared/hwmanager/hwsetup/thirdpartytools:/Applications/MATLAB_R2022b.app/toolbox/shared/hwmanager/logger:/Applications/MATLAB_R2022b.app/toolbox/shared/image_io/imageio_builtins:/Applications/MATLAB_R2022b.app/toolbox/shared/imageio:/Applications/MATLAB_R2022b.app/toolbox/shared/images_datatypes:/Applications/MATLAB_R2022b.app/toolbox/shared/instrument:/Applications/MATLAB_R2022b.app/toolbox/shared/io/general:/Applications/MATLAB_R2022b.app/toolbox/shared/mlarrow:/Applications/MATLAB_R2022b.app/toolbox/shared/mldatx:/Applications/MATLAB_R2022b.app/toolbox/shared/mldatx/file_icon_plugin/matlab:/Applications/MATLAB_R2022b.app/toolbox/shared/mldatx/file_label_filter_plugin/matlab:/Applications/MATLAB_R2022b.app/toolbox/shared/mldatx/file_preview_plugin/matlab:/Applications/MATLAB_R2022b.app/toolbox/shared/mlreportgen/dom:/Applications/MATLAB_R2022b.app/toolbox/shared/mlreportgen/dom/dom:/Applications/MATLAB_R2022b.app/toolbox/shared/mlreportgen/dom/dom/help:/Applications/MATLAB_R2022b.app/toolbox/shared/mlreportgen/fop:/Applications/MATLAB_R2022b.app/toolbox/shared/mlreportgen/ppt:/Applications/MATLAB_R2022b.app/toolbox/shared/mlreportgen/ppt/ppt:/Applications/MATLAB_R2022b.app/toolbox/shared/mlreportgen/ppt/ppt/help:/Applications/MATLAB_R2022b.app/toolbox/shared/mlreportgen/re/re/help:/Applications/MATLAB_R2022b.app/toolbox/shared/mlreportgen/rpt:/Applications/MATLAB_R2022b.app/toolbox/shared/mlreportgen/rpt/rpt:/Applications/MATLAB_R2022b.app/toolbox/shared/mlreportgen/utils:/Applications/MATLAB_R2022b.app/toolbox/shared/mlreportgen/widgets/equation/matlab:/Applications/MATLAB_R2022b.app/toolbox/shared/mlreportgen/xml/xml/help:/Applications/MATLAB_R2022b.app/toolbox/shared/mlreportgen/xml_transform/xml_transform/help:/Applications/MATLAB_R2022b.app/toolbox/shared/mlreportgen/xml_xpath/xml_xpath/help:/Applications/MATLAB_R2022b.app/toolbox/shared/mlreq:/Applications/MATLAB_R2022b.app/toolbox/shared/multimedia:/Applications/MATLAB_R2022b.app/toolbox/shared/networklib:/Applications/MATLAB_R2022b.app/toolbox/shared/performance:/Applications/MATLAB_R2022b.app/toolbox/shared/polyspace:/Applications/MATLAB_R2022b.app/toolbox/shared/rptgen:/Applications/MATLAB_R2022b.app/toolbox/shared/seriallib:/Applications/MATLAB_R2022b.app/toolbox/shared/simulink/simulation_data:/Applications/MATLAB_R2022b.app/toolbox/shared/sl_async_streaming:/Applications/MATLAB_R2022b.app/toolbox/shared/spcuilib/applications:/Applications/MATLAB_R2022b.app/toolbox/shared/spcuilib/webscopes:/Applications/MATLAB_R2022b.app/toolbox/shared/spreadsheet:/Applications/MATLAB_R2022b.app/toolbox/shared/stateflow:/Applications/MATLAB_R2022b.app/toolbox/shared/supportpkgservices/installedapi:/Applications/MATLAB_R2022b.app/toolbox/shared/supportpkgservices/installservices:/Applications/MATLAB_R2022b.app/toolbox/shared/supportpkgservices/legacysupportpkginfo:/Applications/MATLAB_R2022b.app/toolbox/shared/supportpkgservices/supportpackageroot:/Applications/MATLAB_R2022b.app/toolbox/shared/supportsoftware/launcher:/Applications/MATLAB_R2022b.app/toolbox/shared/supportsoftware/services:/Applications/MATLAB_R2022b.app/toolbox/shared/supportsoftware/upgrade:/Applications/MATLAB_R2022b.app/toolbox/shared/template_core:/Applications/MATLAB_R2022b.app/toolbox/shared/testmeaslib/apps:/Applications/MATLAB_R2022b.app/toolbox/shared/testmeaslib/general:/Applications/MATLAB_R2022b.app/toolbox/shared/transportapp:/Applications/MATLAB_R2022b.app/toolbox/shared/transportclients:/Applications/MATLAB_R2022b.app/toolbox/shared/transportlib:/Applications/MATLAB_R2022b.app/toolbox/shared/viewmodel/viewmodel:/Applications/MATLAB_R2022b.app/toolbox/shared/virtualfileio:/Applications/MATLAB_R2022b.app/toolbox/sl3d/rtc_plugins/rtc_vrml_language_support/matlab:/Applications/MATLAB_R2022b.app/toolbox/stats/distributed:/Applications/MATLAB_R2022b.app/examples/stats/data:/Applications/MATLAB_R2022b.app/toolbox/stats/builtins:/Applications/MATLAB_R2022b.app/toolbox/shared/pegparserlib/pegparser:/Applications/MATLAB_R2022b.app/toolbox/shared/optimlib:/Applications/MATLAB_R2022b.app/toolbox/shared/mlearnlib:/Applications/MATLAB_R2022b.app/toolbox/stats/statsdemos:/Applications/MATLAB_R2022b.app/toolbox/stats/livetasks:/Applications/MATLAB_R2022b.app/toolbox/stats/anomaly:/Applications/MATLAB_R2022b.app/toolbox/stats/bayesoptim:/Applications/MATLAB_R2022b.app/toolbox/stats/bigdata:/Applications/MATLAB_R2022b.app/toolbox/stats/classreg:/Applications/MATLAB_R2022b.app/toolbox/stats/clustering:/Applications/MATLAB_R2022b.app/toolbox/stats/featlearn:/Applications/MATLAB_R2022b.app/toolbox/stats/hypothesis:/Applications/MATLAB_R2022b.app/toolbox/stats/incremental:/Applications/MATLAB_R2022b.app/toolbox/stats/stats:/Applications/MATLAB_R2022b.app/toolbox/stats/semisupervised:/Applications/MATLAB_R2022b.app/toolbox/stats/responsible:/Applications/MATLAB_R2022b.app/toolbox/stats/timeseries:/Applications/MATLAB_R2022b.app/toolbox/stats/gpu:/Applications/MATLAB_R2022b.app/toolbox/stats/mlearnapps:/Applications/MATLAB_R2022b.app/toolbox/stats/blocks:/Applications/MATLAB_R2022b.app/toolbox/stats/blocks/classregblks:/Applications/MATLAB_R2022b.app/toolbox/shared/statslib:/Applications/MATLAB_R2022b.app/toolbox/shared/statslib/sensitivity'"
      ]
     },
     "execution_count": 183,
     "metadata": {},
     "output_type": "execute_result"
    }
   ],
   "source": [
    "# import matlab.engine \n",
    "\n",
    "# eng = matlab.engine.start_matlab()\n",
    "# eng.addpath('/Users/panos/Desktop/yiwen/')\n",
    "\n"
   ]
  },
  {
   "cell_type": "code",
   "execution_count": 184,
   "metadata": {},
   "outputs": [
    {
     "data": {
      "text/plain": [
       "0.0675123851039805"
      ]
     },
     "execution_count": 184,
     "metadata": {},
     "output_type": "execute_result"
    }
   ],
   "source": [
    "# X = data_df.radius_gyration.to_numpy()\n",
    "\n",
    "# X_matlab = matlab.double(list(X))\n",
    "# Y_matlab = matlab.double(list(np.float64(y)))\n",
    "\n",
    "# eng.ross_estimator(Y_matlab,X_matlab)\n"
   ]
  },
  {
   "cell_type": "code",
   "execution_count": 133,
   "metadata": {},
   "outputs": [],
   "source": [
    "# # with p_values\n",
    "# dims_list, step_fmi, best_bins, values, best_counts, best_y_counts, best_cond_entr, num_bins =\\\n",
    "#       efficientJointDiscretizationPvalue(duplicate=True, early_stopping='chi_square_adjust', delta_correction=True, delta=0.05).fit(df_X.values, y)"
   ]
  },
  {
   "cell_type": "code",
   "execution_count": 134,
   "metadata": {},
   "outputs": [],
   "source": [
    "# dims_list, step_fmi, num_bins, values"
   ]
  },
  {
   "cell_type": "code",
   "execution_count": 135,
   "metadata": {},
   "outputs": [],
   "source": [
    "# from copy import deepcopy\n",
    "# dfs = deepcopy(df_X)\n",
    "# dfs['Y'] = y\n",
    "# best_subsetData_list, step_mi_list, dim_list, cutpoint_list, num_bins= \\\n",
    "#     stageWiseDiscretizationPvalue(delta=0.05, early_stopping='chi_square_adjust').fit(dfs)"
   ]
  },
  {
   "cell_type": "code",
   "execution_count": 136,
   "metadata": {},
   "outputs": [],
   "source": [
    "# dim_list, step_mi_list, num_bins, cutpoint_list"
   ]
  },
  {
   "cell_type": "code",
   "execution_count": 137,
   "metadata": {},
   "outputs": [],
   "source": [
    "# from copy import deepcopy\n",
    "# dfs = deepcopy(df_X)\n",
    "# dfs['Y'] = y\n",
    "\n",
    "# best_subsetData_list, step_mi_list, dim_list, cutpoint_list, num_bins= \\\n",
    "#     stageWiseDiscretizationMI(delta=0.05, early_stopping='chi_square_adjust').fit(dfs)"
   ]
  },
  {
   "cell_type": "code",
   "execution_count": 138,
   "metadata": {},
   "outputs": [],
   "source": [
    "# import numpy as np\n",
    "# np.unique(dims_list)"
   ]
  },
  {
   "cell_type": "code",
   "execution_count": 139,
   "metadata": {},
   "outputs": [],
   "source": [
    "# dim_list, step_mi_list, num_bins, cutpoint_list"
   ]
  }
 ],
 "metadata": {
  "kernelspec": {
   "display_name": "joint_algorithm",
   "language": "python",
   "name": "python3"
  },
  "language_info": {
   "codemirror_mode": {
    "name": "ipython",
    "version": 3
   },
   "file_extension": ".py",
   "mimetype": "text/x-python",
   "name": "python",
   "nbconvert_exporter": "python",
   "pygments_lexer": "ipython3",
   "version": "3.9.15"
  },
  "orig_nbformat": 4,
  "vscode": {
   "interpreter": {
    "hash": "7e1d968c2fc7434367969c717f44058c545bb67c57dae4b308f3a84cce94c9c5"
   }
  }
 },
 "nbformat": 4,
 "nbformat_minor": 2
}
