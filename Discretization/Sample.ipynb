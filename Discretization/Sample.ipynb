{
 "cells": [
  {
   "attachments": {},
   "cell_type": "markdown",
   "metadata": {},
   "source": [
    "This is the script how to use Joint/Stage-wise discretization  \n",
    "\n",
    "Note: Joint discretization is super fast than stage-wise.\n",
    "\n",
    "Assume $j$ is the best cut point set in $j$th iteration, we could find another cut point ${t_{j+1}}$ to reach maximum MI or minimum P_value.  \n",
    "We define sample size $n$, number of predictors $p$ and $k$ selected variables.\n",
    "Time complexity of joint discretization:\n",
    "* $\\argmax(I(X_{j+1};Y) - I(X_{j};Y)) \\rightarrow O(npk)$\n",
    "* $\\argmin(P(I(X_{j+1};Y) - I(X_{j};Y))) \\rightarrow O(npk)$\n",
    "\n",
    "Furthermore, we could further decrese the time complexity to $O(npl)$, where $l$ is the unique selected variable of $k$."
   ]
  },
  {
   "cell_type": "code",
   "execution_count": 1,
   "metadata": {},
   "outputs": [
    {
     "name": "stderr",
     "output_type": "stream",
     "text": [
      "/Users/yluu0028/Documents/GitHub/PhD/Discretization/data_generator_v2.py:161: RuntimeWarning: overflow encountered in exp\n",
      "  mu = 1/(1+ np.exp(-eta))\n",
      "/Users/yluu0028/Documents/GitHub/PhD/Discretization/data_generator_v2.py:165: RuntimeWarning: divide by zero encountered in double_scalars\n",
      "  snr = np.sqrt(np.var(mu)/np.mean(v))\n",
      "/Users/yluu0028/opt/anaconda3/envs/joint_algorithm/lib/python3.8/site-packages/scipy/optimize/_numdiff.py:576: RuntimeWarning: invalid value encountered in subtract\n",
      "  df = fun(x) - f0\n",
      "/Users/yluu0028/Documents/GitHub/PhD/Discretization/data_generator_v2.py:161: RuntimeWarning: overflow encountered in exp\n",
      "  mu = 1/(1+ np.exp(-eta))\n",
      "/Users/yluu0028/Documents/GitHub/PhD/Discretization/data_generator_v2.py:161: RuntimeWarning: overflow encountered in exp\n",
      "  mu = 1/(1+ np.exp(-eta))\n"
     ]
    }
   ],
   "source": [
    "from joint_nalgorithmMI import efficientJointDiscretizationMI\n",
    "from joint_nalgorithmPvalue import efficientJointDiscretizationPvalue\n",
    "from joint_lognalgorithmPvalue import stageWiseDiscretizationPvalue\n",
    "from joint_lognalgorithmMI import stageWiseDiscretizationMI\n",
    "\n",
    "from data_generator_v2 import dataGenerator\n",
    "\n",
    "df_X, y, variable_lst, btrue, formula = dataGenerator(n=200,\n",
    "                                                    rho = 0.8,\n",
    "                                                    p = 100,\n",
    "                                                    r = 10,\n",
    "                                                    num_terms = 10,\n",
    "                                                    degree = 5,\n",
    "                                                    alpha = None,\n",
    "                                                    beta = 0.5,\n",
    "                                                    SNR = 10,\n",
    "                                                    random_state = 0,\n",
    "                                                    model = 'binomial').sample()\n",
    "\n"
   ]
  },
  {
   "cell_type": "code",
   "execution_count": 2,
   "metadata": {},
   "outputs": [],
   "source": [
    "# With maximum MI\n",
    "dims_list, step_fmi, best_bins, values, best_counts, best_y_counts, best_cond_entr, num_bins =\\\n",
    "      efficientJointDiscretizationMI(duplicate=True, early_stopping='chi_square_adjust', delta_correction=True, delta=0.05).fit(df_X.values, y)"
   ]
  },
  {
   "cell_type": "code",
   "execution_count": 3,
   "metadata": {},
   "outputs": [
    {
     "data": {
      "text/plain": [
       "([7, 5],\n",
       " [0.174403624917856, 0.2909035511897311],\n",
       " 4,\n",
       " [0.5074170337254518, 0.43238782649262236])"
      ]
     },
     "execution_count": 3,
     "metadata": {},
     "output_type": "execute_result"
    }
   ],
   "source": [
    "dims_list, step_fmi, num_bins, values"
   ]
  },
  {
   "cell_type": "code",
   "execution_count": 4,
   "metadata": {},
   "outputs": [],
   "source": [
    "# with p_values\n",
    "dims_list, step_fmi, best_bins, values, best_counts, best_y_counts, best_cond_entr, num_bins =\\\n",
    "      efficientJointDiscretizationPvalue(duplicate=True, early_stopping='chi_square_adjust', delta_correction=True, delta=0.05).fit(df_X.values, y)"
   ]
  },
  {
   "cell_type": "code",
   "execution_count": 5,
   "metadata": {},
   "outputs": [
    {
     "data": {
      "text/plain": [
       "([7, 5],\n",
       " [0.174403624917856, 0.2909035511897311],\n",
       " 4,\n",
       " [0.5074170337254518, 0.43238782649262236])"
      ]
     },
     "execution_count": 5,
     "metadata": {},
     "output_type": "execute_result"
    }
   ],
   "source": [
    "dims_list, step_fmi, num_bins, values"
   ]
  },
  {
   "cell_type": "code",
   "execution_count": 6,
   "metadata": {},
   "outputs": [],
   "source": [
    "from copy import deepcopy\n",
    "dfs = deepcopy(df_X)\n",
    "dfs['Y'] = y\n",
    "best_subsetData_list, step_mi_list, dim_list, cutpoint_list, num_bins= \\\n",
    "    stageWiseDiscretizationPvalue(delta=0.05, early_stopping='chi_square_adjust').fit(dfs)"
   ]
  },
  {
   "cell_type": "code",
   "execution_count": 7,
   "metadata": {},
   "outputs": [
    {
     "data": {
      "text/plain": [
       "([7, 5],\n",
       " array([0.17056694, 0.27956303]),\n",
       " 4,\n",
       " [0.23537269829268415, 0.7905307502798592])"
      ]
     },
     "execution_count": 7,
     "metadata": {},
     "output_type": "execute_result"
    }
   ],
   "source": [
    "dim_list, step_mi_list, num_bins, cutpoint_list"
   ]
  },
  {
   "cell_type": "code",
   "execution_count": 8,
   "metadata": {},
   "outputs": [],
   "source": [
    "from copy import deepcopy\n",
    "dfs = deepcopy(df_X)\n",
    "dfs['Y'] = y\n",
    "\n",
    "best_subsetData_list, step_mi_list, dim_list, cutpoint_list, num_bins= \\\n",
    "    stageWiseDiscretizationMI(delta=0.05, early_stopping='chi_square_adjust').fit(dfs)"
   ]
  },
  {
   "cell_type": "code",
   "execution_count": 13,
   "metadata": {},
   "outputs": [
    {
     "data": {
      "text/plain": [
       "array([5, 7])"
      ]
     },
     "execution_count": 13,
     "metadata": {},
     "output_type": "execute_result"
    }
   ],
   "source": [
    "import numpy as np\n",
    "np.unique(dims_list)"
   ]
  },
  {
   "cell_type": "code",
   "execution_count": 11,
   "metadata": {},
   "outputs": [
    {
     "data": {
      "text/plain": [
       "([75,\n",
       "  75,\n",
       "  75,\n",
       "  75,\n",
       "  75,\n",
       "  75,\n",
       "  75,\n",
       "  75,\n",
       "  75,\n",
       "  75,\n",
       "  75,\n",
       "  75,\n",
       "  75,\n",
       "  75,\n",
       "  75,\n",
       "  75,\n",
       "  75,\n",
       "  75,\n",
       "  75,\n",
       "  75,\n",
       "  75,\n",
       "  75,\n",
       "  75,\n",
       "  75,\n",
       "  75,\n",
       "  75,\n",
       "  75,\n",
       "  75,\n",
       "  75,\n",
       "  75,\n",
       "  75,\n",
       "  75,\n",
       "  75,\n",
       "  75,\n",
       "  75,\n",
       "  75,\n",
       "  75,\n",
       "  75,\n",
       "  75,\n",
       "  75,\n",
       "  75,\n",
       "  75,\n",
       "  75,\n",
       "  75,\n",
       "  75,\n",
       "  75,\n",
       "  75,\n",
       "  75,\n",
       "  75,\n",
       "  75,\n",
       "  75,\n",
       "  75,\n",
       "  75,\n",
       "  75,\n",
       "  75,\n",
       "  75,\n",
       "  75,\n",
       "  75,\n",
       "  75,\n",
       "  75,\n",
       "  75,\n",
       "  75,\n",
       "  75,\n",
       "  75,\n",
       "  75,\n",
       "  75,\n",
       "  75,\n",
       "  75,\n",
       "  75,\n",
       "  46,\n",
       "  66,\n",
       "  30,\n",
       "  34,\n",
       "  35],\n",
       " array([0.01940982, 0.02977135, 0.0370711 , 0.04927573, 0.08655236,\n",
       "        0.09564181, 0.10348612, 0.12185453, 0.1369193 , 0.16533108,\n",
       "        0.17816706, 0.18495271, 0.2046289 , 0.21844565, 0.22964883,\n",
       "        0.23623193, 0.2421923 , 0.25300862, 0.26004916, 0.2655261 ,\n",
       "        0.27050902, 0.27549193, 0.27965113, 0.28463404, 0.2881793 ,\n",
       "        0.29119719, 0.29263837, 0.30810101, 0.31658513, 0.32501052,\n",
       "        0.33233885, 0.33527829, 0.3427294 , 0.3433093 , 0.34614527,\n",
       "        0.34674099, 0.3517239 , 0.35228619, 0.3818633 , 0.39586066,\n",
       "        0.4095563 , 0.42135888, 0.42616839, 0.43114601, 0.4361523 ,\n",
       "        0.44457769, 0.44907645, 0.45905035, 0.46125775, 0.46309707,\n",
       "        0.47152247, 0.47331074, 0.4780462 , 0.47897387, 0.47970459,\n",
       "        0.48354529, 0.48508164, 0.49642163, 0.50484703, 0.50891525,\n",
       "        0.51508702, 0.51552294, 0.52394833, 0.52426854, 0.52727992,\n",
       "        0.53570532, 0.53854129, 0.539137  , 0.54411992, 0.5577601 ,\n",
       "        0.56565285, 0.57028356, 0.57787394, 0.58952523]),\n",
       " 86,\n",
       " [0.4923542535077079,\n",
       "  0.5333746670506739,\n",
       "  1.8961002381043917,\n",
       "  1.5677972646916996,\n",
       "  1.3051634569146267,\n",
       "  1.204256423996204,\n",
       "  0.79188288063118,\n",
       "  0.6218276776775477,\n",
       "  0.8939724062089474,\n",
       "  0.9854679908996526,\n",
       "  0.5645052043543447,\n",
       "  0.31956358411658625,\n",
       "  0.28328828197359396,\n",
       "  0.4079679109364369,\n",
       "  0.4252556664297167,\n",
       "  0.7338843182681742,\n",
       "  0.20353860722383804,\n",
       "  0.05612644721295862,\n",
       "  0.025199291546777365,\n",
       "  0.2674924026372303,\n",
       "  0.2802664436766914,\n",
       "  0.758751190910168,\n",
       "  1.2387304094029064,\n",
       "  1.2757733019166155,\n",
       "  0.09297121418675866,\n",
       "  0.18282503616581564,\n",
       "  -0.09568134935955006,\n",
       "  -0.13956803911273621,\n",
       "  -0.004300255943160517,\n",
       "  0.02507284706587436,\n",
       "  -0.1640604938062388,\n",
       "  -0.18163804698023672,\n",
       "  -0.23393964553526317,\n",
       "  0.11891047298363928,\n",
       "  0.16915142900319413,\n",
       "  0.14871995899102736,\n",
       "  0.12982752952006815,\n",
       "  -0.6811028020288826,\n",
       "  -0.8600223087973036,\n",
       "  -0.535071270521218,\n",
       "  -0.8724393683295225,\n",
       "  -0.9644083364851425,\n",
       "  -0.32359785143728914,\n",
       "  -0.29767292668345907,\n",
       "  -0.27964361995159903,\n",
       "  -0.25364328004905057,\n",
       "  -0.6359345978528749,\n",
       "  -0.5950507489482144,\n",
       "  -0.6202827144827634,\n",
       "  -0.5497579508035899,\n",
       "  -0.5450126746293629,\n",
       "  -0.3391912921591859,\n",
       "  -0.3591015116754012,\n",
       "  -0.6340310851873971,\n",
       "  -0.989537778247614,\n",
       "  -1.0431332319235684,\n",
       "  -1.8865535832546938,\n",
       "  -2.3310828398209016,\n",
       "  -2.8375024839634775,\n",
       "  -1.8423043559060321,\n",
       "  -1.7890089298368101,\n",
       "  1.612650141056517,\n",
       "  1.6132566025163966,\n",
       "  -0.4758241919433088,\n",
       "  -0.3954386564134551,\n",
       "  -0.3848602126405186,\n",
       "  -0.4931823329045826,\n",
       "  -0.5127823198481991,\n",
       "  -0.5230042001068709,\n",
       "  1.4033352589872716,\n",
       "  2.522486278034259,\n",
       "  -2.612832471981846,\n",
       "  -2.76130610055768,\n",
       "  2.185517491704236])"
      ]
     },
     "execution_count": 11,
     "metadata": {},
     "output_type": "execute_result"
    }
   ],
   "source": [
    "dim_list, step_mi_list, num_bins, cutpoint_list"
   ]
  }
 ],
 "metadata": {
  "kernelspec": {
   "display_name": "joint_algorithm",
   "language": "python",
   "name": "python3"
  },
  "language_info": {
   "codemirror_mode": {
    "name": "ipython",
    "version": 3
   },
   "file_extension": ".py",
   "mimetype": "text/x-python",
   "name": "python",
   "nbconvert_exporter": "python",
   "pygments_lexer": "ipython3",
   "version": "3.8.15"
  },
  "orig_nbformat": 4,
  "vscode": {
   "interpreter": {
    "hash": "7e1d968c2fc7434367969c717f44058c545bb67c57dae4b308f3a84cce94c9c5"
   }
  }
 },
 "nbformat": 4,
 "nbformat_minor": 2
}
