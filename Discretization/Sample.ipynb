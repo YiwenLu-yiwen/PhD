{
 "cells": [
  {
   "attachments": {},
   "cell_type": "markdown",
   "metadata": {},
   "source": [
    "This is the script how to use Joint/Stage-wise discretization  \n",
    "\n",
    "Note: Joint discretization is super fast than stage-wise.\n",
    "\n",
    "Assume $j$ is the best cut point set in $j$th iteration, we could find another cut point ${t_{j+1}}$ to reach maximum MI or minimum P_value.  \n",
    "We define sample size $n$, number of predictors $p$ and $k$ selected variables.\n",
    "Time complexity of joint discretization:\n",
    "* $\\argmax(I(X_{j+1};Y) - I(X_{j};Y)) \\rightarrow O(npk)$\n",
    "* $\\argmin(P(I(X_{j+1};Y) - I(X_{j};Y))) \\rightarrow O(npk)$\n",
    "\n",
    "Furthermore, we could further decrese the time complexity to $O(npl)$, where $l$ is the unique selected variable of $k$."
   ]
  },
  {
   "cell_type": "code",
   "execution_count": 1,
   "metadata": {},
   "outputs": [
    {
     "name": "stderr",
     "output_type": "stream",
     "text": [
      "/Users/yluu0028/Documents/GitHub/PhD/Discretization/data_generator_v2.py:180: RuntimeWarning: overflow encountered in exp\n",
      "  mu = 1/(1+ np.exp(-eta))\n",
      "/Users/yluu0028/Documents/GitHub/PhD/Discretization/data_generator_v2.py:184: RuntimeWarning: divide by zero encountered in double_scalars\n",
      "  snr = np.sqrt(np.var(mu)/np.mean(v))\n",
      "/Users/yluu0028/opt/anaconda3/envs/joint_algorithm/lib/python3.8/site-packages/scipy/optimize/_numdiff.py:576: RuntimeWarning: invalid value encountered in subtract\n",
      "  df = fun(x) - f0\n",
      "/Users/yluu0028/Documents/GitHub/PhD/Discretization/data_generator_v2.py:180: RuntimeWarning: overflow encountered in exp\n",
      "  mu = 1/(1+ np.exp(-eta))\n",
      "/Users/yluu0028/Documents/GitHub/PhD/Discretization/data_generator_v2.py:180: RuntimeWarning: overflow encountered in exp\n",
      "  mu = 1/(1+ np.exp(-eta))\n"
     ]
    }
   ],
   "source": [
    "from efficientVariableSelection import VariableSelection\n",
    "\n",
    "from data_generator_v2 import dataGenerator\n",
    "\n",
    "df_X, y, variable_lst, btrue, formula, all_formulas = dataGenerator(n=200,\n",
    "                                                    rho = 0.8,\n",
    "                                                    p = 100,\n",
    "                                                    r = 10,\n",
    "                                                    num_terms = 10,\n",
    "                                                    degree = 5,\n",
    "                                                    alpha = None,\n",
    "                                                    beta = 0.5,\n",
    "                                                    SNR = 10,\n",
    "                                                    random_state = 0,\n",
    "                                                    model = 'binomial').sample()\n",
    "\n"
   ]
  },
  {
   "cell_type": "code",
   "execution_count": 2,
   "metadata": {},
   "outputs": [
    {
     "data": {
      "text/plain": [
       "<efficientVariableSelection.VariableSelection at 0x7fe5a6e28850>"
      ]
     },
     "execution_count": 2,
     "metadata": {},
     "output_type": "execute_result"
    }
   ],
   "source": [
    "# With maximum MI\n",
    "variable_selection = VariableSelection(delta=0.05, base='mi', criteria='orginal', num_cutpoints=None)\n",
    "variable_selection.fit(df_X.values, y)"
   ]
  },
  {
   "cell_type": "code",
   "execution_count": 3,
   "metadata": {},
   "outputs": [
    {
     "data": {
      "text/plain": [
       "array([12, 31, 46, 68, 70, 76])"
      ]
     },
     "execution_count": 3,
     "metadata": {},
     "output_type": "execute_result"
    }
   ],
   "source": [
    "variable_selection.selected_"
   ]
  },
  {
   "cell_type": "code",
   "execution_count": null,
   "metadata": {},
   "outputs": [],
   "source": []
  }
 ],
 "metadata": {
  "kernelspec": {
   "display_name": "joint_algorithm",
   "language": "python",
   "name": "python3"
  },
  "language_info": {
   "codemirror_mode": {
    "name": "ipython",
    "version": 3
   },
   "file_extension": ".py",
   "mimetype": "text/x-python",
   "name": "python",
   "nbconvert_exporter": "python",
   "pygments_lexer": "ipython3",
   "version": "3.8.15"
  },
  "orig_nbformat": 4,
  "vscode": {
   "interpreter": {
    "hash": "7e1d968c2fc7434367969c717f44058c545bb67c57dae4b308f3a84cce94c9c5"
   }
  }
 },
 "nbformat": 4,
 "nbformat_minor": 2
}
