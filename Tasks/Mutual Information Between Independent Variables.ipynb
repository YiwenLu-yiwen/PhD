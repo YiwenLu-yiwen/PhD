{
 "cells": [
  {
   "cell_type": "markdown",
   "metadata": {},
   "source": [
    "# Mutual Information Between Independent Dices\n",
    "\n",
    "In this task, We replicate two dice experiments. We use $d_1,d_2,d_3,d_4,d_5$ to indicate dice number.  \n",
    "* In the first experiment, we use 2 dices to estimate mutual information $\\hat I (d_1;d_2)$  \n",
    "\n",
    "\n",
    "* In the first experiment, we extend 2 dices to 5 dices and estimate mutual information $\\hat I (\\{d_1,d_2,d_3,d_4\\};d_5)$   "
   ]
  },
  {
   "cell_type": "markdown",
   "metadata": {},
   "source": [
    "## Formula\n",
    "We first define shannon Entropy $H(Y)$\n",
    "\n",
    "$H(Y) = -\\sum_{y \\in Y} p(y)log(p(y))$   \n",
    "\n",
    "Next, we use conditional shannon Entropy $H(Y|X)$\n",
    "\n",
    "$H(Y|\\mathcal{X}) = \\sum_{x\\in \\mathcal{X}} p(x)H(Y|\\mathcal{X} = x)$  \n",
    "\n",
    "$=-\\sum_{x\\in \\mathcal{X}}\\sum_{y \\in Y}p(x)p(y|x)log(p(y|x))$  \n",
    "\n",
    "$=-\\sum_{x\\in \\mathcal{X}}\\sum_{y \\in Y}p(x,y)log(p(y|x))$  \n",
    "\n",
    "$=-\\sum_{x\\in \\mathcal{X}}\\sum_{y \\in Y}p(x,y)log(\\frac{p(x,y)}{p(x)})$  \n",
    "\n",
    "With these, mutual information $\\hat I (Y;\\mathcal{X})= H(Y) - H(Y;\\mathcal{X})$  can be rewrite as  \n",
    "\n",
    "$\\hat I (\\mathcal{X}; Y)= -\\sum_{y \\in Y} p(y)log(p(y)) + \\sum_{x\\in \\mathcal{X}}\\sum_{y \\in Y}p(x,y)log(\\frac{p(x,y)}{p(x)})$  \n",
    "\n"
   ]
  },
  {
   "cell_type": "code",
   "execution_count": 1,
   "metadata": {},
   "outputs": [],
   "source": [
    "# import libraries\n",
    "import random \n",
    "import pandas as pd\n",
    "import math\n",
    "import numpy as np\n",
    "import matplotlib.pyplot as plt"
   ]
  },
  {
   "cell_type": "code",
   "execution_count": 2,
   "metadata": {},
   "outputs": [],
   "source": [
    "# create random dice\n",
    "def rand_dice():\n",
    "    return random.randint(1,6)"
   ]
  },
  {
   "cell_type": "markdown",
   "metadata": {},
   "source": [
    "## First experiemt to estimate $\\hat I(d_1;d_2)$\n",
    "\n",
    "In this experiment, we perform 50 independent rolls and compute $\\hat I(d_1;d_2)$ to estimate mutual information. We use [6] to indecate the range of dice number [1,2,3,4,5,6]\n",
    "\n",
    "$\\hat I(d_1;d_2) = -\\sum_{d_2 \\in [6]} p(d_2)log(p(d_2)) + \\sum_{d_1\\in [6]}\\sum_{d_2 \\in [6]}p(d_1,d_2)log(\\frac{p(d_1,d_2)}{p(d_1)})$\n",
    "\n",
    "We repeat this process with 10,000 simulations and plot histogram for 20 equal-frequency bins "
   ]
  },
  {
   "cell_type": "code",
   "execution_count": 3,
   "metadata": {},
   "outputs": [],
   "source": [
    "def generate_dice2():\n",
    "    \"\"\"\n",
    "    This part is for generate 2 independent dices\n",
    "    return: dice1_dic: a dictonary of (d1) and p(d1), \n",
    "            dice2_dic: a dictionary of d2 and p(d2)\n",
    "            keys_list: a list contains tuple like (d1, d2) \n",
    "            value_list: a list contains p(d1,d2) \n",
    "            dice2_list: a list contains p(d2)\n",
    "    \"\"\"\n",
    "    # initial and create [(d1,d2)] list\n",
    "    alist = []\n",
    "    for i in range(50):\n",
    "        tple = (rand_dice(), rand_dice())\n",
    "        alist.append(tple)\n",
    "        \n",
    "    # count [(d1,d2)] into dictionary \n",
    "    dic = {}\n",
    "    for each in alist:\n",
    "        if each not in dic.keys():\n",
    "            dic[each] = 1\n",
    "        else:\n",
    "            dic[each] += 1\n",
    "    \n",
    "    # change [(d1,d2)] counts into sublist and calculate p(d1,d2) probability\n",
    "    keys_list = []\n",
    "    value_list = []\n",
    "    for key, value in dic.items():\n",
    "        keys_list.append(key)\n",
    "        value_list.append(value)\n",
    "        \n",
    "    sum_value = sum(value_list)    \n",
    "    value_list = [each/sum_value for each in value_list]\n",
    "        \n",
    "    #initial d1, d2  list\n",
    "    dice1_list = [0]* 6\n",
    "    dice2_list = [0]* 6\n",
    "    keys = [1,2,3,4,5,6]\n",
    "    \n",
    "    # count two dice events\n",
    "    for each in alist:\n",
    "        dice1_list[each[0]-1] += 1\n",
    "        dice2_list[each[1]-1] += 1\n",
    "    \n",
    "    # change count to probability\n",
    "    sum_1 = sum(dice1_list)    \n",
    "    dice1_list = [each/sum_1 for each in dice1_list]\n",
    "    sum_2 = sum(dice2_list)    \n",
    "    dice2_list = [each/sum_2 for each in dice2_list]\n",
    "    \n",
    "    dice1_dic = dict(zip(keys, dice1_list))\n",
    "    dice2_dic = dict(zip(keys, dice2_list))\n",
    "    \n",
    "    return dice1_dic, dice2_dic, keys_list, value_list, dice2_list"
   ]
  },
  {
   "cell_type": "code",
   "execution_count": 4,
   "metadata": {},
   "outputs": [],
   "source": [
    "def main():\n",
    "    \"\"\"\n",
    "    This part is generate 5 independent dices and calculate mutual information.\n",
    "    return: alist: a list contains multiple estimate mutual information in each experiment\n",
    "    \"\"\"\n",
    "    # initial whole result list\n",
    "    alist = []\n",
    "    for _ in range(10000):\n",
    "        result = 0\n",
    "        x_dic,y_dic,key_list,xy_list,y_list = generate_dice2()\n",
    "        \n",
    "        # calculate H(d2)\n",
    "        for each in y_list:\n",
    "            if each != 0:\n",
    "                result -= each * math.log(each,2)\n",
    "        # calculate H(d2) - H(d2|d1=x)    \n",
    "        for i in range(len(key_list)):\n",
    "            x_indx = key_list[i][0] # x variable\n",
    "            result += xy_list[i]*math.log(xy_list[i]/x_dic[x_indx],2)\n",
    "                        \n",
    "        alist.append(result)\n",
    "    return alist"
   ]
  },
  {
   "cell_type": "code",
   "execution_count": 5,
   "metadata": {
    "scrolled": true
   },
   "outputs": [
    {
     "data": {
      "image/png": "[encoded data removed]",
      "text/plain": [
       "<Figure size 432x288 with 1 Axes>"
      ]
     },
     "metadata": {},
     "output_type": "display_data"
    }
   ],
   "source": [
    "alist = main()\n",
    "interval = (max(alist) - min(alist))/19 \n",
    "bins = [interval * i for i in range(20)]\n",
    "#plt.hist(alist, bins = bins)\n",
    "plt.hist(x=alist, bins=20, width = 0.035)\n",
    "plt.ylabel('Counts')\n",
    "plt.xlabel('$\\hat I(d_1;d_2)$')\n",
    "plt.grid(axis='y', alpha=0.6)\n",
    "plt.show()"
   ]
  },
  {
   "cell_type": "code",
   "execution_count": 6,
   "metadata": {},
   "outputs": [
    {
     "name": "stdout",
     "output_type": "stream",
     "text": [
      "Expectation of mutual information between 5 dices is:  0.443222534083\n"
     ]
    }
   ],
   "source": [
    "exp = np.mean(alist)\n",
    "print('Expectation of mutual information between 5 dices is: ', str(exp))"
   ]
  },
  {
   "cell_type": "markdown",
   "metadata": {},
   "source": [
    "## Conculsion\n",
    "\n",
    "In the first experiment, We have $I(d_1;d_2) = 0$. But estimate mutual information histogram plot has right tail and $E(\\hat I(d_1;d_2)) \\approx 0.44$"
   ]
  },
  {
   "cell_type": "markdown",
   "metadata": {},
   "source": [
    "## Second experiemt to estimate $\\hat I(\\{d_1, d_2, d_3, d_4\\};d_5)$\n",
    "\n",
    "In this experiment, we perform 50 independent rolls and compute $\\hat I(\\{d_1, d_2, d_3, d_4\\};d_5)$ to estimate mutual information. We use [6] to indecate the range of dice number [1,2,3,4,5,6]\n",
    "\n",
    "$\\hat I(\\{d_1, d_2, d_3, d_4\\};d_5) = -\\sum_{d_5 \\in [6]} p(d_5)log(p(d_5)) + \\sum_{\\{d_1, d_2, d_3, d_4\\} \\in \\{[6],[6],[6],[6]\\}}\\sum_{d_5 \\in [6]}p(d_1, d_2, d_3, d_4, d_5)log(\\frac{p(d_1, d_2, d_3, d_4, d_5)}{p(d_1, d_2, d_3, d_4)})$\n",
    "\n",
    "We repeat this process with 10,000 simulations and plot histogram for 20 equal-frequency bins "
   ]
  },
  {
   "cell_type": "code",
   "execution_count": 7,
   "metadata": {},
   "outputs": [],
   "source": [
    "def generate_dice5():\n",
    "    \"\"\"\n",
    "    This part is for generate 5 independent dices\n",
    "    return: dic14_dic: a dictonary of (d1,d2,d3,d4) and p(d1,d2,d3,d4), \n",
    "            dice5_dic: a dictionary of d5 and p(d5)\n",
    "            keys_list: a list contains ({d1,d2,d3,d4},d5) \n",
    "            value_list: a list contains p({d1,d2,d3,d4},d5) \n",
    "            dice5_list: a list contains p(d5)\n",
    "    \"\"\"\n",
    "    # initial [(d1,d2,d3,d4),d5]\n",
    "    alist = []\n",
    "    # create [(d1,d2,d3,d4),d5]\n",
    "    for i in range(50):\n",
    "        tple1 = (rand_dice(), rand_dice(),rand_dice(), rand_dice()) #(d1,d2,d3,d4)\n",
    "        tple = (tple1, rand_dice()) # (d1,d2,d3,d4),d5\n",
    "        alist.append(tple)\n",
    "    \n",
    "    # count [(d1,d2,d3,d4),d5] into dictionary\n",
    "    dic = {}\n",
    "    for each in alist:\n",
    "        if each not in dic.keys():\n",
    "            dic[each] = 1\n",
    "        else:\n",
    "            dic[each] += 1\n",
    "    \n",
    "    # key_list contains [(d1,d2,d3,d4),d5], and value list contains corresponding counts \n",
    "    keys_list = []\n",
    "    value_list = []\n",
    "    for key, value in dic.items():\n",
    "        keys_list.append(key)\n",
    "        value_list.append(value)\n",
    "    \n",
    "    # change counts into probability\n",
    "    sum_value = sum(value_list)    \n",
    "    value_list = [each/sum_value for each in value_list]\n",
    "        \n",
    "    #initial dice5 list (y list)\n",
    "    dice5_list = [0]*6\n",
    "\n",
    "    keys = [1,2,3,4,5,6]\n",
    "    \n",
    "    # count dice 5 events\n",
    "    for each in alist:\n",
    "        dice5_list[each[1]-1] += 1\n",
    "    \n",
    "    # change count to probability and store it in dictionary\n",
    "    sum_5 = len(alist)    \n",
    "    dice5_list = [each/sum_5 for each in dice5_list]\n",
    "    dice5_dic = dict(zip(keys, dice5_list))\n",
    "    \n",
    "    # initial dice 1-4 dictionary(x)\n",
    "    dic14_dic = {}\n",
    "    for each in alist:\n",
    "        if each[0] not in dic14_dic.keys():\n",
    "            dic14_dic[each[0]] = 1/sum_5\n",
    "        else:\n",
    "            dic14_dic[each[0]] += 1/sum_5\n",
    "    \n",
    "    return dic14_dic, dice5_dic, keys_list, value_list, dice5_list"
   ]
  },
  {
   "cell_type": "code",
   "execution_count": 8,
   "metadata": {},
   "outputs": [],
   "source": [
    "def main1():\n",
    "    \"\"\"\n",
    "    This part is generate 5 independent dices and calculate mutual information.\n",
    "    return: alist: a list contains multiple estimate mutual information in each experiment\n",
    "    \"\"\"\n",
    "    alist = []\n",
    "    for _ in range(10000):\n",
    "        result = 0\n",
    "        x_dic, y_dic, key_list, comb_list, y_list = generate_dice5()\n",
    "        \n",
    "        #  calculate H(d1,d2,d3,d4)\n",
    "        for each in y_list:\n",
    "            if each != 0:\n",
    "                result -= each * math.log(each,2)\n",
    "        \n",
    "        # calculate H(d1,d2,d3,d4) - H(d5|d1,d2,d3,d4)\n",
    "        for i in range(len(key_list)):\n",
    "            d1 = key_list[i][0][0] # dice 1\n",
    "            d2 = key_list[i][0][1] # dice 2\n",
    "            d3 = key_list[i][0][2] # dice 3\n",
    "            d4 = key_list[i][0][3] # dice 4\n",
    "            result += comb_list[i]*math.log(comb_list[i]/x_dic[(d1,d2,d3,d4)],2)\n",
    "                        \n",
    "        alist.append(result)\n",
    "    return alist"
   ]
  },
  {
   "cell_type": "code",
   "execution_count": 9,
   "metadata": {},
   "outputs": [
    {
     "data": {
      "image/png": "[encoded data removed]",
      "text/plain": [
       "<Figure size 432x288 with 1 Axes>"
      ]
     },
     "metadata": {},
     "output_type": "display_data"
    }
   ],
   "source": [
    "alist = main1()\n",
    "interval = (max(alist) - min(alist))/19 \n",
    "bins = [interval * i for i in range(20)]\n",
    "#plt.hist(alist, bins = bins)\n",
    "plt.hist(x=alist, bins=20, width = 0.015)\n",
    "plt.ylabel('Counts')\n",
    "plt.xlabel('$\\hat I(\\{d_1, d_2, d_3, d_4\\};d_5)$')\n",
    "plt.grid(axis='y', alpha=0.6)\n",
    "plt.show()"
   ]
  },
  {
   "cell_type": "code",
   "execution_count": 10,
   "metadata": {},
   "outputs": [
    {
     "name": "stdout",
     "output_type": "stream",
     "text": [
      "Expectation of mutual information between 5 dices is:  2.48053275832\n"
     ]
    }
   ],
   "source": [
    "exp = np.mean(alist)\n",
    "print('Expectation of mutual information between 5 dices is: ', str(exp))"
   ]
  },
  {
   "cell_type": "markdown",
   "metadata": {},
   "source": [
    "## Conculsion\n",
    "\n",
    "In the first experiment, We have $\\hat I(\\{d_1, d_2, d_3, d_4\\};d_5) = 0$. But estimate mutual information histogram plot has right tail and $E(\\hat I(\\{d_1, d_2, d_3, d_4\\};d_5)) \\approx 2.48$"
   ]
  },
  {
   "cell_type": "code",
   "execution_count": null,
   "metadata": {},
   "outputs": [],
   "source": []
  }
 ],
 "metadata": {
  "kernelspec": {
   "display_name": "Python 3",
   "language": "python",
   "name": "python3"
  },
  "language_info": {
   "codemirror_mode": {
    "name": "ipython",
    "version": 3
   },
   "file_extension": ".py",
   "mimetype": "text/x-python",
   "name": "python",
   "nbconvert_exporter": "python",
   "pygments_lexer": "ipython3",
   "version": "3.5.2"
  }
 },
 "nbformat": 4,
 "nbformat_minor": 2
}
