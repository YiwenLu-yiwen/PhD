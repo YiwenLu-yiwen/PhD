{
 "cells": [
  {
   "cell_type": "markdown",
   "metadata": {},
   "source": [
    "# Introduction to Permutation Model\n",
    "\n",
    "We assume a set of discrete random variables $\\mathcal{X} = \\{X_1, X_2,\\dots,X_n\\}$ and $Y = \\{Y_1, Y_2, \\dots, Y_n\\}$ is the labels of their joint examples $D = \\{(X_1, Y_1), (X_2, Y_2),\\dots, (X_n, Y_n)\\}$.  \n",
    "When we estimate mutual information $\\hat I(\\mathcal{X}, Y)$, we have \n",
    "$$\n",
    "\\hat I(\\mathcal{X}, Y) = E_0(\\hat I(\\mathcal{X}, Y)) + \\hat I_0(\\mathcal{X}, Y).\n",
    "$$ \n",
    "where $\\hat I_0(\\mathcal{X}, Y)$ is the real mutual information term and we named it __reliable mutual information__. This term is not only accounts for __dependency by chance__ but also need to do __time efficiency__.  i.e. Dice examples\n"
   ]
  },
  {
   "cell_type": "markdown",
   "metadata": {},
   "source": [
    "## 1. Mutual Information Between Independent Dices\n",
    "\n",
    "In this task, We replicate two dice experiments. We use $d_1,d_2,d_3,d_4,d_5$ to indicate dice number.  \n",
    "* In the first experiment, we use 2 dices to estimate mutual information $\\hat I (d_1;d_2)$  \n",
    "\n",
    "\n",
    "* In the first experiment, we extend 2 dices to 5 dices and estimate mutual information $\\hat I (\\{d_1,d_2,d_3,d_4\\};d_5)$   "
   ]
  },
  {
   "cell_type": "markdown",
   "metadata": {},
   "source": [
    "## Formula\n",
    "We first define __shannon Entropy__ $H(Y)$\n",
    "\n",
    "$H(Y) = -\\sum_{y \\in Y} p(y)log(p(y))$   \n",
    "\n",
    "Next, we use conditional shannon Entropy $H(Y|X)$\n",
    "\n",
    "$H(Y|\\mathcal{X}) = \\sum_{x\\in \\mathcal{X}} p(x)H(Y|\\mathcal{X} = x)$  \n",
    "\n",
    "$=-\\sum_{x\\in \\mathcal{X}}\\sum_{y \\in Y}p(x)p(y|x)log(p(y|x))$  \n",
    "\n",
    "$=-\\sum_{x\\in \\mathcal{X}}\\sum_{y \\in Y}p(x,y)log(p(y|x))$  \n",
    "\n",
    "$=-\\sum_{x\\in \\mathcal{X}}\\sum_{y \\in Y}p(x,y)log(\\frac{p(x,y)}{p(x)})$  \n",
    "\n",
    "With these, mutual information $\\hat I (Y;\\mathcal{X})= H(Y) - H(Y｜\\mathcal{X})$  can be rewrite as  \n",
    "\n",
    "$\\hat I (\\mathcal{X}; Y)= -\\sum_{y \\in Y} p(y)log(p(y)) + \\sum_{x\\in \\mathcal{X}}\\sum_{y \\in Y}p(x,y)log(\\frac{p(x,y)}{p(x)})$  \n",
    "\n"
   ]
  },
  {
   "cell_type": "code",
   "execution_count": 21,
   "metadata": {},
   "outputs": [],
   "source": [
    "# import libraries\n",
    "import random \n",
    "import pandas as pd\n",
    "import math\n",
    "import numpy as np\n",
    "import matplotlib.pyplot as plt\n",
    "from Permutation import *\n",
    "from Functions import *\n",
    "from VariableSelctionMI import *\n",
    "import numpy as np\n",
    "import pandas as pd\n",
    "pd.set_option('display.max_rows', 1000)"
   ]
  },
  {
   "cell_type": "code",
   "execution_count": 2,
   "metadata": {},
   "outputs": [],
   "source": [
    "# create random dice\n",
    "def rand_dice():\n",
    "    return random.randint(1,6)"
   ]
  },
  {
   "cell_type": "markdown",
   "metadata": {},
   "source": [
    "### 1.1 First experiemt to estimate $\\hat I(d_1;d_2)$\n",
    "\n",
    "In this experiment, we perform 50 independent rolls and compute $\\hat I(d_1;d_2)$ to estimate mutual information. We use [6] to indecate the range of dice number [1,2,3,4,5,6]\n",
    "\n",
    "$\\hat I(d_1;d_2) = -\\sum_{d_2 \\in [6]} p(d_2)log(p(d_2)) + \\sum_{d_1\\in [6]}\\sum_{d_2 \\in [6]}p(d_1,d_2)log(\\frac{p(d_1,d_2)}{p(d_1)})$\n",
    "\n",
    "We repeat this process with 10,000 simulations and plot histogram for 20 equal-frequency bins "
   ]
  },
  {
   "cell_type": "code",
   "execution_count": 3,
   "metadata": {},
   "outputs": [],
   "source": [
    "def generate_dice2(rep):\n",
    "    \"\"\"\n",
    "    This part is for generate 2 independent dices\n",
    "    Input: rep: number of repetations\n",
    "    Output: dice1_dic: a dictonary of (d1) and p(d1), \n",
    "            dice2_dic: a dictionary of d2 and p(d2)\n",
    "            keys_list: a list contains tuple like (d1, d2) \n",
    "            value_list: a list contains p(d1,d2) \n",
    "            dice2_list: a list contains p(d2)\n",
    "    \"\"\"\n",
    "    # initial and create [(d1,d2)] list\n",
    "    alist = []\n",
    "    for i in range(rep):\n",
    "        tple = (rand_dice(), rand_dice())\n",
    "        alist.append(tple)\n",
    "        \n",
    "    # count [(d1,d2)] into dictionary \n",
    "    dic = {}\n",
    "    for each in alist:\n",
    "        if each not in dic.keys():\n",
    "            dic[each] = 1\n",
    "        else:\n",
    "            dic[each] += 1\n",
    "    \n",
    "    # change [(d1,d2)] counts into sublist and calculate p(d1,d2) probability\n",
    "    keys_list = []\n",
    "    value_list = []\n",
    "    for key, value in dic.items():\n",
    "        keys_list.append(key)\n",
    "        value_list.append(value)\n",
    "        \n",
    "    sum_value = sum(value_list)    \n",
    "    value_list = [each/sum_value for each in value_list]\n",
    "        \n",
    "    #initial d1, d2  list\n",
    "    dice1_list = [0]* 6\n",
    "    dice2_list = [0]* 6\n",
    "    keys = [1,2,3,4,5,6]\n",
    "    \n",
    "    # count two dice events\n",
    "    for each in alist:\n",
    "        dice1_list[each[0]-1] += 1\n",
    "        dice2_list[each[1]-1] += 1\n",
    "    \n",
    "    # change count to probability\n",
    "    sum_1 = sum(dice1_list)    \n",
    "    dice1_list = [each/sum_1 for each in dice1_list]\n",
    "    sum_2 = sum(dice2_list)    \n",
    "    dice2_list = [each/sum_2 for each in dice2_list]\n",
    "    \n",
    "    dice1_dic = dict(zip(keys, dice1_list))\n",
    "    dice2_dic = dict(zip(keys, dice2_list))\n",
    "    \n",
    "    return dice1_dic, dice2_dic, keys_list, value_list, dice2_list"
   ]
  },
  {
   "cell_type": "code",
   "execution_count": 4,
   "metadata": {},
   "outputs": [],
   "source": [
    "def main(rep, permutation=False):\n",
    "    \"\"\"\n",
    "    This part is generate 5 independent dices and calculate mutual information.\\\n",
    "    Input: rep: number of repetations\n",
    "    Output: alist: a list contains multiple estimate mutual information in each experiment\n",
    "    \"\"\"\n",
    "    # initial whole result list\n",
    "    alist = []\n",
    "    for _ in range(10000):\n",
    "        result = 0\n",
    "        x_dic,y_dic,key_list,xy_list,y_list = generate_dice2(rep)\n",
    "        \n",
    "        # calculate H(d2)\n",
    "        for each in y_list:\n",
    "            if each != 0:\n",
    "                result -= each * math.log(each,2)\n",
    "        # calculate H(d2) - H(d2|d1=x)    \n",
    "        for i in range(len(key_list)):\n",
    "            x_indx = key_list[i][0] # x variable\n",
    "            result += xy_list[i]*math.log(xy_list[i]/x_dic[x_indx],2)\n",
    "        #result = gain(x_freq, y_freq)\n",
    "        if permutation:\n",
    "            x_freq = [[key_list[i][0]]*int(xy_list[i]*rep) for i in range(len(xy_list))]\n",
    "            y_freq = [[key_list[i][1]]*int(xy_list[i]*rep) for i in range(len(xy_list))]\n",
    "            x_freq = np.array([item for sublist in x_freq for item in sublist])\n",
    "            y_freq = np.array([item for sublist in y_freq for item in sublist])\n",
    "            permut = Permutation(x_freq, y_freq).summary()\n",
    "            result -= permut\n",
    "        alist.append(result)\n",
    "    return alist"
   ]
  },
  {
   "cell_type": "code",
   "execution_count": 5,
   "metadata": {},
   "outputs": [
    {
     "data": {
      "image/png": "[encoded data removed]",
      "text/plain": [
       "<Figure size 432x288 with 1 Axes>"
      ]
     },
     "metadata": {
      "needs_background": "light"
     },
     "output_type": "display_data"
    }
   ],
   "source": [
    "exp1 = main(50)\n",
    "interval = (max(exp1) - min(exp1))/19 \n",
    "bins = [interval * i for i in range(20)]\n",
    "#plt.hist(alist, bins = bins)\n",
    "plt.hist(x=exp1, bins=20, width = 0.035)\n",
    "plt.ylabel('Counts')\n",
    "plt.xlabel('$\\hat I(d_1;d_2)$')\n",
    "plt.grid(axis='y', alpha=0.6)\n",
    "plt.show()"
   ]
  },
  {
   "cell_type": "code",
   "execution_count": 6,
   "metadata": {},
   "outputs": [
    {
     "name": "stdout",
     "output_type": "stream",
     "text": [
      "Expectation of mutual information between 2 dices is:  0.4413340070814011\n"
     ]
    }
   ],
   "source": [
    "exp1_mean = np.mean(exp1)\n",
    "print('Expectation of mutual information between 2 dices is: ', str(exp1_mean))"
   ]
  },
  {
   "cell_type": "markdown",
   "metadata": {},
   "source": [
    "### 1.2 Conculsion\n",
    "\n",
    "In the first experiment, due to $d_1,d_2$ are independent, we should have $I(d_1;d_2) = 0$. But estimate mutual information histogram plot has right tail and $E(\\hat I(d_1;d_2)) \\approx 0.44$"
   ]
  },
  {
   "cell_type": "markdown",
   "metadata": {},
   "source": [
    "### 2.1 Second experiemt to estimate $\\hat I(\\{d_1, d_2, d_3, d_4\\};d_5)$\n",
    "\n",
    "In this experiment, we perform 50 independent rolls and compute $\\hat I(\\{d_1, d_2, d_3, d_4\\};d_5)$ to estimate mutual information. We use [6] to indecate the range of dice number [1,2,3,4,5,6]\n",
    "\n",
    "$\\hat I(\\{d_1, d_2, d_3, d_4\\};d_5) = -\\sum_{d_5 \\in [6]} p(d_5)log(p(d_5)) + \\sum_{\\{d_1, d_2, d_3, d_4\\} \\in \\{[6],[6],[6],[6]\\}}\\sum_{d_5 \\in [6]}p(d_1, d_2, d_3, d_4, d_5)log(\\frac{p(d_1, d_2, d_3, d_4, d_5)}{p(d_1, d_2, d_3, d_4)})$\n",
    "\n",
    "We repeat this process with 10,000 simulations and plot histogram for 20 equal-frequency bins "
   ]
  },
  {
   "cell_type": "code",
   "execution_count": 7,
   "metadata": {},
   "outputs": [],
   "source": [
    "def generate_dice5(rep):\n",
    "    \"\"\"\n",
    "    This part is for generate 5 independent dices\n",
    "    return: dic14_dic: a dictonary of (d1,d2,d3,d4) and p(d1,d2,d3,d4), \n",
    "            dice5_dic: a dictionary of d5 and p(d5)\n",
    "            keys_list: a list contains ({d1,d2,d3,d4},d5) \n",
    "            value_list: a list contains p({d1,d2,d3,d4},d5) \n",
    "            dice5_list: a list contains p(d5)\n",
    "    \"\"\"\n",
    "    # initial [(d1,d2,d3,d4),d5]\n",
    "    alist = []\n",
    "    # create [(d1,d2,d3,d4),d5]\n",
    "    for i in range(rep):\n",
    "        tple1 = (rand_dice(), rand_dice(),rand_dice(), rand_dice()) #(d1,d2,d3,d4)\n",
    "        tple = (tple1, rand_dice()) # (d1,d2,d3,d4),d5\n",
    "        alist.append(tple)\n",
    "    \n",
    "    # count [(d1,d2,d3,d4),d5] into dictionary\n",
    "    dic = {}\n",
    "    for each in alist:\n",
    "        if each not in dic.keys():\n",
    "            dic[each] = 1\n",
    "        else:\n",
    "            dic[each] += 1\n",
    "    \n",
    "    # key_list contains [(d1,d2,d3,d4),d5], and value list contains corresponding counts \n",
    "    keys_list = []\n",
    "    value_list = []\n",
    "    for key, value in dic.items():\n",
    "        keys_list.append(key)\n",
    "        value_list.append(value)\n",
    "    \n",
    "    # change counts into probability\n",
    "    sum_value = sum(value_list)    \n",
    "    value_list = [each/sum_value for each in value_list]\n",
    "        \n",
    "    #initial dice5 list (y list)\n",
    "    dice5_list = [0]*6\n",
    "\n",
    "    keys = [1,2,3,4,5,6]\n",
    "    \n",
    "    # count dice 5 events\n",
    "    for each in alist:\n",
    "        dice5_list[each[1]-1] += 1\n",
    "    \n",
    "    # change count to probability and store it in dictionary\n",
    "    sum_5 = len(alist)    \n",
    "    dice5_list = [each/sum_5 for each in dice5_list]\n",
    "    dice5_dic = dict(zip(keys, dice5_list))\n",
    "    \n",
    "    # initial dice 1-4 dictionary(x)\n",
    "    dic14_dic = {}\n",
    "    for each in alist:\n",
    "        if each[0] not in dic14_dic.keys():\n",
    "            dic14_dic[each[0]] = 1/sum_5\n",
    "        else:\n",
    "            dic14_dic[each[0]] += 1/sum_5\n",
    "    \n",
    "    return dic14_dic, dice5_dic, keys_list, value_list, dice5_list"
   ]
  },
  {
   "cell_type": "code",
   "execution_count": 8,
   "metadata": {},
   "outputs": [],
   "source": [
    "def main1(rep, permutation=False):\n",
    "    \"\"\"\n",
    "    This part is generate 5 independent dices and calculate mutual information.\n",
    "    return: alist: a list contains multiple estimate mutual information in each experiment\n",
    "    \"\"\"\n",
    "    alist = []\n",
    "    for _ in range(10000):\n",
    "        result = 0\n",
    "        x_dic, y_dic, key_list, comb_list, y_list = generate_dice5(rep)\n",
    "        #  calculate H(d1,d2,d3,d4)\n",
    "        for each in y_list:\n",
    "            if each != 0:\n",
    "                result -= each * math.log(each,2)\n",
    "\n",
    "        # calculate H(d1,d2,d3,d4) - H(d5|d1,d2,d3,d4)\n",
    "        for i in range(len(key_list)):\n",
    "            d1 = key_list[i][0][0] # dice 1\n",
    "            d2 = key_list[i][0][1] # dice 2\n",
    "            d3 = key_list[i][0][2] # dice 3\n",
    "            d4 = key_list[i][0][3] # dice 4\n",
    "            result += comb_list[i]*math.log(comb_list[i]/x_dic[(d1,d2,d3,d4)],2)\n",
    "            \n",
    "        if permutation:\n",
    "            x_freq = [[key_list[i][0]]*int(comb_list[i]*rep) for i in range(len(comb_list))]\n",
    "            y_freq = [[key_list[i][1]]*int(comb_list[i]*rep) for i in range(len(comb_list))]\n",
    "            x_freq = np.array([item for sublist in x_freq for item in sublist])\n",
    "            y_freq = np.array([item for sublist in y_freq for item in sublist])\n",
    "            permut = Permutation(x_freq, y_freq).summary()\n",
    "            result -= permut\n",
    "            \n",
    "        alist.append(result)\n",
    "    return alist"
   ]
  },
  {
   "cell_type": "code",
   "execution_count": 9,
   "metadata": {},
   "outputs": [
    {
     "data": {
      "image/png": "[encoded data removed]",
      "text/plain": [
       "<Figure size 432x288 with 1 Axes>"
      ]
     },
     "metadata": {
      "needs_background": "light"
     },
     "output_type": "display_data"
    }
   ],
   "source": [
    "exp2 = main1(50)\n",
    "interval = (max(exp2) - min(exp2))/19 \n",
    "bins = [interval * i for i in range(20)]\n",
    "#plt.hist(alist, bins = bins)\n",
    "plt.hist(x=exp2, bins=20, width = 0.015)\n",
    "plt.ylabel('Counts')\n",
    "plt.xlabel('$\\hat I(\\{d_1, d_2, d_3, d_4\\};d_5)$')\n",
    "plt.grid(axis='y', alpha=0.6)\n",
    "plt.show()"
   ]
  },
  {
   "cell_type": "code",
   "execution_count": 10,
   "metadata": {},
   "outputs": [
    {
     "name": "stdout",
     "output_type": "stream",
     "text": [
      "Expectation of mutual information between 5 dices is:  2.4806299704764685\n"
     ]
    }
   ],
   "source": [
    "exp2_mean = np.mean(exp2)\n",
    "print('Expectation of mutual information between 5 dices is: ', str(exp2_mean))"
   ]
  },
  {
   "cell_type": "markdown",
   "metadata": {},
   "source": [
    "### 2.2 Conculsion\n",
    "\n",
    "In the second experiment, due to all 5 dices are independent, we should have $\\hat I(\\{d_1, d_2, d_3, d_4\\};d_5) = 0$. But estimate mutual information histogram plot has right tail and $E(\\hat I(\\{d_1, d_2, d_3, d_4\\};d_5)) \\approx 2.48$"
   ]
  },
  {
   "cell_type": "markdown",
   "metadata": {},
   "source": [
    "## 3. Permutation Model\n",
    "\n",
    "One of the solution to detect bias term $E_0(\\hat I(\\mathcal{X}, Y))$ is __permutation model__. Bias term $E_0(\\hat I(\\mathcal{X}, Y))$ can be defined as:\n",
    "$$\n",
    "E_0(\\hat I(\\mathcal{X}, Y))= \\frac{1}{n!}\\sum_{\\sigma \\in S_n}\\hat I(\\mathcal{X}, Y_\\sigma)\n",
    "$$  \n",
    ", where $S_n$ is all possible samples after all possible permutation and $\\{\\mathcal{X}, Y_\\sigma\\} \\rightarrow S_n = \\{(X_1, Y_{1\\sigma}),\\dots, (X_n, Y_{n\\sigma})\\}$  \n",
    "Correction term can be defined as:\n",
    "$$\n",
    "E(I_0 (\\mathcal{X}, Y)) = \\hat I(\\mathcal{X}, Y) - E_0(\\hat I(\\mathcal{X}, Y))\n",
    "$$  \n",
    "and __the reliable fraction of mutual information__ as:\n",
    "$$\n",
    "\\hat F_0(\\mathcal{X}, Y) = \\hat I_0(\\mathcal{X}, Y)/\\hat H(Y)\n",
    "$$,\n",
    "$\\hat H(Y)$ is constant normalization, $\\hat F_0(\\mathcal{X}, Y)=1$ means statistical independent and $\\hat F_0(\\mathcal{X}, Y)=0$ refers to functional independent.  \n",
    "\n",
    "It is hard to compute $E_0(\\hat I(\\mathcal{X}, Y))$ with $n!$ possible permutations. We will use __contingency table__ to solve this problem.\n",
    "We observed domain $V(\\mathcal{X}) = \\{X_1, X_2, \\dots, X_R\\}$ and $V(\\mathcal{Y}) = \\{Y_1, Y_2,\\dots, Y_C\\}$. Then, we use marginal counts $a_i = c(\\mathcal{X}=x_i)$, $b_j = c(Y=y_j)$ and $c_{i,j} = c(\\mathcal{X}=x_i, Y=y_j)$. The joint count $\\mathbb{c} = \\{c_{i,j}: 1 \\leq i\\leq R, 1\\leq j\\leq C\\}$  \n",
    "The empirical mutual information can be computed as :\n",
    "\\begin{align}\n",
    "\\hat I(\\mathcal{X}, Y) &= I(\\mathbb{c}) \\\\\n",
    "&= H(Y) - H(Y|\\mathcal{X}) \\\\\n",
    "&= \\sum_{j=1}^Cp(Y=y_j)log(1/p(Y=y_j)) - \\sum_{i=1}^{R}\\sum_{j=1}^{C}p(\\mathcal{X}=x_i, Y=y_j)log(p(\\mathcal{X}=x_i)/p(\\mathcal{X}=x_i, Y=y_j)) \\\\\n",
    "&= \\sum_{i=1}^{R}\\sum_{j=1}^{C}p(c_{i,j})log(\\frac{n}{b_j}) - \\sum_{i=1}^{R}\\sum_{j=1}^{C}p(c_{i,j})log(\\frac{c_{i,j}n}{na_i})\\\\\n",
    "&= \\sum_{i=1}^{R}\\sum_{j=1}^{C}\\frac{c_{i,j}}{n}log(\\frac{c_{i,j} n}{a_ib_j})\n",
    "\\end{align}\n",
    "\n",
    "Then, for $\\sigma \\in S_n$, if we consider $\\mathcal{T} = \\{\\mathbb{c}^\\sigma \\in S_n \\}$ as the set of all possible contingency tables.\n",
    "\n",
    "\\begin{align}\n",
    "E_0(\\hat I(\\mathcal{X}, Y)) &= \\sum_{\\mathbb{C}^\\sigma \\in \\mathcal{T}}\\sum_{i=1}^{R}\\sum_{j=1}^{C} \\hat p_0(\\mathbb{C}^\\sigma)\\frac{c^\\sigma_{i,j}}{n}log(\\frac{c^\\sigma_{i,j}n}{a_ib_j}) \\\\\n",
    "&= \\sum_{c_{i,j}=0}^n\\sum_{i=1}^{R}\\sum_{j=1}^{C} \\hat p_0(c_{i,j})\\frac{c_{i,j}}{n}log(\\frac{c_{i,j}n}{a_ib_j}) \n",
    "\\end{align}\n"
   ]
  },
  {
   "cell_type": "markdown",
   "metadata": {},
   "source": [
    "i.e. If we have following examples \n",
    "\n",
    "|X  \t|Y \t    |\n",
    "|:-:\t|:-:\t|\n",
    "|a      |c      |\n",
    "|a      |c      |\n",
    "|a      |d      |\n",
    "|a      |d      |\n",
    "|a      |d      |\n",
    "|b      |d      |      \n",
    "|b      |d      |      \n",
    "|b      |c      |      \n",
    "\n",
    "\n",
    "| Y\\X  \t| a\t    | b \t|Total |\n",
    "|:-:\t|:-:\t|:-:\t|:     | \n",
    "|c      |2      |1      |3     |\n",
    "|d      |3      |2      |5     |\n",
    "|Total  |5      |3      |8     |\n",
    "\n"
   ]
  },
  {
   "cell_type": "markdown",
   "metadata": {},
   "source": [
    "i.e. If we permut above examples \n",
    "\n",
    "|X  \t|Y \t    |\n",
    "|:-:\t|:-:\t|\n",
    "|a      |d      |\n",
    "|a      |c      |\n",
    "|a      |d      |\n",
    "|a      |d      |\n",
    "|a      |d      |\n",
    "|b      |d      |      \n",
    "|b      |c      |      \n",
    "|b      |c      |      \n",
    "\n",
    "\n",
    "| Y\\X  \t| a\t    | b \t|Total |\n",
    "|:-:\t|:-:\t|:-:\t|:     | \n",
    "|c      |1      |2      |3     |\n",
    "|d      |4      |1      |5     |\n",
    "|Total  |5      |3      |8     |"
   ]
  },
  {
   "cell_type": "markdown",
   "metadata": {},
   "source": [
    "No matter how many times we permute data, marginal counts $a_i = c(\\mathcal{X}=x_i)$, $b_j = c(Y=y_j)$ are always constant. $c_{i, j}$ always has the range of $c_{i,j} \\in [max(0, a_i + b_j - n), min(a_i, b_j)]$.  \n",
    "\n",
    "Under the permutation model, the empirical counts $c_{i,j}$ follow hyper-geometrical distribution.\n",
    "ie\n",
    "$$\n",
    "\\hat p_0(c_{i,j}=k) = (b_j , k) (n-b_j, a_i-k)/(n, a_i)\n",
    "$$"
   ]
  },
  {
   "cell_type": "markdown",
   "metadata": {},
   "source": []
  },
  {
   "cell_type": "markdown",
   "metadata": {},
   "source": [
    "## 4. Repeat Experiment\n",
    "\n",
    "In this section, we want to justify that permutation model can detect expectation of realiable mutual information. It can improve our result closed to real mutual information.\n",
    "\n",
    "First, we repeat Experiment1:\n",
    "* we use 2 dices to estimate mutual information $\\hat I (d_1;d_2)$  "
   ]
  },
  {
   "cell_type": "code",
   "execution_count": 17,
   "metadata": {},
   "outputs": [
    {
     "data": {
      "image/png": "[encoded data removed]",
      "text/plain": [
       "<Figure size 432x288 with 1 Axes>"
      ]
     },
     "metadata": {
      "needs_background": "light"
     },
     "output_type": "display_data"
    }
   ],
   "source": [
    "exp1_rep = main(50, permutation=True)\n",
    "interval = (max(exp1_rep) - min(exp1_rep))/19 \n",
    "bins = [interval * i for i in range(20)]\n",
    "#plt.hist(alist, bins = bins)\n",
    "plt.hist(x=exp1_rep, bins=20, width = 0.035)\n",
    "plt.ylabel('Counts')\n",
    "plt.xlabel('$\\hat I(d_1;d_2)$')\n",
    "plt.grid(axis='y', alpha=0.6)\n",
    "plt.show()"
   ]
  },
  {
   "cell_type": "code",
   "execution_count": 18,
   "metadata": {},
   "outputs": [
    {
     "name": "stdout",
     "output_type": "stream",
     "text": [
      "Expectation of mutual information between 2 dices is:  0.00023612504868454428\n"
     ]
    }
   ],
   "source": [
    "print('Expectation of mutual information between 2 dices is: ', str(np.mean(exp1_rep)))"
   ]
  },
  {
   "cell_type": "markdown",
   "metadata": {},
   "source": [
    "### 4.1 Conculsion\n",
    "\n",
    "In the first experiment, due to 2 independent dices, we have $I(d_1;d_2) = 0$. But estimate mutual information histogram plot has right tail and $E(\\hat I(d_1;d_2)) \\approx 0.44$. After this repeat experiment, we add permutation model to detect bias and we get closed result $E(\\hat I(d_1;d_2)) \\approx 0$"
   ]
  },
  {
   "cell_type": "markdown",
   "metadata": {},
   "source": [
    "Then, we repeat Experiment2:\n",
    "* we use 5 dices to estimate mutual information $\\hat I(\\{d_1, d_2, d_3, d_4\\};d_5)$"
   ]
  },
  {
   "cell_type": "code",
   "execution_count": 13,
   "metadata": {},
   "outputs": [
    {
     "data": {
      "image/png": "[encoded data removed]",
      "text/plain": [
       "<Figure size 432x288 with 1 Axes>"
      ]
     },
     "metadata": {
      "needs_background": "light"
     },
     "output_type": "display_data"
    }
   ],
   "source": [
    "exp2_rep = main(50, permutation=True)\n",
    "interval = (max(exp2_rep) - min(exp2_rep))/19 \n",
    "bins = [interval * i for i in range(20)]\n",
    "#plt.hist(alist, bins = bins)\n",
    "plt.hist(x=exp2_rep, bins=20, width = 0.035)\n",
    "plt.ylabel('Counts')\n",
    "plt.xlabel('$\\hat I(d_1;d_2)$')\n",
    "plt.grid(axis='y', alpha=0.6)\n",
    "plt.show()"
   ]
  },
  {
   "cell_type": "code",
   "execution_count": 14,
   "metadata": {},
   "outputs": [
    {
     "name": "stdout",
     "output_type": "stream",
     "text": [
      "Expectation of mutual information between 2 dices is:  0.0007730498514308425\n"
     ]
    }
   ],
   "source": [
    "print('Expectation of mutual information between 2 dices is: ', str(np.mean(exp2_rep)))"
   ]
  },
  {
   "cell_type": "markdown",
   "metadata": {},
   "source": [
    "### 4.2 Conculsion\n",
    "\n",
    "In the second experiment, We have $\\hat I(\\{d_1, d_2, d_3, d_4\\};d_5) = 0$. But estimate mutual information histogram plot has right tail and $E(\\hat I(\\{d_1, d_2, d_3, d_4\\};d_5)) \\approx 2.48$. After this repeat experiment, we add permutation model to detect bias and we get closed result $E(\\hat I(\\{d_1, d_2, d_3, d_4\\};d_5)) \\approx 0$"
   ]
  },
  {
   "cell_type": "markdown",
   "metadata": {},
   "source": [
    "## 5. Binning Continous data"
   ]
  },
  {
   "cell_type": "markdown",
   "metadata": {},
   "source": [
    "### 5.1 Experiment 1\n",
    "In this case, we want to test MI gain of independent continous variables $(X,Y) \\in N(0, 1)$  \n",
    "We use method: `equal frequency`"
   ]
  },
  {
   "cell_type": "code",
   "execution_count": 22,
   "metadata": {},
   "outputs": [],
   "source": [
    "col_dict = dict(zip(['fraction_of_MI', 'reliable_fraction_of_MI'], [[0 for _ in range(201)] for _ in range(2)]))\n",
    "df_ex1_freq = pd.DataFrame(col_dict)\n",
    "rep = 20\n",
    "for i in range(rep):\n",
    "    mu, sigma = 0, 1 # mean and standard deviation\n",
    "    x = np.random.normal(mu, sigma, 200)\n",
    "    #y_1 = [0 for _ in range(100)]\n",
    "    #y_2 = [1 for _ in range(100)]\n",
    "    #y = np.array(y_1 + y_2)\n",
    "    y = np.random.normal(mu, sigma, 200)\n",
    "    for each in range(0, 200+1):\n",
    "        # variable selection\n",
    "        bin_indi_variables, bin_multi_variables = VariableSelectionMI(estimator = naive_estimate, \n",
    "                                                                      x = x, \n",
    "                                                                      y = y, \n",
    "                                                                      column_names = ['x'],\n",
    "                                                                      bin_type = 'freq',\n",
    "                                                                      xbin=True,\n",
    "                                                                      x_bin = each,\n",
    "                                                                      ybin=False).summary()\n",
    "        df_ex1_freq.loc[each, 'fraction_of_MI'] += bin_indi_variables[0][0]/rep\n",
    "        \n",
    "        bin_indi_variables, bin_multi_variables = VariableSelectionMI(estimator = naive_estimate, \n",
    "                                                                      x = x, \n",
    "                                                                      y = y, \n",
    "                                                                      column_names = ['x'],\n",
    "                                                                      bin_type = 'freq',\n",
    "                                                                      xbin=True,\n",
    "                                                                      x_bin = each,\n",
    "                                                                      ybin=False,\n",
    "                                                                      permut=True).summary()\n",
    "        df_ex1_freq.loc[each, 'reliable_fraction_of_MI'] += bin_indi_variables[0][0]/rep"
   ]
  },
  {
   "cell_type": "code",
   "execution_count": 23,
   "metadata": {},
   "outputs": [
    {
     "data": {
      "text/plain": [
       "Text(0, 0.5, 'MI Gain')"
      ]
     },
     "execution_count": 23,
     "metadata": {},
     "output_type": "execute_result"
    },
    {
     "data": {
      "image/png": "[encoded data removed]",
      "text/plain": [
       "<Figure size 432x288 with 1 Axes>"
      ]
     },
     "metadata": {
      "needs_background": "light"
     },
     "output_type": "display_data"
    }
   ],
   "source": [
    "df_ex1_freq['exp_reliable_fraction_of_MI'] = df_ex1_freq['fraction_of_MI'] - df_ex1_freq['reliable_fraction_of_MI']\n",
    "ax = df_ex1_freq.plot(title='Number of bins vs MI Gain')\n",
    "ax.set_xlabel(\"Number of bins\")\n",
    "ax.set_ylabel('MI Gain')"
   ]
  },
  {
   "cell_type": "code",
   "execution_count": 24,
   "metadata": {},
   "outputs": [
    {
     "data": {
      "text/plain": [
       "<AxesSubplot:>"
      ]
     },
     "execution_count": 24,
     "metadata": {},
     "output_type": "execute_result"
    },
    {
     "data": {
      "image/png": "[encoded data removed]",
      "text/plain": [
       "<Figure size 432x288 with 1 Axes>"
      ]
     },
     "metadata": {
      "needs_background": "light"
     },
     "output_type": "display_data"
    }
   ],
   "source": [
    "df_ex1_freq['reliable_fraction_of_MI'].plot()"
   ]
  },
  {
   "cell_type": "markdown",
   "metadata": {},
   "source": [
    "### 5.2 Conclusion\n",
    "\n",
    "Although ${X, Y} \\in N(0, 1)$ is independent, it still shows dependency with more bins by chance. After using permutation model, we can find with bins increasing, bias term is increasing. We can get accurate result.  "
   ]
  },
  {
   "cell_type": "markdown",
   "metadata": {},
   "source": [
    "### 5.2 Experiment 2\n",
    "In this case, we want to test MI gain of dependent continous variables $(X,Y) \\in N(0, 1)$  \n",
    "We set\n",
    "$$ y_i=\\left\\{\\begin{array}{ll}\n",
    "1 & \\text { for } x_i \\leq 0 \\\\\n",
    "0 & \\text { otherwise }\n",
    "\\end{array}\\right.$$\n",
    "\n",
    "Similarly, We use method: `equal frequency`  \n",
    "\n",
    "__Equal frequency__"
   ]
  },
  {
   "cell_type": "code",
   "execution_count": 25,
   "metadata": {},
   "outputs": [],
   "source": [
    "col_dict = dict(zip(['fraction_of_MI', 'reliable_fraction_of_MI'], [[0 for _ in range(201)] for _ in range(2)]))\n",
    "df_ex2_freq = pd.DataFrame(col_dict)\n",
    "rep = 20\n",
    "for i in range(rep):\n",
    "    mu, sigma = 0, 1 # mean and standard deviation\n",
    "    x = np.random.normal(mu, sigma, 200)\n",
    "    x = abs(x)\n",
    "    for i in range(len(x)):\n",
    "        if i < len(x)/2:\n",
    "            x[i] = -1 * x[i]\n",
    "    y = []\n",
    "    for each in x:\n",
    "        if each <= 0:\n",
    "            res = 1\n",
    "        else:\n",
    "            res = 0\n",
    "        y.append(res)\n",
    "    y = np.array(y)\n",
    "    for each in range(0, 201):\n",
    "        # variable selection\n",
    "        bin_indi_variables, bin_multi_variables = VariableSelectionMI(estimator = naive_estimate, \n",
    "                                                                      x = x, \n",
    "                                                                      y = y, \n",
    "                                                                      column_names = ['x'],\n",
    "                                                                      bin_type = 'freq',\n",
    "                                                                      xbin=True,\n",
    "                                                                      x_bin = each,\n",
    "                                                                      ybin=False).summary()\n",
    "        df_ex2_freq.loc[each, 'fraction_of_MI'] += bin_indi_variables[0][0]/rep\n",
    "        \n",
    "        bin_indi_variables, bin_multi_variables = VariableSelectionMI(estimator = naive_estimate, \n",
    "                                                                      x = x, \n",
    "                                                                      y = y, \n",
    "                                                                      column_names = ['x'],\n",
    "                                                                      bin_type = 'freq',\n",
    "                                                                      xbin=True,\n",
    "                                                                      x_bin = each,\n",
    "                                                                      ybin=False, permut=True).summary()\n",
    "        df_ex2_freq.loc[each, 'reliable_fraction_of_MI'] += bin_indi_variables[0][0]/rep"
   ]
  },
  {
   "cell_type": "code",
   "execution_count": 26,
   "metadata": {},
   "outputs": [
    {
     "data": {
      "text/plain": [
       "Text(0, 0.5, 'MI Gain')"
      ]
     },
     "execution_count": 26,
     "metadata": {},
     "output_type": "execute_result"
    },
    {
     "data": {
      "image/png": "[encoded data removed]",
      "text/plain": [
       "<Figure size 432x288 with 1 Axes>"
      ]
     },
     "metadata": {
      "needs_background": "light"
     },
     "output_type": "display_data"
    }
   ],
   "source": [
    "df_ex2_freq['exp_fraction_of_MI'] = df_ex2_freq['fraction_of_MI'] - df_ex2_freq['reliable_fraction_of_MI']\n",
    "ax = df_ex2_freq.plot(title='Number of bins vs MI Gain')\n",
    "ax.set_xlabel(\"Number of bins\")\n",
    "ax.set_ylabel(\"MI Gain\")"
   ]
  },
  {
   "cell_type": "code",
   "execution_count": 35,
   "metadata": {},
   "outputs": [],
   "source": [
    "# df_ex2_freq.reliable_fraction_of_MI.tolist().index(df_ex2_freq.reliable_fraction_of_MI.max())"
   ]
  },
  {
   "cell_type": "markdown",
   "metadata": {},
   "source": [
    "### 5.3 Conclusion\n",
    "\n",
    "In this section, ${X} \\rightarrow Y \\in \\{0, 1\\}$ is dependent, it should show highest MI when bins =2. After experiment, it shows the highest of mutual information when bins=2, which matches our expectation. After that, with more bins, MI will drop because of closer to uniform distribution in each bin. Thus, highest MI will be our reliable MI."
   ]
  },
  {
   "cell_type": "code",
   "execution_count": null,
   "metadata": {},
   "outputs": [],
   "source": []
  },
  {
   "cell_type": "code",
   "execution_count": null,
   "metadata": {},
   "outputs": [],
   "source": []
  }
 ],
 "metadata": {
  "kernelspec": {
   "display_name": "Python 3",
   "language": "python",
   "name": "python3"
  },
  "language_info": {
   "codemirror_mode": {
    "name": "ipython",
    "version": 3
   },
   "file_extension": ".py",
   "mimetype": "text/x-python",
   "name": "python",
   "nbconvert_exporter": "python",
   "pygments_lexer": "ipython3",
   "version": "3.7.6"
  }
 },
 "nbformat": 4,
 "nbformat_minor": 4
}
