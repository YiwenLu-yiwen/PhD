{
 "cells": [
  {
   "cell_type": "code",
   "execution_count": 1,
   "metadata": {},
   "outputs": [],
   "source": [
    "from data_generator import dataGenerator2d\n",
    "from efficiency_joint_discretization import jointDiscretization"
   ]
  },
  {
   "cell_type": "code",
   "execution_count": 6,
   "metadata": {},
   "outputs": [
    {
     "data": {
      "text/plain": [
       "(0.9134884254747143, [0, 0, 1, 1])"
      ]
     },
     "execution_count": 6,
     "metadata": {},
     "output_type": "execute_result"
    }
   ],
   "source": [
    "data, y = dataGenerator2d(50, 50).fit()\n",
    "\n",
    "data['Y'] = y\n",
    "best_subsetData_list, best_fmi, dim_list = jointDiscretization(data)\n",
    "best_fmi, dim_list"
   ]
  },
  {
   "cell_type": "code",
   "execution_count": 8,
   "metadata": {},
   "outputs": [
    {
     "data": {
      "text/plain": [
       "(0.9494060301794242, [1, 1, 0, 0])"
      ]
     },
     "execution_count": 8,
     "metadata": {},
     "output_type": "execute_result"
    }
   ],
   "source": [
    "data, y = dataGenerator2d(100, 50).fit()\n",
    "\n",
    "data['Y'] = y\n",
    "best_subsetData_list, best_fmi, dim_list = jointDiscretization(data)\n",
    "best_fmi, dim_list"
   ]
  },
  {
   "cell_type": "code",
   "execution_count": 9,
   "metadata": {},
   "outputs": [],
   "source": [
    "data, y = dataGenerator2d(200, 50).fit()\n",
    "\n",
    "data['Y'] = y\n",
    "best_subsetData_list, best_fmi, dim_list = jointDiscretization(data)\n",
    "best_fmi, dim_list"
   ]
  },
  {
   "cell_type": "code",
   "execution_count": null,
   "metadata": {},
   "outputs": [],
   "source": [
    "data, y = dataGenerator2d(500, 50).fit()\n",
    "\n",
    "data['Y'] = y\n",
    "best_subsetData_list, best_fmi, dim_list = jointDiscretization(data)\n",
    "best_fmi, dim_list"
   ]
  },
  {
   "cell_type": "code",
   "execution_count": null,
   "metadata": {},
   "outputs": [],
   "source": [
    "data, y = dataGenerator2d(1000, 50).fit()\n",
    "\n",
    "data['Y'] = y\n",
    "best_subsetData_list, best_fmi, dim_list = jointDiscretization(data)\n",
    "best_fmi, dim_list"
   ]
  },
  {
   "cell_type": "code",
   "execution_count": null,
   "metadata": {},
   "outputs": [],
   "source": [
    "data, y = dataGenerator2d(1000, 50).fit()\n",
    "\n",
    "data['Y'] = y\n",
    "best_subsetData_list, best_fmi, dim_list = jointDiscretization(data)\n",
    "best_fmi, dim_list"
   ]
  }
 ],
 "metadata": {
  "kernelspec": {
   "display_name": "Python 3.9.12 ('base')",
   "language": "python",
   "name": "python3"
  },
  "language_info": {
   "codemirror_mode": {
    "name": "ipython",
    "version": 3
   },
   "file_extension": ".py",
   "mimetype": "text/x-python",
   "name": "python",
   "nbconvert_exporter": "python",
   "pygments_lexer": "ipython3",
   "version": "3.9.12"
  },
  "orig_nbformat": 4,
  "vscode": {
   "interpreter": {
    "hash": "1304dd6425b372aa8285a68c11c3f25cfbbc0c3931e5f36be2c30c57a28c8b2c"
   }
  }
 },
 "nbformat": 4,
 "nbformat_minor": 2
}
