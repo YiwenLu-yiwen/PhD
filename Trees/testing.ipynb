{
 "cells": [
  {
   "cell_type": "code",
   "execution_count": 2,
   "metadata": {},
   "outputs": [
    {
     "data": {
      "text/plain": [
       "<matplotlib.contour.QuadContourSet at 0x7fcbf09588e0>"
      ]
     },
     "execution_count": 2,
     "metadata": {},
     "output_type": "execute_result"
    },
    {
     "data": {
      "image/png": "[encoded data removed]",
      "text/plain": [
       "<Figure size 432x288 with 1 Axes>"
      ]
     },
     "metadata": {
      "needs_background": "light"
     },
     "output_type": "display_data"
    }
   ],
   "source": [
    "# test settings:\n",
    "import numpy as np\n",
    "from scipy.special import expit\n",
    "import matplotlib.pyplot as plt\n",
    "\n",
    "# RNG = np.random.default_rng(seed = 0)\n",
    "x1 = np.random.normal(0,1,1000)\n",
    "x2 = np.random.normal(0,1,1000)\n",
    "X1, X2 = np.meshgrid(x1, x2)\n",
    "\n",
    "y = expit(X1 * X2) >= 0.5 #np.sin(1*X)*np.sin(1*Y)>= 0.5\n",
    "plt.contourf(X1, X2, y, levels=[0,.9]) # polka dot z-values here are 0s and 1s"
   ]
  },
  {
   "cell_type": "code",
   "execution_count": 3,
   "metadata": {},
   "outputs": [],
   "source": [
    "from functionTree import rpTree, kdTree, classifcationTree, honestTree\n",
    "from baseline_models import forward_selection, lasso_base_model\n",
    "from variable_selection import variable_sel, Pool, evaluation_result\n",
    "import os\n",
    "import pandas as pd\n",
    "def data_generator(n=1000, irr=98):\n",
    "    x1 = np.random.normal(0,1,n)\n",
    "    x2 = np.random.normal(0,1,n)\n",
    "    targets = expit(x1 * x2) >= 0.5\n",
    "    irr_lst = [np.random.normal(0, 1, n) for _ in range(irr)]\n",
    "    for each in [x1, x2]:\n",
    "        irr_lst.append(each)\n",
    "    irr_columns = ['X' + str(i) for i in range(3, irr+3)]\n",
    "    rr_columns = ['X1', 'X2']\n",
    "    cols = irr_columns + rr_columns\n",
    "    predictors = pd.DataFrame(np.column_stack(irr_lst))\n",
    "    predictors.columns = cols\n",
    "    return predictors, targets\n",
    "\n",
    "PROJECT_ROOT_DIR = \".\"\n",
    "OUTPUTPATH = os.path.join(PROJECT_ROOT_DIR, \"output/test1\")"
   ]
  },
  {
   "cell_type": "code",
   "execution_count": 4,
   "metadata": {},
   "outputs": [
    {
     "name": "stdout",
     "output_type": "stream",
     "text": [
      "20\n",
      "6.625624372000001\n",
      "50\n",
      "14.199119453000002\n",
      "100\n",
      "27.845832817\n",
      "500\n",
      "196.64339326599998\n"
     ]
    }
   ],
   "source": [
    "import pandas as pd\n",
    "import timeit\n",
    "import warnings\n",
    "from copy import deepcopy\n",
    "warnings.filterwarnings(\"ignore\")\n",
    "# from DataGenerator import *\n",
    "variable_lst = []\n",
    "aic_list = []\n",
    "accuracy_list = []\n",
    "recall_list = []\n",
    "precision_list = []\n",
    "f1_list = []\n",
    "types_list = []\n",
    "pool = Pool()\n",
    "rep = 1\n",
    "model_dic = {'rp': rpTree(Rep=rep),\n",
    "        'kd': kdTree(Rep=rep),\n",
    "        'classification': classifcationTree(Rep=rep),\n",
    "        'honest': honestTree(Rep=rep),\n",
    "        'linear': forward_selection,\n",
    "        'lasso': lasso_base_model}\n",
    "\n",
    "for size in [20, 50, 100, 500, 1000, 2000, 4000, 8000]: # may add more sample sizes\n",
    "    start = timeit.default_timer()\n",
    "    for _ in range(1):\n",
    "        predictors, target = data_generator(size, 48)  # for train, only relevant\n",
    "        \n",
    "        total_columns = list(predictors.columns)\n",
    "        pos_columns = ['X1', 'X2']\n",
    "        neg_columns = [each for each in total_columns if each not in pos_columns]\n",
    "\n",
    "        for model_name in model_dic:\n",
    "            model = deepcopy(model_dic[model_name])\n",
    "            if model_name == 'linear':\n",
    "                best_subset, best_aic = model(predictors, target)\n",
    "            elif model_name == 'lasso':\n",
    "                best_subset = model(predictors, target)\n",
    "            else:\n",
    "                best_subset, best_aic = variable_sel(predictors, target, pool, model, best_subset=[])\n",
    "            accuracy, recall, precision, f1 = evaluation_result(best_subset, pos_columns, neg_columns)\n",
    "            variable_lst.append(best_subset)\n",
    "            aic_list.append(best_aic)\n",
    "            accuracy_list.append(accuracy)\n",
    "            recall_list.append(recall)\n",
    "            precision_list.append(precision)\n",
    "            f1_list.append(f1)\n",
    "            types_list.append(model_name)\n",
    "        \n",
    "    file_name = str(size) + '.csv'\n",
    "    dic_current = {'aic': aic_list, 'Acc': accuracy_list, 'Recall': recall_list, \n",
    "                    'precision': precision_list, 'f1': f1_list, 'variables': variable_lst, 'types': types_list}\n",
    "    df = pd.DataFrame(dic_current)\n",
    "    df.to_csv(os.path.join(OUTPUTPATH, file_name), index=False)\n",
    "    end = timeit.default_timer()\n",
    "    print(size)\n",
    "    print(end-start)\n",
    "pool.close()"
   ]
  },
  {
   "cell_type": "code",
   "execution_count": null,
   "metadata": {},
   "outputs": [],
   "source": []
  }
 ],
 "metadata": {
  "kernelspec": {
   "display_name": "Python 3.8.5 ('base')",
   "language": "python",
   "name": "python3"
  },
  "language_info": {
   "codemirror_mode": {
    "name": "ipython",
    "version": 3
   },
   "file_extension": ".py",
   "mimetype": "text/x-python",
   "name": "python",
   "nbconvert_exporter": "python",
   "pygments_lexer": "ipython3",
   "version": "3.8.5"
  },
  "orig_nbformat": 4,
  "vscode": {
   "interpreter": {
    "hash": "40d3a090f54c6569ab1632332b64b2c03c39dcf918b08424e98f38b5ae0af88f"
   }
  }
 },
 "nbformat": 4,
 "nbformat_minor": 2
}
