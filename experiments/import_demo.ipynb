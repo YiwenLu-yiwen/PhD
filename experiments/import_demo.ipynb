{
 "metadata": {
  "language_info": {
   "codemirror_mode": {
    "name": "ipython",
    "version": 3
   },
   "file_extension": ".py",
   "mimetype": "text/x-python",
   "name": "python",
   "nbconvert_exporter": "python",
   "pygments_lexer": "ipython3",
   "version": "3.7.7-final"
  },
  "orig_nbformat": 2,
  "kernelspec": {
   "name": "Python 3.7.7 64-bit",
   "display_name": "Python 3.7.7 64-bit",
   "metadata": {
    "interpreter": {
     "hash": "aee8b7b246df8f9039afb4144a1f6fd8d2ca17a180786b69acc140d282b71a49"
    }
   }
  }
 },
 "nbformat": 4,
 "nbformat_minor": 2,
 "cells": [
  {
   "cell_type": "code",
   "execution_count": 2,
   "metadata": {},
   "outputs": [
    {
     "output_type": "execute_result",
     "data": {
      "text/plain": [
       "array([0.63696169, 0.26978671, 0.04097352, 0.01652764, 0.81327024,\n",
       "       0.91275558, 0.60663578, 0.72949656, 0.54362499, 0.93507242,\n",
       "       0.81585355, 0.0027385 , 0.85740428, 0.03358558, 0.72965545,\n",
       "       0.17565562, 0.86317892, 0.54146122, 0.29971189, 0.42268722])"
      ]
     },
     "metadata": {},
     "execution_count": 2
    }
   ],
   "source": [
    "from numpy import array\n",
    "from numpy.random import default_rng\n",
    "\n",
    "RNG = default_rng(seed=0)\n",
    "\n",
    "x = RNG.random(20)\n",
    "x"
   ]
  },
  {
   "cell_type": "code",
   "execution_count": 5,
   "metadata": {},
   "outputs": [
    {
     "output_type": "execute_result",
     "data": {
      "text/plain": [
       "array([6, 2, 0, 0, 8, 9, 6, 7, 5, 9, 8, 0, 8, 0, 7, 1, 8, 5, 2, 4])"
      ]
     },
     "metadata": {},
     "execution_count": 5
    }
   ],
   "source": [
    "from binning import equal_width\n",
    "\n",
    "equal_width(x, 10, a=0, b=1)"
   ]
  }
 ]
}